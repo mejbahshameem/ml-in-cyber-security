{
  "nbformat": 4,
  "nbformat_minor": 0,
  "metadata": {
    "colab": {
      "name": "teamNoobies_project2.ipynb",
      "provenance": [],
      "collapsed_sections": []
    },
    "kernelspec": {
      "display_name": "Python 3",
      "language": "python",
      "name": "python3"
    },
    "language_info": {
      "codemirror_mode": {
        "name": "ipython",
        "version": 3
      },
      "file_extension": ".py",
      "mimetype": "text/x-python",
      "name": "python",
      "nbconvert_exporter": "python",
      "pygments_lexer": "ipython3",
      "version": "3.6.9"
    },
    "widgets": {
      "application/vnd.jupyter.widget-state+json": {
        "81a0b9c6f11a41f7b3dcc31599f511ee": {
          "model_module": "@jupyter-widgets/controls",
          "model_name": "HBoxModel",
          "state": {
            "_view_name": "HBoxView",
            "_dom_classes": [],
            "_model_name": "HBoxModel",
            "_view_module": "@jupyter-widgets/controls",
            "_model_module_version": "1.5.0",
            "_view_count": null,
            "_view_module_version": "1.5.0",
            "box_style": "",
            "layout": "IPY_MODEL_5e0a0d854e934050a7e440c8cdcc5d01",
            "_model_module": "@jupyter-widgets/controls",
            "children": [
              "IPY_MODEL_8c0bdfd6509048f8ab06f9a595db5c23",
              "IPY_MODEL_591b7f4f980a425c8ddc1eb1ee925c0b"
            ]
          }
        },
        "5e0a0d854e934050a7e440c8cdcc5d01": {
          "model_module": "@jupyter-widgets/base",
          "model_name": "LayoutModel",
          "state": {
            "_view_name": "LayoutView",
            "grid_template_rows": null,
            "right": null,
            "justify_content": null,
            "_view_module": "@jupyter-widgets/base",
            "overflow": null,
            "_model_module_version": "1.2.0",
            "_view_count": null,
            "flex_flow": null,
            "width": null,
            "min_width": null,
            "border": null,
            "align_items": null,
            "bottom": null,
            "_model_module": "@jupyter-widgets/base",
            "top": null,
            "grid_column": null,
            "overflow_y": null,
            "overflow_x": null,
            "grid_auto_flow": null,
            "grid_area": null,
            "grid_template_columns": null,
            "flex": null,
            "_model_name": "LayoutModel",
            "justify_items": null,
            "grid_row": null,
            "max_height": null,
            "align_content": null,
            "visibility": null,
            "align_self": null,
            "height": null,
            "min_height": null,
            "padding": null,
            "grid_auto_rows": null,
            "grid_gap": null,
            "max_width": null,
            "order": null,
            "_view_module_version": "1.2.0",
            "grid_template_areas": null,
            "object_position": null,
            "object_fit": null,
            "grid_auto_columns": null,
            "margin": null,
            "display": null,
            "left": null
          }
        },
        "8c0bdfd6509048f8ab06f9a595db5c23": {
          "model_module": "@jupyter-widgets/controls",
          "model_name": "FloatProgressModel",
          "state": {
            "_view_name": "ProgressView",
            "style": "IPY_MODEL_fc62709388ef4f6f836b09f5b45d924d",
            "_dom_classes": [],
            "description": "",
            "_model_name": "FloatProgressModel",
            "bar_style": "info",
            "max": 1,
            "_view_module": "@jupyter-widgets/controls",
            "_model_module_version": "1.5.0",
            "value": 1,
            "_view_count": null,
            "_view_module_version": "1.5.0",
            "orientation": "horizontal",
            "min": 0,
            "description_tooltip": null,
            "_model_module": "@jupyter-widgets/controls",
            "layout": "IPY_MODEL_4b6b6724899749b28e84a70cd1749114"
          }
        },
        "591b7f4f980a425c8ddc1eb1ee925c0b": {
          "model_module": "@jupyter-widgets/controls",
          "model_name": "HTMLModel",
          "state": {
            "_view_name": "HTMLView",
            "style": "IPY_MODEL_2c5344c43e214676b7cc77948752015c",
            "_dom_classes": [],
            "description": "",
            "_model_name": "HTMLModel",
            "placeholder": "​",
            "_view_module": "@jupyter-widgets/controls",
            "_model_module_version": "1.5.0",
            "value": " 9920512/? [00:20&lt;00:00, 1111969.94it/s]",
            "_view_count": null,
            "_view_module_version": "1.5.0",
            "description_tooltip": null,
            "_model_module": "@jupyter-widgets/controls",
            "layout": "IPY_MODEL_b318621cd4634f78bff7971999bc00a3"
          }
        },
        "fc62709388ef4f6f836b09f5b45d924d": {
          "model_module": "@jupyter-widgets/controls",
          "model_name": "ProgressStyleModel",
          "state": {
            "_view_name": "StyleView",
            "_model_name": "ProgressStyleModel",
            "description_width": "initial",
            "_view_module": "@jupyter-widgets/base",
            "_model_module_version": "1.5.0",
            "_view_count": null,
            "_view_module_version": "1.2.0",
            "bar_color": null,
            "_model_module": "@jupyter-widgets/controls"
          }
        },
        "4b6b6724899749b28e84a70cd1749114": {
          "model_module": "@jupyter-widgets/base",
          "model_name": "LayoutModel",
          "state": {
            "_view_name": "LayoutView",
            "grid_template_rows": null,
            "right": null,
            "justify_content": null,
            "_view_module": "@jupyter-widgets/base",
            "overflow": null,
            "_model_module_version": "1.2.0",
            "_view_count": null,
            "flex_flow": null,
            "width": null,
            "min_width": null,
            "border": null,
            "align_items": null,
            "bottom": null,
            "_model_module": "@jupyter-widgets/base",
            "top": null,
            "grid_column": null,
            "overflow_y": null,
            "overflow_x": null,
            "grid_auto_flow": null,
            "grid_area": null,
            "grid_template_columns": null,
            "flex": null,
            "_model_name": "LayoutModel",
            "justify_items": null,
            "grid_row": null,
            "max_height": null,
            "align_content": null,
            "visibility": null,
            "align_self": null,
            "height": null,
            "min_height": null,
            "padding": null,
            "grid_auto_rows": null,
            "grid_gap": null,
            "max_width": null,
            "order": null,
            "_view_module_version": "1.2.0",
            "grid_template_areas": null,
            "object_position": null,
            "object_fit": null,
            "grid_auto_columns": null,
            "margin": null,
            "display": null,
            "left": null
          }
        },
        "2c5344c43e214676b7cc77948752015c": {
          "model_module": "@jupyter-widgets/controls",
          "model_name": "DescriptionStyleModel",
          "state": {
            "_view_name": "StyleView",
            "_model_name": "DescriptionStyleModel",
            "description_width": "",
            "_view_module": "@jupyter-widgets/base",
            "_model_module_version": "1.5.0",
            "_view_count": null,
            "_view_module_version": "1.2.0",
            "_model_module": "@jupyter-widgets/controls"
          }
        },
        "b318621cd4634f78bff7971999bc00a3": {
          "model_module": "@jupyter-widgets/base",
          "model_name": "LayoutModel",
          "state": {
            "_view_name": "LayoutView",
            "grid_template_rows": null,
            "right": null,
            "justify_content": null,
            "_view_module": "@jupyter-widgets/base",
            "overflow": null,
            "_model_module_version": "1.2.0",
            "_view_count": null,
            "flex_flow": null,
            "width": null,
            "min_width": null,
            "border": null,
            "align_items": null,
            "bottom": null,
            "_model_module": "@jupyter-widgets/base",
            "top": null,
            "grid_column": null,
            "overflow_y": null,
            "overflow_x": null,
            "grid_auto_flow": null,
            "grid_area": null,
            "grid_template_columns": null,
            "flex": null,
            "_model_name": "LayoutModel",
            "justify_items": null,
            "grid_row": null,
            "max_height": null,
            "align_content": null,
            "visibility": null,
            "align_self": null,
            "height": null,
            "min_height": null,
            "padding": null,
            "grid_auto_rows": null,
            "grid_gap": null,
            "max_width": null,
            "order": null,
            "_view_module_version": "1.2.0",
            "grid_template_areas": null,
            "object_position": null,
            "object_fit": null,
            "grid_auto_columns": null,
            "margin": null,
            "display": null,
            "left": null
          }
        },
        "461592caeb8e457cb08b8992c0f60314": {
          "model_module": "@jupyter-widgets/controls",
          "model_name": "HBoxModel",
          "state": {
            "_view_name": "HBoxView",
            "_dom_classes": [],
            "_model_name": "HBoxModel",
            "_view_module": "@jupyter-widgets/controls",
            "_model_module_version": "1.5.0",
            "_view_count": null,
            "_view_module_version": "1.5.0",
            "box_style": "",
            "layout": "IPY_MODEL_9a0a0e5a24ab4fe192ef4966810d8d60",
            "_model_module": "@jupyter-widgets/controls",
            "children": [
              "IPY_MODEL_e2b4db93055f4cba83f53ee2845ce9f0",
              "IPY_MODEL_e45d70fb34514108beef8630fd039727"
            ]
          }
        },
        "9a0a0e5a24ab4fe192ef4966810d8d60": {
          "model_module": "@jupyter-widgets/base",
          "model_name": "LayoutModel",
          "state": {
            "_view_name": "LayoutView",
            "grid_template_rows": null,
            "right": null,
            "justify_content": null,
            "_view_module": "@jupyter-widgets/base",
            "overflow": null,
            "_model_module_version": "1.2.0",
            "_view_count": null,
            "flex_flow": null,
            "width": null,
            "min_width": null,
            "border": null,
            "align_items": null,
            "bottom": null,
            "_model_module": "@jupyter-widgets/base",
            "top": null,
            "grid_column": null,
            "overflow_y": null,
            "overflow_x": null,
            "grid_auto_flow": null,
            "grid_area": null,
            "grid_template_columns": null,
            "flex": null,
            "_model_name": "LayoutModel",
            "justify_items": null,
            "grid_row": null,
            "max_height": null,
            "align_content": null,
            "visibility": null,
            "align_self": null,
            "height": null,
            "min_height": null,
            "padding": null,
            "grid_auto_rows": null,
            "grid_gap": null,
            "max_width": null,
            "order": null,
            "_view_module_version": "1.2.0",
            "grid_template_areas": null,
            "object_position": null,
            "object_fit": null,
            "grid_auto_columns": null,
            "margin": null,
            "display": null,
            "left": null
          }
        },
        "e2b4db93055f4cba83f53ee2845ce9f0": {
          "model_module": "@jupyter-widgets/controls",
          "model_name": "FloatProgressModel",
          "state": {
            "_view_name": "ProgressView",
            "style": "IPY_MODEL_a0e14b34ff58454488c47767464ccc5e",
            "_dom_classes": [],
            "description": "",
            "_model_name": "FloatProgressModel",
            "bar_style": "success",
            "max": 1,
            "_view_module": "@jupyter-widgets/controls",
            "_model_module_version": "1.5.0",
            "value": 1,
            "_view_count": null,
            "_view_module_version": "1.5.0",
            "orientation": "horizontal",
            "min": 0,
            "description_tooltip": null,
            "_model_module": "@jupyter-widgets/controls",
            "layout": "IPY_MODEL_edd216a5cd5d4359a8b76ded8af5f017"
          }
        },
        "e45d70fb34514108beef8630fd039727": {
          "model_module": "@jupyter-widgets/controls",
          "model_name": "HTMLModel",
          "state": {
            "_view_name": "HTMLView",
            "style": "IPY_MODEL_7c7a9711e5954169928f4ca28be2c435",
            "_dom_classes": [],
            "description": "",
            "_model_name": "HTMLModel",
            "placeholder": "​",
            "_view_module": "@jupyter-widgets/controls",
            "_model_module_version": "1.5.0",
            "value": " 32768/? [00:00&lt;00:00, 33626.15it/s]",
            "_view_count": null,
            "_view_module_version": "1.5.0",
            "description_tooltip": null,
            "_model_module": "@jupyter-widgets/controls",
            "layout": "IPY_MODEL_780949dc1d7842d5953e0fb4be29d8a8"
          }
        },
        "a0e14b34ff58454488c47767464ccc5e": {
          "model_module": "@jupyter-widgets/controls",
          "model_name": "ProgressStyleModel",
          "state": {
            "_view_name": "StyleView",
            "_model_name": "ProgressStyleModel",
            "description_width": "initial",
            "_view_module": "@jupyter-widgets/base",
            "_model_module_version": "1.5.0",
            "_view_count": null,
            "_view_module_version": "1.2.0",
            "bar_color": null,
            "_model_module": "@jupyter-widgets/controls"
          }
        },
        "edd216a5cd5d4359a8b76ded8af5f017": {
          "model_module": "@jupyter-widgets/base",
          "model_name": "LayoutModel",
          "state": {
            "_view_name": "LayoutView",
            "grid_template_rows": null,
            "right": null,
            "justify_content": null,
            "_view_module": "@jupyter-widgets/base",
            "overflow": null,
            "_model_module_version": "1.2.0",
            "_view_count": null,
            "flex_flow": null,
            "width": null,
            "min_width": null,
            "border": null,
            "align_items": null,
            "bottom": null,
            "_model_module": "@jupyter-widgets/base",
            "top": null,
            "grid_column": null,
            "overflow_y": null,
            "overflow_x": null,
            "grid_auto_flow": null,
            "grid_area": null,
            "grid_template_columns": null,
            "flex": null,
            "_model_name": "LayoutModel",
            "justify_items": null,
            "grid_row": null,
            "max_height": null,
            "align_content": null,
            "visibility": null,
            "align_self": null,
            "height": null,
            "min_height": null,
            "padding": null,
            "grid_auto_rows": null,
            "grid_gap": null,
            "max_width": null,
            "order": null,
            "_view_module_version": "1.2.0",
            "grid_template_areas": null,
            "object_position": null,
            "object_fit": null,
            "grid_auto_columns": null,
            "margin": null,
            "display": null,
            "left": null
          }
        },
        "7c7a9711e5954169928f4ca28be2c435": {
          "model_module": "@jupyter-widgets/controls",
          "model_name": "DescriptionStyleModel",
          "state": {
            "_view_name": "StyleView",
            "_model_name": "DescriptionStyleModel",
            "description_width": "",
            "_view_module": "@jupyter-widgets/base",
            "_model_module_version": "1.5.0",
            "_view_count": null,
            "_view_module_version": "1.2.0",
            "_model_module": "@jupyter-widgets/controls"
          }
        },
        "780949dc1d7842d5953e0fb4be29d8a8": {
          "model_module": "@jupyter-widgets/base",
          "model_name": "LayoutModel",
          "state": {
            "_view_name": "LayoutView",
            "grid_template_rows": null,
            "right": null,
            "justify_content": null,
            "_view_module": "@jupyter-widgets/base",
            "overflow": null,
            "_model_module_version": "1.2.0",
            "_view_count": null,
            "flex_flow": null,
            "width": null,
            "min_width": null,
            "border": null,
            "align_items": null,
            "bottom": null,
            "_model_module": "@jupyter-widgets/base",
            "top": null,
            "grid_column": null,
            "overflow_y": null,
            "overflow_x": null,
            "grid_auto_flow": null,
            "grid_area": null,
            "grid_template_columns": null,
            "flex": null,
            "_model_name": "LayoutModel",
            "justify_items": null,
            "grid_row": null,
            "max_height": null,
            "align_content": null,
            "visibility": null,
            "align_self": null,
            "height": null,
            "min_height": null,
            "padding": null,
            "grid_auto_rows": null,
            "grid_gap": null,
            "max_width": null,
            "order": null,
            "_view_module_version": "1.2.0",
            "grid_template_areas": null,
            "object_position": null,
            "object_fit": null,
            "grid_auto_columns": null,
            "margin": null,
            "display": null,
            "left": null
          }
        },
        "9b564c06b4b74e03be9944f2bc2144b6": {
          "model_module": "@jupyter-widgets/controls",
          "model_name": "HBoxModel",
          "state": {
            "_view_name": "HBoxView",
            "_dom_classes": [],
            "_model_name": "HBoxModel",
            "_view_module": "@jupyter-widgets/controls",
            "_model_module_version": "1.5.0",
            "_view_count": null,
            "_view_module_version": "1.5.0",
            "box_style": "",
            "layout": "IPY_MODEL_d15326860d054a93b963ff53905af3db",
            "_model_module": "@jupyter-widgets/controls",
            "children": [
              "IPY_MODEL_d5d504cd7847493da0701614c7b6527c",
              "IPY_MODEL_41bf9f2af9964b3c836704e969adeb78"
            ]
          }
        },
        "d15326860d054a93b963ff53905af3db": {
          "model_module": "@jupyter-widgets/base",
          "model_name": "LayoutModel",
          "state": {
            "_view_name": "LayoutView",
            "grid_template_rows": null,
            "right": null,
            "justify_content": null,
            "_view_module": "@jupyter-widgets/base",
            "overflow": null,
            "_model_module_version": "1.2.0",
            "_view_count": null,
            "flex_flow": null,
            "width": null,
            "min_width": null,
            "border": null,
            "align_items": null,
            "bottom": null,
            "_model_module": "@jupyter-widgets/base",
            "top": null,
            "grid_column": null,
            "overflow_y": null,
            "overflow_x": null,
            "grid_auto_flow": null,
            "grid_area": null,
            "grid_template_columns": null,
            "flex": null,
            "_model_name": "LayoutModel",
            "justify_items": null,
            "grid_row": null,
            "max_height": null,
            "align_content": null,
            "visibility": null,
            "align_self": null,
            "height": null,
            "min_height": null,
            "padding": null,
            "grid_auto_rows": null,
            "grid_gap": null,
            "max_width": null,
            "order": null,
            "_view_module_version": "1.2.0",
            "grid_template_areas": null,
            "object_position": null,
            "object_fit": null,
            "grid_auto_columns": null,
            "margin": null,
            "display": null,
            "left": null
          }
        },
        "d5d504cd7847493da0701614c7b6527c": {
          "model_module": "@jupyter-widgets/controls",
          "model_name": "FloatProgressModel",
          "state": {
            "_view_name": "ProgressView",
            "style": "IPY_MODEL_1cd278b409b94d48b686e82843fb25ec",
            "_dom_classes": [],
            "description": "",
            "_model_name": "FloatProgressModel",
            "bar_style": "success",
            "max": 1,
            "_view_module": "@jupyter-widgets/controls",
            "_model_module_version": "1.5.0",
            "value": 1,
            "_view_count": null,
            "_view_module_version": "1.5.0",
            "orientation": "horizontal",
            "min": 0,
            "description_tooltip": null,
            "_model_module": "@jupyter-widgets/controls",
            "layout": "IPY_MODEL_0ab56d02986d4df293937ea37661746f"
          }
        },
        "41bf9f2af9964b3c836704e969adeb78": {
          "model_module": "@jupyter-widgets/controls",
          "model_name": "HTMLModel",
          "state": {
            "_view_name": "HTMLView",
            "style": "IPY_MODEL_a57596a155744560b757cdac2e692d6d",
            "_dom_classes": [],
            "description": "",
            "_model_name": "HTMLModel",
            "placeholder": "​",
            "_view_module": "@jupyter-widgets/controls",
            "_model_module_version": "1.5.0",
            "value": " 1654784/? [00:00&lt;00:00, 2294977.11it/s]",
            "_view_count": null,
            "_view_module_version": "1.5.0",
            "description_tooltip": null,
            "_model_module": "@jupyter-widgets/controls",
            "layout": "IPY_MODEL_96d0f1c4485b4afab8e21c5d8f54242a"
          }
        },
        "1cd278b409b94d48b686e82843fb25ec": {
          "model_module": "@jupyter-widgets/controls",
          "model_name": "ProgressStyleModel",
          "state": {
            "_view_name": "StyleView",
            "_model_name": "ProgressStyleModel",
            "description_width": "initial",
            "_view_module": "@jupyter-widgets/base",
            "_model_module_version": "1.5.0",
            "_view_count": null,
            "_view_module_version": "1.2.0",
            "bar_color": null,
            "_model_module": "@jupyter-widgets/controls"
          }
        },
        "0ab56d02986d4df293937ea37661746f": {
          "model_module": "@jupyter-widgets/base",
          "model_name": "LayoutModel",
          "state": {
            "_view_name": "LayoutView",
            "grid_template_rows": null,
            "right": null,
            "justify_content": null,
            "_view_module": "@jupyter-widgets/base",
            "overflow": null,
            "_model_module_version": "1.2.0",
            "_view_count": null,
            "flex_flow": null,
            "width": null,
            "min_width": null,
            "border": null,
            "align_items": null,
            "bottom": null,
            "_model_module": "@jupyter-widgets/base",
            "top": null,
            "grid_column": null,
            "overflow_y": null,
            "overflow_x": null,
            "grid_auto_flow": null,
            "grid_area": null,
            "grid_template_columns": null,
            "flex": null,
            "_model_name": "LayoutModel",
            "justify_items": null,
            "grid_row": null,
            "max_height": null,
            "align_content": null,
            "visibility": null,
            "align_self": null,
            "height": null,
            "min_height": null,
            "padding": null,
            "grid_auto_rows": null,
            "grid_gap": null,
            "max_width": null,
            "order": null,
            "_view_module_version": "1.2.0",
            "grid_template_areas": null,
            "object_position": null,
            "object_fit": null,
            "grid_auto_columns": null,
            "margin": null,
            "display": null,
            "left": null
          }
        },
        "a57596a155744560b757cdac2e692d6d": {
          "model_module": "@jupyter-widgets/controls",
          "model_name": "DescriptionStyleModel",
          "state": {
            "_view_name": "StyleView",
            "_model_name": "DescriptionStyleModel",
            "description_width": "",
            "_view_module": "@jupyter-widgets/base",
            "_model_module_version": "1.5.0",
            "_view_count": null,
            "_view_module_version": "1.2.0",
            "_model_module": "@jupyter-widgets/controls"
          }
        },
        "96d0f1c4485b4afab8e21c5d8f54242a": {
          "model_module": "@jupyter-widgets/base",
          "model_name": "LayoutModel",
          "state": {
            "_view_name": "LayoutView",
            "grid_template_rows": null,
            "right": null,
            "justify_content": null,
            "_view_module": "@jupyter-widgets/base",
            "overflow": null,
            "_model_module_version": "1.2.0",
            "_view_count": null,
            "flex_flow": null,
            "width": null,
            "min_width": null,
            "border": null,
            "align_items": null,
            "bottom": null,
            "_model_module": "@jupyter-widgets/base",
            "top": null,
            "grid_column": null,
            "overflow_y": null,
            "overflow_x": null,
            "grid_auto_flow": null,
            "grid_area": null,
            "grid_template_columns": null,
            "flex": null,
            "_model_name": "LayoutModel",
            "justify_items": null,
            "grid_row": null,
            "max_height": null,
            "align_content": null,
            "visibility": null,
            "align_self": null,
            "height": null,
            "min_height": null,
            "padding": null,
            "grid_auto_rows": null,
            "grid_gap": null,
            "max_width": null,
            "order": null,
            "_view_module_version": "1.2.0",
            "grid_template_areas": null,
            "object_position": null,
            "object_fit": null,
            "grid_auto_columns": null,
            "margin": null,
            "display": null,
            "left": null
          }
        },
        "ebc9158b08fd46c9bbd2b687ee025197": {
          "model_module": "@jupyter-widgets/controls",
          "model_name": "HBoxModel",
          "state": {
            "_view_name": "HBoxView",
            "_dom_classes": [],
            "_model_name": "HBoxModel",
            "_view_module": "@jupyter-widgets/controls",
            "_model_module_version": "1.5.0",
            "_view_count": null,
            "_view_module_version": "1.5.0",
            "box_style": "",
            "layout": "IPY_MODEL_78eb7bbb1c9448ed91ba93ef6693e645",
            "_model_module": "@jupyter-widgets/controls",
            "children": [
              "IPY_MODEL_857509b4d4ce4a1b8ace75e3b9610f3e",
              "IPY_MODEL_81666aab67f24ac9ac40eedac68d8ba9"
            ]
          }
        },
        "78eb7bbb1c9448ed91ba93ef6693e645": {
          "model_module": "@jupyter-widgets/base",
          "model_name": "LayoutModel",
          "state": {
            "_view_name": "LayoutView",
            "grid_template_rows": null,
            "right": null,
            "justify_content": null,
            "_view_module": "@jupyter-widgets/base",
            "overflow": null,
            "_model_module_version": "1.2.0",
            "_view_count": null,
            "flex_flow": null,
            "width": null,
            "min_width": null,
            "border": null,
            "align_items": null,
            "bottom": null,
            "_model_module": "@jupyter-widgets/base",
            "top": null,
            "grid_column": null,
            "overflow_y": null,
            "overflow_x": null,
            "grid_auto_flow": null,
            "grid_area": null,
            "grid_template_columns": null,
            "flex": null,
            "_model_name": "LayoutModel",
            "justify_items": null,
            "grid_row": null,
            "max_height": null,
            "align_content": null,
            "visibility": null,
            "align_self": null,
            "height": null,
            "min_height": null,
            "padding": null,
            "grid_auto_rows": null,
            "grid_gap": null,
            "max_width": null,
            "order": null,
            "_view_module_version": "1.2.0",
            "grid_template_areas": null,
            "object_position": null,
            "object_fit": null,
            "grid_auto_columns": null,
            "margin": null,
            "display": null,
            "left": null
          }
        },
        "857509b4d4ce4a1b8ace75e3b9610f3e": {
          "model_module": "@jupyter-widgets/controls",
          "model_name": "FloatProgressModel",
          "state": {
            "_view_name": "ProgressView",
            "style": "IPY_MODEL_c65ffcc5f3564d739b82ef52783df6e0",
            "_dom_classes": [],
            "description": "  0%",
            "_model_name": "FloatProgressModel",
            "bar_style": "info",
            "max": 1,
            "_view_module": "@jupyter-widgets/controls",
            "_model_module_version": "1.5.0",
            "value": 0,
            "_view_count": null,
            "_view_module_version": "1.5.0",
            "orientation": "horizontal",
            "min": 0,
            "description_tooltip": null,
            "_model_module": "@jupyter-widgets/controls",
            "layout": "IPY_MODEL_f74ff1bc6ceb428a95fe785d44be62af"
          }
        },
        "81666aab67f24ac9ac40eedac68d8ba9": {
          "model_module": "@jupyter-widgets/controls",
          "model_name": "HTMLModel",
          "state": {
            "_view_name": "HTMLView",
            "style": "IPY_MODEL_e985e149509247e4afb8eda9e52784b3",
            "_dom_classes": [],
            "description": "",
            "_model_name": "HTMLModel",
            "placeholder": "​",
            "_view_module": "@jupyter-widgets/controls",
            "_model_module_version": "1.5.0",
            "value": " 0/4542 [00:00&lt;?, ?it/s]",
            "_view_count": null,
            "_view_module_version": "1.5.0",
            "description_tooltip": null,
            "_model_module": "@jupyter-widgets/controls",
            "layout": "IPY_MODEL_c456ae66a30f4206969f2bcb52c69727"
          }
        },
        "c65ffcc5f3564d739b82ef52783df6e0": {
          "model_module": "@jupyter-widgets/controls",
          "model_name": "ProgressStyleModel",
          "state": {
            "_view_name": "StyleView",
            "_model_name": "ProgressStyleModel",
            "description_width": "initial",
            "_view_module": "@jupyter-widgets/base",
            "_model_module_version": "1.5.0",
            "_view_count": null,
            "_view_module_version": "1.2.0",
            "bar_color": null,
            "_model_module": "@jupyter-widgets/controls"
          }
        },
        "f74ff1bc6ceb428a95fe785d44be62af": {
          "model_module": "@jupyter-widgets/base",
          "model_name": "LayoutModel",
          "state": {
            "_view_name": "LayoutView",
            "grid_template_rows": null,
            "right": null,
            "justify_content": null,
            "_view_module": "@jupyter-widgets/base",
            "overflow": null,
            "_model_module_version": "1.2.0",
            "_view_count": null,
            "flex_flow": null,
            "width": null,
            "min_width": null,
            "border": null,
            "align_items": null,
            "bottom": null,
            "_model_module": "@jupyter-widgets/base",
            "top": null,
            "grid_column": null,
            "overflow_y": null,
            "overflow_x": null,
            "grid_auto_flow": null,
            "grid_area": null,
            "grid_template_columns": null,
            "flex": null,
            "_model_name": "LayoutModel",
            "justify_items": null,
            "grid_row": null,
            "max_height": null,
            "align_content": null,
            "visibility": null,
            "align_self": null,
            "height": null,
            "min_height": null,
            "padding": null,
            "grid_auto_rows": null,
            "grid_gap": null,
            "max_width": null,
            "order": null,
            "_view_module_version": "1.2.0",
            "grid_template_areas": null,
            "object_position": null,
            "object_fit": null,
            "grid_auto_columns": null,
            "margin": null,
            "display": null,
            "left": null
          }
        },
        "e985e149509247e4afb8eda9e52784b3": {
          "model_module": "@jupyter-widgets/controls",
          "model_name": "DescriptionStyleModel",
          "state": {
            "_view_name": "StyleView",
            "_model_name": "DescriptionStyleModel",
            "description_width": "",
            "_view_module": "@jupyter-widgets/base",
            "_model_module_version": "1.5.0",
            "_view_count": null,
            "_view_module_version": "1.2.0",
            "_model_module": "@jupyter-widgets/controls"
          }
        },
        "c456ae66a30f4206969f2bcb52c69727": {
          "model_module": "@jupyter-widgets/base",
          "model_name": "LayoutModel",
          "state": {
            "_view_name": "LayoutView",
            "grid_template_rows": null,
            "right": null,
            "justify_content": null,
            "_view_module": "@jupyter-widgets/base",
            "overflow": null,
            "_model_module_version": "1.2.0",
            "_view_count": null,
            "flex_flow": null,
            "width": null,
            "min_width": null,
            "border": null,
            "align_items": null,
            "bottom": null,
            "_model_module": "@jupyter-widgets/base",
            "top": null,
            "grid_column": null,
            "overflow_y": null,
            "overflow_x": null,
            "grid_auto_flow": null,
            "grid_area": null,
            "grid_template_columns": null,
            "flex": null,
            "_model_name": "LayoutModel",
            "justify_items": null,
            "grid_row": null,
            "max_height": null,
            "align_content": null,
            "visibility": null,
            "align_self": null,
            "height": null,
            "min_height": null,
            "padding": null,
            "grid_auto_rows": null,
            "grid_gap": null,
            "max_width": null,
            "order": null,
            "_view_module_version": "1.2.0",
            "grid_template_areas": null,
            "object_position": null,
            "object_fit": null,
            "grid_auto_columns": null,
            "margin": null,
            "display": null,
            "left": null
          }
        }
      }
    }
  },
  "cells": [
    {
      "cell_type": "markdown",
      "metadata": {
        "id": "4NzyqehHjUlG"
      },
      "source": [
        "# ML in Cybersecurity: Project II\n",
        "\n",
        "## Team\n",
        "  * **Team name**:  *Noobies*\n",
        "  * **Members**:  *Mejbah Uddin Shameem (s8mesham@stud.uni-saarland.de), Norman Becker (nobe00001@stud.uni-saarland.de), Philipp Baus (s8phbaus@stud.uni-saarland.de)*\n",
        "\n",
        "\n",
        "## Logistics\n",
        "  * **Due date**: 14th December 2020, 13:59:59 \n",
        "  * Email the completed notebook to mlcysec_ws2021_staff@lists.cispa.saarland \n",
        "  * Complete this in the previously established **teams of 3**\n",
        "  * Feel free to use the course [mailing list](https://lists.cispa.saarland/listinfo/mlcysec_ws2021_stud) to discuss.\n",
        "  \n",
        "## Timeline\n",
        "  * 30-Nov-2020: Project 2 hand-out\n",
        "  * **14-Dec-2020** (13:59:59): Email completed notebook to mlcysec_ws2021_staff@lists.cispa.saarland\n",
        "\n",
        "  \n",
        "  \n",
        "## About this Project\n",
        "In this project, we dive into the vulnerabilities of machine learning models and the difficulties of defending against them. To this end, we require you to implement an evasion attack (craft adversarial examples) yourselves, and defend your own model.   \n",
        "\n",
        "\n",
        "## A Note on Grading\n",
        "The total number of points in this project is 100. We further provide the number of points achievable with each excercise. You should take particular care to document and visualize your results, though.\n",
        "\n",
        "\n",
        " \n",
        "## Filling-in the Notebook\n",
        "You'll be submitting this very notebook that is filled-in with (all!) your code and analysis. Make sure you submit one that has been previously executed in-order. (So that results/graphs are already visible upon opening it). \n",
        "\n",
        "The notebook you submit **should compile** (or should be self-contained and sufficiently commented). Check tutorial 1 on how to set up the Python3 environment.\n",
        "\n",
        "It is extremely important that you **do not** re-order the existing sections. Apart from that, the code blocks that you need to fill-in are given by:\n",
        "```\n",
        "#\n",
        "#\n",
        "# ------- Your Code -------\n",
        "#\n",
        "#\n",
        "```\n",
        "Feel free to break this into multiple-cells. It's even better if you interleave explanations and code-blocks so that the entire notebook forms a readable \"story\".\n",
        "\n",
        "\n",
        "## Code of Honor\n",
        "We encourage discussing ideas and concepts with other students to help you learn and better understand the course content. However, the work you submit and present **must be original** and demonstrate your effort in solving the presented problems. **We will not tolerate** blatantly using existing solutions (such as from the internet), improper collaboration (e.g., sharing code or experimental data between groups) and plagiarism. If the honor code is not met, no points will be awarded.\n",
        "\n",
        " \n",
        " ## Versions\n",
        "  * v1.0: Initial notebook\n",
        "  * v1.1: Clarifications at 1.1.2, 1.2.2, 2.1\n",
        " \n",
        "  ---"
      ]
    },
    {
      "cell_type": "code",
      "metadata": {
        "id": "3ewNwfFvbFaR"
      },
      "source": [
        "import time \n",
        " \n",
        "import numpy as np \n",
        "import matplotlib.pyplot as plt \n",
        "\n",
        "import json \n",
        "import time \n",
        "import pickle \n",
        "import sys \n",
        "import csv \n",
        "import os \n",
        "import os.path as osp \n",
        "import shutil \n",
        "\n",
        "import pandas as pd\n",
        "\n",
        "from IPython.display import display, HTML\n",
        " \n",
        "%matplotlib inline \n",
        "plt.rcParams['figure.figsize'] = (10.0, 8.0) # set default size of plots \n",
        "plt.rcParams['image.interpolation'] = 'nearest' \n",
        "plt.rcParams['image.cmap'] = 'gray' \n",
        " \n",
        "# for auto-reloading external modules \n",
        "# see http://stackoverflow.com/questions/1907993/autoreload-of-modules-in-ipython \n",
        "%load_ext autoreload\n",
        "%autoreload 2"
      ],
      "execution_count": null,
      "outputs": []
    },
    {
      "cell_type": "code",
      "metadata": {
        "id": "640GrzbOevr0"
      },
      "source": [
        "# Some suggestions of our libraries that might be helpful for this project\n",
        "from collections import Counter          # an even easier way to count\n",
        "from multiprocessing import Pool         # for multiprocessing\n",
        "from tqdm import tqdm                    # fancy progress bars\n",
        "\n",
        "# Load other libraries here.\n",
        "# Keep it minimal! We should be easily able to reproduce your code.\n",
        "# We only support sklearn and pytorch.\n",
        "import torchvision.datasets as datasets\n",
        "import torchvision.transforms as transforms\n",
        "import torch.utils.data as data\n",
        "\n",
        "# We preload pytorch as an example\n",
        "import torch\n",
        "import torch.nn as nn\n",
        "import torch.nn.functional as F\n",
        "import torch.optim as optim\n",
        "from torch.utils.data import DataLoader, Dataset, TensorDataset"
      ],
      "execution_count": null,
      "outputs": []
    },
    {
      "cell_type": "code",
      "metadata": {
        "id": "GJZPEAWYMhYB"
      },
      "source": [
        "compute_mode = 'cpu'\n",
        "\n",
        "if compute_mode == 'cpu':\n",
        "    device = torch.device('cpu')\n",
        "elif compute_mode == 'gpu':\n",
        "    # If you are using pytorch on the GPU cluster, you have to manually specify which GPU device to use\n",
        "    # It is extremely important that you *do not* spawn multi-GPU jobs.\n",
        "    os.environ[\"CUDA_VISIBLE_DEVICES\"] = '0'    # Set device ID here\n",
        "    device = torch.device('cuda')\n",
        "else:\n",
        "    raise ValueError('Unrecognized compute mode')"
      ],
      "execution_count": null,
      "outputs": []
    },
    {
      "cell_type": "markdown",
      "metadata": {
        "id": "nxi-lLD0mKHD"
      },
      "source": [
        "#### Helpers\n",
        "\n",
        "In case you choose to have some methods you plan to reuse during the notebook, define them here. This will avoid clutter and keep rest of the notebook succinct."
      ]
    },
    {
      "cell_type": "code",
      "metadata": {
        "id": "VBbigqdEmKd8"
      },
      "source": [
        "def identity_func(foo):\n",
        "    return foo\n",
        "\n",
        "# ------ Start Your Code ------\n",
        "\n",
        "# modify image with fgsm, formular to attack the image\n",
        "def fgsm(img, epsilon, gradient):\n",
        "    signed_gradient = gradient.sign()\n",
        "    modified_img = img + epsilon * signed_gradient\n",
        "    modified_img = torch.clamp(modified_img, 0, 1)\n",
        "    return modified_img\n",
        "\n",
        "# creates the fgsm image,from a given image and epsilion.\n",
        "def create_fgsm_image(img, epsilon):\n",
        "    img.requires_grad = True\n",
        "    predicted = net(img)\n",
        "    loss = criterion(predicted, label)   # calculate loss\n",
        "    net.zero_grad()\n",
        "    loss.backward()\n",
        "    gradient = img.grad.data #Calculate the gradient.\n",
        "    modified_img = fgsm(img, epsilon, gradient)\n",
        "    return modified_img\n",
        "\n",
        "# Data preparation used in 1.1.3\n",
        "class FGSM_Dataset(Dataset):\n",
        "    def __init__(self, images, labels):\n",
        "        self.images = images\n",
        "        self.labels = labels\n",
        "\n",
        "    def __len__ (self):\n",
        "        return len(self.labels)\n",
        "\n",
        "    def __getitem__(self, idx):\n",
        "        return (self.images[idx], self.labels[idx])\n",
        "\n",
        "# ------ END Your Code --------"
      ],
      "execution_count": null,
      "outputs": []
    },
    {
      "cell_type": "markdown",
      "metadata": {
        "id": "n1pcmKkyjT7y"
      },
      "source": [
        "# 1. Attacking an ML-model\n",
        "\n",
        "In this section, we implement an attack ourselves. We then leverage the Foolbox library to craft adversarial examples. First, however, you need a model you can attack. Feel free to choose the DNN/ConvNN from project 1.\n",
        "\n",
        "Hint: you might want to save the trained model to save time later."
      ]
    },
    {
      "cell_type": "markdown",
      "metadata": {
        "id": "QaJv_d_Dp7OM"
      },
      "source": [
        "### 1.1.1: Setting up the model (5 Points)\n",
        "\n",
        "Re-use the model from project 1 here and train it until it achieves reasonable accuracy (>92%)."
      ]
    },
    {
      "cell_type": "code",
      "metadata": {
        "id": "c688qdGtO1v-",
        "colab": {
          "base_uri": "https://localhost:8080/",
          "height": 420,
          "referenced_widgets": [
            "81a0b9c6f11a41f7b3dcc31599f511ee",
            "5e0a0d854e934050a7e440c8cdcc5d01",
            "8c0bdfd6509048f8ab06f9a595db5c23",
            "591b7f4f980a425c8ddc1eb1ee925c0b",
            "fc62709388ef4f6f836b09f5b45d924d",
            "4b6b6724899749b28e84a70cd1749114",
            "2c5344c43e214676b7cc77948752015c",
            "b318621cd4634f78bff7971999bc00a3",
            "461592caeb8e457cb08b8992c0f60314",
            "9a0a0e5a24ab4fe192ef4966810d8d60",
            "e2b4db93055f4cba83f53ee2845ce9f0",
            "e45d70fb34514108beef8630fd039727",
            "a0e14b34ff58454488c47767464ccc5e",
            "edd216a5cd5d4359a8b76ded8af5f017",
            "7c7a9711e5954169928f4ca28be2c435",
            "780949dc1d7842d5953e0fb4be29d8a8",
            "9b564c06b4b74e03be9944f2bc2144b6",
            "d15326860d054a93b963ff53905af3db",
            "d5d504cd7847493da0701614c7b6527c",
            "41bf9f2af9964b3c836704e969adeb78",
            "1cd278b409b94d48b686e82843fb25ec",
            "0ab56d02986d4df293937ea37661746f",
            "a57596a155744560b757cdac2e692d6d",
            "96d0f1c4485b4afab8e21c5d8f54242a",
            "ebc9158b08fd46c9bbd2b687ee025197",
            "78eb7bbb1c9448ed91ba93ef6693e645",
            "857509b4d4ce4a1b8ace75e3b9610f3e",
            "81666aab67f24ac9ac40eedac68d8ba9",
            "c65ffcc5f3564d739b82ef52783df6e0",
            "f74ff1bc6ceb428a95fe785d44be62af",
            "e985e149509247e4afb8eda9e52784b3",
            "c456ae66a30f4206969f2bcb52c69727"
          ]
        },
        "outputId": "21b1ef13-d882-4005-a6e1-389b6a8fead5"
      },
      "source": [
        "# ------ Start Your Code ------\n",
        "\n",
        "# (1)load data \n",
        "data_trainval = datasets.MNIST(root=\"./dataset\", train=True, download=True, transform=None, \n",
        "                                      target_transform=None)\n",
        "data_test = datasets.MNIST(\"./dataset\", train=False, download=True, transform=None, \n",
        "                                     target_transform=None)\n",
        "\n",
        "transform = transforms.Compose([transforms.ToTensor(),\n",
        "                                transforms.Normalize((0.1307,), (0.3081,))])\n",
        "\n",
        "data_trainval.transform = transform\n",
        "data_test.transform = transform\n",
        "\n",
        "trainloader = torch.utils.data.DataLoader(data_trainval, 32,\n",
        "                                              shuffle=True, num_workers=0)\n",
        "testloader = torch.utils.data.DataLoader(data_test, 1,\n",
        "                                              shuffle=True, num_workers=0)\n",
        "# (2)define model\n",
        "class Net(nn.Module):\n",
        "    def __init__(self):\n",
        "        super(Net, self).__init__()\n",
        "        self.conv1 = nn.Conv2d(1, 6, 5)\n",
        "        self.conv2 = nn.Conv2d(6, 16,5)\n",
        "        self.fc1   = nn.Linear(256, 128)\n",
        "        self.fc2   = nn.Linear(128, 10)\n",
        "        \n",
        "\n",
        "    def forward(self, x):\n",
        "        x = F.relu(self.conv1(x))\n",
        "        x = F.max_pool2d(x, 2, 2)\n",
        "        x = F.relu(self.conv2(x))\n",
        "        x = F.max_pool2d(x, 2, 2)\n",
        "        x = x.view(x.size(0), -1)\n",
        "        x = F.relu(self.fc1(x))\n",
        "        x = self.fc2(x)\n",
        "        return x  \n",
        "\n",
        "net = Net()\n",
        "net = net.to(device)\n",
        "net.load_state_dict(torch.load('./cnn_mnist.pth'))\n",
        "net.eval()\n",
        "\n",
        "# (3)define loss, optimizer \n",
        "criterion = nn.CrossEntropyLoss()\n",
        "optimizer = optim.SGD(net.parameters(), 0.01, 0.9)\n",
        "\n",
        "# (4)train (You can re-use the trained model from project1)\n",
        "\n",
        "# (5)evaluate\n",
        "def test(net):\n",
        "    correct = 0\n",
        "    total = 0\n",
        "    with torch.no_grad():\n",
        "        for data in testloader:\n",
        "            #get the smaples from the test data\n",
        "            images, labels = data\n",
        "            images, labels = images.to(device), labels.to(device)\n",
        "            # get the prediction in outputs\n",
        "            outputs = net(images)\n",
        "            _, predicted = torch.max(outputs.data, 1)\n",
        "            total += labels.size(0)\n",
        "            # measure of correct predictions\n",
        "            correct += (predicted == labels).sum().item()\n",
        "        accuracy = 100 * correct / total \n",
        "    return accuracy\n",
        "  \n",
        "print('Accuracy on test data : %d %%' % (test(net)))\n",
        "\n",
        "# print('Epoch %d, Train acc: %f, Test acc: %f' % (epoch, train_acc, test_acc))\n",
        "\n",
        "# ------ END Your Code --------"
      ],
      "execution_count": null,
      "outputs": [
        {
          "output_type": "stream",
          "text": [
            "Downloading http://yann.lecun.com/exdb/mnist/train-images-idx3-ubyte.gz to ./dataset/MNIST/raw/train-images-idx3-ubyte.gz\n"
          ],
          "name": "stdout"
        },
        {
          "output_type": "display_data",
          "data": {
            "application/vnd.jupyter.widget-view+json": {
              "model_id": "81a0b9c6f11a41f7b3dcc31599f511ee",
              "version_minor": 0,
              "version_major": 2
            },
            "text/plain": [
              "HBox(children=(FloatProgress(value=1.0, bar_style='info', max=1.0), HTML(value='')))"
            ]
          },
          "metadata": {
            "tags": []
          }
        },
        {
          "output_type": "stream",
          "text": [
            "Extracting ./dataset/MNIST/raw/train-images-idx3-ubyte.gz to ./dataset/MNIST/raw\n",
            "Downloading http://yann.lecun.com/exdb/mnist/train-labels-idx1-ubyte.gz to ./dataset/MNIST/raw/train-labels-idx1-ubyte.gz\n"
          ],
          "name": "stdout"
        },
        {
          "output_type": "display_data",
          "data": {
            "application/vnd.jupyter.widget-view+json": {
              "model_id": "461592caeb8e457cb08b8992c0f60314",
              "version_minor": 0,
              "version_major": 2
            },
            "text/plain": [
              "HBox(children=(FloatProgress(value=1.0, bar_style='info', max=1.0), HTML(value='')))"
            ]
          },
          "metadata": {
            "tags": []
          }
        },
        {
          "output_type": "stream",
          "text": [
            "Extracting ./dataset/MNIST/raw/train-labels-idx1-ubyte.gz to ./dataset/MNIST/raw\n",
            "Downloading http://yann.lecun.com/exdb/mnist/t10k-images-idx3-ubyte.gz to ./dataset/MNIST/raw/t10k-images-idx3-ubyte.gz\n"
          ],
          "name": "stdout"
        },
        {
          "output_type": "display_data",
          "data": {
            "application/vnd.jupyter.widget-view+json": {
              "model_id": "9b564c06b4b74e03be9944f2bc2144b6",
              "version_minor": 0,
              "version_major": 2
            },
            "text/plain": [
              "HBox(children=(FloatProgress(value=1.0, bar_style='info', max=1.0), HTML(value='')))"
            ]
          },
          "metadata": {
            "tags": []
          }
        },
        {
          "output_type": "stream",
          "text": [
            "Extracting ./dataset/MNIST/raw/t10k-images-idx3-ubyte.gz to ./dataset/MNIST/raw\n",
            "Downloading http://yann.lecun.com/exdb/mnist/t10k-labels-idx1-ubyte.gz to ./dataset/MNIST/raw/t10k-labels-idx1-ubyte.gz\n",
            "\n",
            "\n"
          ],
          "name": "stdout"
        },
        {
          "output_type": "display_data",
          "data": {
            "application/vnd.jupyter.widget-view+json": {
              "model_id": "ebc9158b08fd46c9bbd2b687ee025197",
              "version_minor": 0,
              "version_major": 2
            },
            "text/plain": [
              "HBox(children=(FloatProgress(value=1.0, bar_style='info', max=1.0), HTML(value='')))"
            ]
          },
          "metadata": {
            "tags": []
          }
        },
        {
          "output_type": "stream",
          "text": [
            "Extracting ./dataset/MNIST/raw/t10k-labels-idx1-ubyte.gz to ./dataset/MNIST/raw\n",
            "Processing...\n",
            "Done!\n"
          ],
          "name": "stdout"
        },
        {
          "output_type": "stream",
          "text": [
            "/usr/local/lib/python3.6/dist-packages/torchvision/datasets/mnist.py:480: UserWarning: The given NumPy array is not writeable, and PyTorch does not support non-writeable tensors. This means you can write to the underlying (supposedly non-writeable) NumPy array using the tensor. You may want to copy the array to protect its data or make it writeable before converting it to a tensor. This type of warning will be suppressed for the rest of this program. (Triggered internally at  /pytorch/torch/csrc/utils/tensor_numpy.cpp:141.)\n",
            "  return torch.from_numpy(parsed.astype(m[2], copy=False)).view(*s)\n"
          ],
          "name": "stderr"
        },
        {
          "output_type": "stream",
          "text": [
            "Accuracy on test data : 98 %\n"
          ],
          "name": "stdout"
        }
      ]
    },
    {
      "cell_type": "markdown",
      "metadata": {
        "id": "DEQrdyLHsUIu"
      },
      "source": [
        "### 1.1.2: Implementing an attack (15 Points)\n",
        "\n",
        "We now want you to attack the model trained in the previous step. Please implement the FGSM attack mentioned in the lecture. "
      ]
    },
    {
      "cell_type": "code",
      "metadata": {
        "id": "gcVZnUNbRKOz",
        "colab": {
          "base_uri": "https://localhost:8080/"
        },
        "outputId": "e2c928cb-4f7a-46b7-bb3f-86de9e865e28"
      },
      "source": [
        "# ------ Start Your Code ------\n",
        "\n",
        "accuracies = []\n",
        "epsilon = [0.1, 0.4, 0.6, 0.8, 1, 1.2]\n",
        "start = time.time()\n",
        "\n",
        "for e in epsilon:      # use multiple epsilon to attack the model\n",
        "    correct = 0\n",
        "    total = 0\n",
        "    for image, label in testloader:\n",
        "        image, label = image.to(device), label.to(device)\n",
        "        image.requires_grad = True  # is needed for gradient calculation\n",
        "\n",
        "        # predict the label of the image with the original image\n",
        "        predicted = net(image)\n",
        "        _, prediction = torch.max(predicted.data, 1)\n",
        "\n",
        "        # if prediction was incorrect then we don't have to do anything further\n",
        "        if ((prediction == label).sum().item() == 1):\n",
        "            loss = criterion(predicted, label)   # calculate loss\n",
        "            net.zero_grad()\n",
        "            loss.backward()\n",
        "            gradient = image.grad.data\n",
        "\n",
        "            # modify image with fgsm\n",
        "            modified_img = fgsm(image, e, gradient)\n",
        "\n",
        "            # predict modified image and check if prediction is correct or not\n",
        "            predicted = net(modified_img)\n",
        "            _, prediction = torch.max(predicted.data, 1)\n",
        "            total += label.size(0)\n",
        "            correct += (prediction == label).sum().item()\n",
        "\n",
        "    # calculate accuracy for the current epsilon  \n",
        "    accuracy = (correct / total) * 100\n",
        "    accuracies.append(accuracy)\n",
        "    print(\"Accuracy for Epsilon = {}: {}%\".format(e, accuracy))\n",
        "\n",
        "end = time.time()\n",
        "print(\"Elapsed time to attack all Test Data of MNIST using FGSM:\", end-start)\n",
        "# ------ END Your Code --------\n"
      ],
      "execution_count": null,
      "outputs": [
        {
          "output_type": "stream",
          "text": [
            "Accuracy for Epsilon = 0.1: 99.24188820378045%\n",
            "Accuracy for Epsilon = 0.4: 96.65419993935106%\n",
            "Accuracy for Epsilon = 0.6: 72.1419185282523%\n",
            "Accuracy for Epsilon = 0.8: 31.011826544021027%\n",
            "Accuracy for Epsilon = 1: 10.744971191751745%\n",
            "Accuracy for Epsilon = 1.2: 5.033862326897807%\n"
          ],
          "name": "stdout"
        }
      ]
    },
    {
      "cell_type": "code",
      "metadata": {
        "id": "2oT4H6Ho02nY",
        "colab": {
          "base_uri": "https://localhost:8080/",
          "height": 296
        },
        "outputId": "2950c082-9297-4ae6-e437-1b2e955053cf"
      },
      "source": [
        "# ------ Start Your Code ------\n",
        "plt.plot(epsilon, accuracies)\n",
        "plt.xticks(epsilon)\n",
        "plt.yticks(np.arange(0, 101, step=10))\n",
        "plt.xlabel(\"Epsilon\")\n",
        "plt.ylabel(\"Accuracy\")\n",
        "plt.show()\n",
        "best_epsilon = epsilon[accuracies.index(min(accuracies))]\n",
        "print(\"Best Epsilon = {}\".format(best_epsilon))\n",
        " # ------ END Your Code --------"
      ],
      "execution_count": null,
      "outputs": [
        {
          "output_type": "display_data",
          "data": {
            "image/png": "[encoded data removed]",
            "text/plain": [
              "<Figure size 432x288 with 1 Axes>"
            ]
          },
          "metadata": {
            "tags": [],
            "needs_background": "light"
          }
        },
        {
          "output_type": "stream",
          "text": [
            "Best Epsilon = 1.2\n"
          ],
          "name": "stdout"
        }
      ]
    },
    {
      "cell_type": "markdown",
      "metadata": {
        "id": "RNpI3oUoO1wE"
      },
      "source": [
        "### 1.1.3: adversarial sample set (5 Points)\n",
        "\n",
        "Please additionally generate a dataset containing at least 1,000 adversarial examples using FGSM."
      ]
    },
    {
      "cell_type": "code",
      "metadata": {
        "id": "EvYpo9p2O1wF"
      },
      "source": [
        "# ------ Start Your Code ------\n",
        "\n",
        "modified_images = []\n",
        "labels = []\n",
        "for image, label in trainloader:  # create 2000 examples  \n",
        "    if (len(labels)) == 2000:\n",
        "        break\n",
        "    image, label = image.to(device), label.to(device)\n",
        "    modified_images.append(create_fgsm_image(image, best_epsilon))\n",
        "    labels.append(prediction[0])\n",
        "\n",
        "dataset = FGSM_Dataset(modified_images, labels) #save examples in dataset \n",
        "\n",
        "# ------ END Your Code --------"
      ],
      "execution_count": null,
      "outputs": []
    },
    {
      "cell_type": "markdown",
      "metadata": {
        "id": "Ex3qQp3JolD1"
      },
      "source": [
        "### 1.1.3: Visualizing the results (5 Points)\n",
        "\n",
        "Please chose one sample for each class (for example the first when iterating the test data) and plot the (ten) adversarial examples as well as the predicted label (before and after the attack)"
      ]
    },
    {
      "cell_type": "code",
      "metadata": {
        "id": "eGkp0B0PO1wJ",
        "colab": {
          "base_uri": "https://localhost:8080/",
          "height": 944
        },
        "outputId": "60f5be9f-35d2-44a7-c91a-1c4b70520489"
      },
      "source": [
        "# ------ Start Your Code ------\n",
        "rows, cols = 10, 2\n",
        "fig,ax = plt.subplots(nrows = rows, ncols = cols, figsize=(13, 13))\n",
        "fig.tight_layout()\n",
        "\n",
        "for i in range(0, 10):\n",
        "    for image, label in testloader:\n",
        "        image, label = image.to(device), label.to(device)\n",
        "        if label[0] == i:\n",
        "            # plot image before the attack and its prediction\n",
        "            predicted = net(image)\n",
        "            _, prediction = torch.max(predicted.data, 1)\n",
        "            ax[i][0].set_title(\"predicted label: {}\".format(prediction.item()))\n",
        "            ax[i][0].imshow(torch.reshape(image, (28, 28)))\n",
        "            ax[i][0].get_xaxis().set_visible(False)\n",
        "            ax[i][0].get_yaxis().set_visible(False)\n",
        "\n",
        "            # plot image after the attack and its prediction\n",
        "            modified_img = create_fgsm_image(image, best_epsilon)\n",
        "            predicted = net(modified_img)\n",
        "            _, prediction = torch.max(predicted.data, 1)\n",
        "            ax[i][1].set_title(\"predicted label: {}\".format(prediction.item()))\n",
        "            ax[i][1].imshow(modified_img.detach().numpy().reshape((28, 28)), cmap=\"gray\")\n",
        "            ax[i][1].get_xaxis().set_visible(False)\n",
        "            ax[i][1].get_yaxis().set_visible(False)\n",
        "            break\n",
        "\n",
        "plt.show()\n",
        "# ------ END Your Code --------"
      ],
      "execution_count": null,
      "outputs": [
        {
          "output_type": "display_data",
          "data": {
            "image/png": "[encoded data removed]",
            "text/plain": [
              "<Figure size 936x936 with 20 Axes>"
            ]
          },
          "metadata": {
            "tags": [],
            "needs_background": "light"
          }
        }
      ]
    },
    {
      "cell_type": "markdown",
      "metadata": {
        "id": "iPB-GK1CymiV"
      },
      "source": [
        "### 1.2.1: Using libraries for attacks (10 Points)\n",
        "As the field of evasion attacks (in particular for DNN) is very active research field, several libraries have been published that contain attacks. We will work here with the Foolbox (https://github.com/bethgelab/foolbox) library. Please implement two other (recent, advanced) attacks of your choice using this library. "
      ]
    },
    {
      "cell_type": "code",
      "metadata": {
        "id": "pa6rPT53LUW8",
        "colab": {
          "base_uri": "https://localhost:8080/"
        },
        "outputId": "7fb8bee9-3210-43fd-cf06-02f1935fa7c6"
      },
      "source": [
        "# ------ Start Your Code ------\n",
        "import foolbox as fb\n",
        "\n",
        "testloader = torch.utils.data.DataLoader(data_test, 16,\n",
        "                                              shuffle=True, num_workers=0)\n",
        "fmodel = fb.PyTorchModel(net, bounds=(0, 1))\n",
        "attack = fb.attacks.LinfPGD()\n",
        "\n",
        "# (a) attack 1\n",
        "\n",
        "accuracies = []\n",
        "epsilons = [0.1, 0.4, 0.6, 0.8, 1.0, 1.2]\n",
        "start = time.time()\n",
        "\n",
        "for e in epsilons:      # use multiple epsilon to attack the model\n",
        "    correct = 0\n",
        "    total = 0\n",
        "    for image, label in testloader:\n",
        "        image, label = image.to(device), label.to(device)\n",
        "        raw, advs, success = attack(fmodel, image, label, epsilons=e)\n",
        "      # predict modified image and check if prediction is correct or not\n",
        "        predicted = net(advs)\n",
        "        _, prediction = torch.max(predicted.data, 1)\n",
        "        total += label.size(0)\n",
        "        correct += (prediction == label).sum().item()\n",
        "\n",
        "# calculate accuracy for the current epsilon  \n",
        "    accuracy = (correct / total) * 100\n",
        "    accuracies.append(accuracy)\n",
        "    print(\"Accuracy for Epsilon = {}: {}%\".format(e, accuracy))\n",
        "\n",
        "\n",
        "end = time.time()\n",
        "print(\"Elapsed time to attack all Test Data of MNIST using LinfPGD:\", end-start)"
      ],
      "execution_count": null,
      "outputs": [
        {
          "output_type": "stream",
          "text": [
            "Collecting foolbox\n",
            "\u001b[?25l  Downloading https://files.pythonhosted.org/packages/92/63/ec4e7fa987d58338b2758174af495711f4e6c5b9d0e656442ba3b29e4ef0/foolbox-3.2.1-py3-none-any.whl (1.7MB)\n",
            "\u001b[K     |████████████████████████████████| 1.7MB 8.8MB/s \n",
            "\u001b[?25hRequirement already satisfied: typing-extensions>=3.7.4.1 in /usr/local/lib/python3.6/dist-packages (from foolbox) (3.7.4.3)\n",
            "Collecting requests>=2.24.0\n",
            "\u001b[?25l  Downloading https://files.pythonhosted.org/packages/39/fc/f91eac5a39a65f75a7adb58eac7fa78871ea9872283fb9c44e6545998134/requests-2.25.0-py2.py3-none-any.whl (61kB)\n",
            "\u001b[K     |████████████████████████████████| 61kB 9.4MB/s \n",
            "\u001b[?25hRequirement already satisfied: scipy in /usr/local/lib/python3.6/dist-packages (from foolbox) (1.4.1)\n",
            "Requirement already satisfied: setuptools in /usr/local/lib/python3.6/dist-packages (from foolbox) (50.3.2)\n",
            "Collecting eagerpy==0.29.0\n",
            "  Downloading https://files.pythonhosted.org/packages/e1/07/54994565da4fc5a4840d3a434fb9bf3835b4a4e68c931ccfcc327d568f95/eagerpy-0.29.0-py3-none-any.whl\n",
            "Collecting GitPython>=3.0.7\n",
            "\u001b[?25l  Downloading https://files.pythonhosted.org/packages/24/d1/a7f8fe3df258549b303415157328bfcc63e9b11d06a7ad7a3327f3d32606/GitPython-3.1.11-py3-none-any.whl (159kB)\n",
            "\u001b[K     |████████████████████████████████| 163kB 30.1MB/s \n",
            "\u001b[?25hRequirement already satisfied: numpy in /usr/local/lib/python3.6/dist-packages (from foolbox) (1.18.5)\n",
            "Requirement already satisfied: idna<3,>=2.5 in /usr/local/lib/python3.6/dist-packages (from requests>=2.24.0->foolbox) (2.10)\n",
            "Requirement already satisfied: certifi>=2017.4.17 in /usr/local/lib/python3.6/dist-packages (from requests>=2.24.0->foolbox) (2020.12.5)\n",
            "Requirement already satisfied: urllib3<1.27,>=1.21.1 in /usr/local/lib/python3.6/dist-packages (from requests>=2.24.0->foolbox) (1.24.3)\n",
            "Requirement already satisfied: chardet<4,>=3.0.2 in /usr/local/lib/python3.6/dist-packages (from requests>=2.24.0->foolbox) (3.0.4)\n",
            "Collecting gitdb<5,>=4.0.1\n",
            "\u001b[?25l  Downloading https://files.pythonhosted.org/packages/48/11/d1800bca0a3bae820b84b7d813ad1eff15a48a64caea9c823fc8c1b119e8/gitdb-4.0.5-py3-none-any.whl (63kB)\n",
            "\u001b[K     |████████████████████████████████| 71kB 8.8MB/s \n",
            "\u001b[?25hCollecting smmap<4,>=3.0.1\n",
            "  Downloading https://files.pythonhosted.org/packages/b0/9a/4d409a6234eb940e6a78dfdfc66156e7522262f5f2fecca07dc55915952d/smmap-3.0.4-py2.py3-none-any.whl\n",
            "\u001b[31mERROR: google-colab 1.0.0 has requirement requests~=2.23.0, but you'll have requests 2.25.0 which is incompatible.\u001b[0m\n",
            "\u001b[31mERROR: datascience 0.10.6 has requirement folium==0.2.1, but you'll have folium 0.8.3 which is incompatible.\u001b[0m\n",
            "Installing collected packages: requests, eagerpy, smmap, gitdb, GitPython, foolbox\n",
            "  Found existing installation: requests 2.23.0\n",
            "    Uninstalling requests-2.23.0:\n",
            "      Successfully uninstalled requests-2.23.0\n",
            "Successfully installed GitPython-3.1.11 eagerpy-0.29.0 foolbox-3.2.1 gitdb-4.0.5 requests-2.25.0 smmap-3.0.4\n",
            "Accuracy for Epsilon = 0.1: 98.81%\n",
            "Accuracy for Epsilon = 0.4: 97.95%\n",
            "Accuracy for Epsilon = 0.6: 90.5%\n",
            "Accuracy for Epsilon = 0.8: 59.12%\n",
            "Accuracy for Epsilon = 1.0: 15.39%\n",
            "Accuracy for Epsilon = 1.2: 1.21%\n"
          ],
          "name": "stdout"
        }
      ]
    },
    {
      "cell_type": "code",
      "metadata": {
        "id": "ZvFzBuD2QDvO",
        "colab": {
          "base_uri": "https://localhost:8080/",
          "height": 296
        },
        "outputId": "eaa6b17e-7789-4544-c0a5-8f8d0603cf8f"
      },
      "source": [
        "# Plot Accuracies for different Epsilons\n",
        "plt.plot(epsilons, accuracies)\n",
        "plt.xticks(epsilons)\n",
        "plt.yticks(np.arange(0, 101, step=10))\n",
        "plt.xlabel(\"Epsilon\")\n",
        "plt.ylabel(\"Accuracy\")\n",
        "plt.show()\n",
        "best_epsilon1 = epsilons[accuracies.index(min(accuracies))]\n",
        "print(\"Best Epsilon = {}\".format(best_epsilon1))"
      ],
      "execution_count": null,
      "outputs": [
        {
          "output_type": "display_data",
          "data": {
            "image/png": "[encoded data removed]",
            "text/plain": [
              "<Figure size 432x288 with 1 Axes>"
            ]
          },
          "metadata": {
            "tags": [],
            "needs_background": "light"
          }
        },
        {
          "output_type": "stream",
          "text": [
            "Best Epsilon = 1.2\n"
          ],
          "name": "stdout"
        }
      ]
    },
    {
      "cell_type": "code",
      "metadata": {
        "id": "eR7MMGAhQHTn",
        "colab": {
          "base_uri": "https://localhost:8080/"
        },
        "outputId": "bd8aec9b-f28c-4de9-d26e-b04d2b7d8a6b"
      },
      "source": [
        "# (b) attack 2\n",
        "import foolbox as fb\n",
        "fmodel2 = fb.PyTorchModel(net, bounds=(0, 1))\n",
        "attack2 = fb.attacks.L2ContrastReductionAttack()\n",
        "\n",
        "accuracies = []\n",
        "epsilons = [26, 28, 30, 32, 34, 36, 38, 40]\n",
        "start = time.time()\n",
        "\n",
        "for e in epsilons:      # use multiple epsilon to attack the model\n",
        "    correct = 0\n",
        "    total = 0\n",
        "    for image, label in testloader:\n",
        "        image, label = image.to(device), label.to(device)\n",
        "        raw, advs, success = attack2(fmodel2, image, label, epsilons=e)\n",
        "      # predict modified image and check if prediction is correct or not\n",
        "        predicted = net(advs)\n",
        "        _, prediction = torch.max(predicted.data, 1)\n",
        "        total += label.size(0)\n",
        "        correct += (prediction == label).sum().item()\n",
        "\n",
        "# calculate accuracy for the current epsilon  \n",
        "    accuracy = (correct / total) * 100\n",
        "    accuracies.append(accuracy)\n",
        "    print(\"Accuracy for Epsilon = {}: {}%\".format(e, accuracy))\n",
        "\n",
        "end = time.time()\n",
        "print(\"Elapsed time to attack all Test Data of MNIST using L2 Contrast Reduction:\", end-start)    "
      ],
      "execution_count": null,
      "outputs": [
        {
          "output_type": "stream",
          "text": [
            "Accuracy for Epsilon = 26: 96.69%\n",
            "Accuracy for Epsilon = 28: 85.61999999999999%\n",
            "Accuracy for Epsilon = 30: 54.98%\n",
            "Accuracy for Epsilon = 32: 26.740000000000002%\n",
            "Accuracy for Epsilon = 34: 13.79%\n",
            "Accuracy for Epsilon = 36: 10.2%\n",
            "Accuracy for Epsilon = 38: 9.11%\n",
            "Accuracy for Epsilon = 40: 8.92%\n"
          ],
          "name": "stdout"
        }
      ]
    },
    {
      "cell_type": "code",
      "metadata": {
        "id": "NR6GExx_QPT2",
        "colab": {
          "base_uri": "https://localhost:8080/",
          "height": 298
        },
        "outputId": "11a0f1fb-a6db-407c-e616-a24072420560"
      },
      "source": [
        "# Plot Accuracies for different Epsilons\n",
        "plt.plot(epsilons, accuracies)\n",
        "plt.xticks(epsilons)\n",
        "plt.yticks(np.arange(0, 101, step=10))\n",
        "plt.xlabel(\"Epsilon\")\n",
        "plt.ylabel(\"Accuracy\")\n",
        "plt.show()\n",
        "best_epsilon2 = epsilons[accuracies.index(min(accuracies))]\n",
        "print(\"Best Epsilon = {}\".format(best_epsilon2))\n",
        "# ------ END Your Code --------"
      ],
      "execution_count": null,
      "outputs": [
        {
          "output_type": "display_data",
          "data": {
            "image/png": "[encoded data removed]",
            "text/plain": [
              "<Figure size 432x288 with 1 Axes>"
            ]
          },
          "metadata": {
            "tags": [],
            "needs_background": "light"
          }
        },
        {
          "output_type": "stream",
          "text": [
            "Best Epsilon = 40\n"
          ],
          "name": "stdout"
        }
      ]
    },
    {
      "cell_type": "markdown",
      "metadata": {
        "id": "xVH821TOymic"
      },
      "source": [
        "### 1.2.2: Visualizing the results (20 Points)\n",
        "As before, please plot the new adversarial examples. Compare all crafting techniques (FGSM, 2 methods from Foolbox).\n"
      ]
    },
    {
      "cell_type": "code",
      "metadata": {
        "id": "69nc8PMRymid",
        "colab": {
          "base_uri": "https://localhost:8080/",
          "height": 944
        },
        "outputId": "c6c216aa-f523-49b9-dbda-1360d4279405"
      },
      "source": [
        "# template code (Please feel free to change this)\n",
        "# (each column corresponds to one attack method)\n",
        "\n",
        "# ------ Start Your Code ------\n",
        "testloader = torch.utils.data.DataLoader(data_test, 1,\n",
        "                                              shuffle=True, num_workers=0) #Making batch size 1 for easy parsing\n",
        "\n",
        "rows, cols = 11, 4\n",
        "fig,ax = plt.subplots(nrows = rows, ncols = cols, figsize=(13, 13))\n",
        "fig.tight_layout()\n",
        "\n",
        "for i in range(0, 10):\n",
        "    if i == 0:\n",
        "        ax[i][0].set_title('Original', color='#06ABEE')\n",
        "        ax[i][1].set_title('FGSM', color='#06ABEE')\n",
        "        ax[i][2].set_title('PGD', color='#06ABEE')\n",
        "        ax[i][3].set_title('L2 Contrast Reduction', color='#06ABEE')\n",
        "        ax[i][0].axis('off')\n",
        "        ax[i][1].axis('off')\n",
        "        ax[i][2].axis('off')\n",
        "        ax[i][3].axis('off')\n",
        "        \n",
        "    for image, label in testloader:\n",
        "        image, label = image.to(device), label.to(device)\n",
        "            \n",
        "        if label[0] == i:\n",
        "\n",
        "            # LINFPGD\n",
        "            raw, advs, success = attack(fmodel, image, label, epsilons=best_epsilon1)\n",
        "            # predict modified image and check if prediction is correct or not for Projected Gradient Descent Attack\n",
        "            predicted = net(advs)\n",
        "            _, prediction = torch.max(predicted.data, 1)\n",
        "            ax[i+1][2].set_title(\"predicted label: {}\".format(prediction.item()))\n",
        "            ax[i+1][2].imshow(advs.cpu().detach().numpy().reshape((28, 28)), cmap=\"gray\")\n",
        "            ax[i+1][2].get_xaxis().set_visible(False)\n",
        "            ax[i+1][2].get_yaxis().set_visible(False)\n",
        "\n",
        "             # L2 CONTRAST REDUCTION\n",
        "            raw, advs, success = attack2(fmodel2, image, label, epsilons=best_epsilon2)\n",
        "            # predict modified image and check if prediction is correct or not for Deep Fool Attack\n",
        "            predicted = net(advs)\n",
        "            _, prediction = torch.max(predicted.data, 1)\n",
        "            ax[i+1][3].set_title(\"predicted label: {}\".format(prediction.item()))\n",
        "            ax[i+1][3].imshow(advs.cpu().detach().numpy().reshape((28, 28)), cmap=\"gray\")\n",
        "            ax[i+1][3].get_xaxis().set_visible(False)\n",
        "            ax[i+1][3].get_yaxis().set_visible(False)\n",
        "\n",
        "            # ORI\n",
        "            # Original Test Image \n",
        "            predicted = net(image)\n",
        "            _, prediction = torch.max(predicted.data, 1)\n",
        "            ax[i+1][0].set_title(\"predicted label: {}\".format(prediction.item()))\n",
        "            ax[i+1][0].imshow(torch.reshape(image.cpu(), (28, 28)))\n",
        "            ax[i+1][0].get_xaxis().set_visible(False)\n",
        "            ax[i+1][0].get_yaxis().set_visible(False)\n",
        "\n",
        "            # FGSM\n",
        "            # predict modified image and check if prediction is correct or not for FGSM Attack\n",
        "            modified_img = create_fgsm_image(image, best_epsilon)\n",
        "            predicted = net(modified_img)\n",
        "            _, prediction = torch.max(predicted.data, 1)\n",
        "            ax[i+1][1].set_title(\"predicted label: {}\".format(prediction.item()))\n",
        "            ax[i+1][1].imshow(modified_img.cpu().detach().numpy().reshape((28, 28)), cmap=\"gray\")\n",
        "            ax[i+1][1].get_xaxis().set_visible(False)\n",
        "            ax[i+1][1].get_yaxis().set_visible(False)\n",
        "            break\n",
        "\n",
        "plt.show()\n",
        " # ------ END Your Code --------      "
      ],
      "execution_count": null,
      "outputs": [
        {
          "output_type": "display_data",
          "data": {
            "image/png": "[encoded data removed]",
            "text/plain": [
              "<Figure size 936x936 with 44 Axes>"
            ]
          },
          "metadata": {
            "tags": [],
            "needs_background": "light"
          }
        }
      ]
    },
    {
      "cell_type": "code",
      "metadata": {
        "id": "ZgLFzCW_2zGY"
      },
      "source": [
        "# ------ Start Your Code ------\n",
        "# Calculating L0,L2,Linf Norm for a sample image for different attacks for the summary section\n",
        "def calc_norm(image,p):\n",
        "    return torch.norm(image, p=p)\n",
        "\n",
        "image, label = next(iter(testloader))  \n",
        "image, label = image.to(device), label.to(device)\n",
        "\n",
        "# Original image norms\n",
        "L0_ori, L2_ori, Linf_ori = calc_norm(image, 0), calc_norm(image, 2), calc_norm(image, float(\"inf\"))\n",
        "print(\"Original image: LO = {}, L2 = {}, Linf = {}\".format(L0_ori, L2_ori, Linf_ori))\n",
        "\n",
        "# LinfPGD attack image norms\n",
        "_, advs, _ = attack(fmodel, image, label, epsilons=best_epsilon1)\n",
        "L0_PGD, L2_PGD, Linf_PGD = calc_norm(advs, 0), calc_norm(advs, 2), calc_norm(advs, float(\"inf\"))\n",
        "print(\"LinfPGD attack image: LO = {}, L2 = {}, Linf = {}\".format(L0_PGD, L2_PGD, Linf_PGD))\n",
        "\n",
        "# L2 Contrast Reduction attack image norms\n",
        "_, advs, _ = attack2(fmodel2, image, label, epsilons=best_epsilon2)\n",
        "L0_L2CTRD, L2_L2CTRD, Linf_L2CTRD = calc_norm(advs, 0), calc_norm(advs, 2), calc_norm(advs, float(\"inf\"))\n",
        "print(\"L2 contrast reduction attack image: LO = {}, L2 = {}, Linf = {}\".format(L0_L2CTRD, L2_L2CTRD, Linf_L2CTRD))\n",
        "\n",
        "# FGSM attack image norms\n",
        "modified_img = create_fgsm_image(image, best_epsilon)\n",
        "L0_FGSM, L2_FGSM, Linf_FGSM = calc_norm(modified_img, 0).data.numpy(), calc_norm(modified_img, 2).data.numpy(), calc_norm(modified_img, float(\"inf\")).data.numpy()\n",
        "print(\"FGSM attack image: LO = {}, L2 = {}, Linf = {}\".format(L0_FGSM, L2_FGSM, Linf_FGSM))\n",
        "# ------ END Your Code --------"
      ],
      "execution_count": null,
      "outputs": []
    },
    {
      "cell_type": "markdown",
      "metadata": {
        "id": "m6HxYLl3O1wV"
      },
      "source": [
        "**Which differences do you observe when comparing different attack methods? Why?**\n",
        "\n",
        "We see that Fast Grdient Sign Method (FGSM) calculates the gradient of the cost with respect to the input pixels and then optimizes the image to increase loss, holding the parameters constant. We finish with values that indicate how much the loss would change if that pixel value were updated by a single unit. FGSM takes the gradient and the sign of it and the method chooses some epsilons, and multiples the two together. Finally, this is added to the input image to get the modified perturbed image. \n",
        "\n",
        "Projected Gradient Descent(PGD) tries to find the distortion that maximises the loss of a model on a particular input while keeping the size of the perturbation smaller than epsilon. The constraint is referred as the L² or L∞ norm of the perturbation and in our adversary L∞ norm is used. \n",
        "\n",
        "In the constraint reduction attack, in gerneral the gradual distortion occurs for the pixels as follows:\n",
        "\n",
        "$$target = \\frac{max + min}2$$\n",
        "$$perturbed = (1 - \\epsilon) * image + \\epsilon * target$$\n",
        "\n",
        "where min and max values are computed across all pixels of images.\n",
        "\n",
        "[source: *Adam Dziedzic, Sanjay Krishnan. Analysis of Random Perturbations for Robust\n",
        "Convolutional Neural Networks.*]\n",
        "\n",
        "From the visualization, it seems that FGSM and PGD distorts the image quite similary as expected and causes the misclassification whereas contrast reduction attack clearly affects the contrast of the image while misclassifying evrything to class 5 here interestingly. \n",
        "\n",
        "\n",
        "**Does the attack always succeed (the model make wrong prediction on the adversarial sample)?**\n",
        "\n",
        "We would say in the given particular scenerio, the CNN model we trained for MNIST can be the victim almost ALWAYS. We observed that we just need to fine tune the epsilon according to different adversaries to make the model predicting wrong ALWAYS(~90%).\n",
        "\n",
        "**How different is the adversarial sample from the original image?\n",
        "(L0,L2,Linf norm)**  \n",
        "\n",
        "It seems like for L2 contrast reduction the L0 norm is quite similar to with the LO norm of the original image while for the remaining attacks the image's L0 norms are much smaller. Linf norm is smallest for L2 contrast reduction compared to other two. More details of the norms for different attacks for a sample image is already available in the above code section. \n",
        "\n",
        "**How about the computation cost of each attack method?**\n",
        "\n",
        "The gradient based methods should be computationally slower/costlier than that of contrast based method where something like sophisticated loss and gradient calculation are not invloved. This statement is validated while analyzing the time required for each attack. The LinfPGD attack takes more than 13 minutes to complete, FGSM requires about 3 minutes to run whereas, L2 Contrast Reduction only requires 35 seconds to finish the attack on MNIST test images which is minimum among all as expected.\n",
        "\n",
        "**Does the attack require white-box access to the model?**\n",
        "\n",
        "The LinfPGD and FGSM attacks are gradient based attacks and they require white-box access to the victim model. However, the L2 Contrast Reduction attack is a black-box attack as it only gradually distorts all the pixels of the image."
      ]
    },
    {
      "cell_type": "markdown",
      "metadata": {
        "id": "KJUmrv5Bymij"
      },
      "source": [
        "# 2. Defending an ML model\n",
        "\n",
        "So far, we have focused on attacking an ML model. In this section, we want you to defend your model. As before concerning the attack, you can chose an example from the lecture, or experiment with any idea you have.\n",
        "\n",
        "We do not require the defense to work perfectly - but what we want you to understand is why it works or why it does not work."
      ]
    },
    {
      "cell_type": "markdown",
      "metadata": {
        "id": "0gHUFK6Mymik"
      },
      "source": [
        "### 2.1: Implementing a defense of your choice (25 Points)\n",
        "As stated before, feel free to implement a defense or mitigation of your choice. Evaluate the defense on adversarial examples. This entails at least the 1,000 examples crafted from FGSM.   \n",
        "Also, you are encouraged (optional) to defend against the two other attack methods, i.e. you are free to increase this special test set (for example by >30 examples (>10 from your FGSM attack, >10 from both the two other attacks of the library))."
      ]
    },
    {
      "cell_type": "markdown",
      "metadata": {
        "id": "z4coqBsPURDt"
      },
      "source": [
        "#### Build an autoencoder\n"
      ]
    },
    {
      "cell_type": "code",
      "metadata": {
        "id": "9EBE5E2QlKac"
      },
      "source": [
        "# ------ Start Your Code ------\n",
        "mode = \"already_trained\"\n",
        "testloader = torch.utils.data.DataLoader(data_test, 1,\n",
        "                                              shuffle=True, num_workers=0)\n",
        "\n",
        "class Autoencoder(nn.Module):\n",
        "    def __init__(self):\n",
        "        super(Autoencoder, self).__init__()\n",
        "        self.conv1 = nn.Conv2d(1, 6, 5)\n",
        "        self.conv2 = nn.Conv2d(6, 16, 5)\n",
        "        self.conv3 = nn.ConvTranspose2d(16, 6, 5)\n",
        "        self.conv4 = nn.ConvTranspose2d(6, 1, 5)\n",
        "\n",
        "    def forward(self, x):\n",
        "        x = F.relu(self.conv1(x))\n",
        "        x = F.relu(self.conv2(x))\n",
        "        x = F.relu(self.conv3(x))\n",
        "        x = F.relu(self.conv4(x))\n",
        "        return x\n",
        "# ------ END Your Code --------"
      ],
      "execution_count": null,
      "outputs": []
    },
    {
      "cell_type": "markdown",
      "metadata": {
        "id": "rqfcxZRmUxi3"
      },
      "source": [
        "##### Train the autoencoder"
      ]
    },
    {
      "cell_type": "code",
      "metadata": {
        "id": "Ej2qNRIsUw1x"
      },
      "source": [
        "# ------ Start Your Code ------\n",
        "epsilon = [0.1, 0.4, 0.6, 0.8, 1.0, 1.2]   # train the autoencoder for multiple epsilon values\n",
        "\n",
        "def train(autoenc, opt, epochs, criterion_1, criterion_2):\n",
        "    for epoch in range(epochs):\n",
        "        losses = []\n",
        "        for image, label in trainloader:\n",
        "            for e in epsilon:\n",
        "                # create the fgsm images\n",
        "                image = image.to(device)\n",
        "                image.requires_grad = True\n",
        "                predicted = net(image)\n",
        "                loss = criterion_1(predicted, label)\n",
        "                net.zero_grad()\n",
        "                loss.backward()\n",
        "                gradient = image.grad.data\n",
        "                modified_img = fgsm(image, e, gradient)\n",
        "\n",
        "                # use them as input for the autoencoder\n",
        "                output = autoenc(modified_img)\n",
        "\n",
        "                # calculate the loss between the original image before the fgsm attack\n",
        "                # and the output and update the weights according to this\n",
        "                loss = criterion_2(output, image)\n",
        "                losses.append(loss.item())\n",
        "                autoenc.zero_grad()\n",
        "                loss.backward()\n",
        "                opt.step()\n",
        "        print(\"epoch {}: loss={}\".format(epoch+1, sum(losses)/len(losses)))\n",
        "        plt.imshow(output[0].detach().numpy().reshape((28, 28)))\n",
        "        plt.show()\n",
        "        plt.imshow(modified_img[0].detach().numpy().reshape((28, 28)))\n",
        "        plt.show()\n",
        "# ------ END Your Code --------   "
      ],
      "execution_count": null,
      "outputs": []
    },
    {
      "cell_type": "markdown",
      "metadata": {
        "id": "BpLsLMDfU8Ns"
      },
      "source": [
        "##### Initialization of the autoencoder"
      ]
    },
    {
      "cell_type": "code",
      "metadata": {
        "id": "zZ1jk_KHU8ck"
      },
      "source": [
        "# ------ Start Your Code ------\n",
        "if mode == \"train\":\n",
        "    criterion = nn.CrossEntropyLoss()\n",
        "    criterion2 = nn.MSELoss()\n",
        "    epochs = 40\n",
        "    # lr=0.005\n",
        "    # momentum=0.9\n",
        "    autoencoder = Autoencoder()\n",
        "    autoencoder = autoencoder.to(device)\n",
        "    # optimizer = optim.SGD(autoencoder.parameters(), lr, momentum)  # lead to many negative trainings\n",
        "    optimizer = optim.Adam(autoencoder.parameters(), 0.0005)         # better choice\n",
        "    train(autoencoder, optimizer, epochs, criterion, criterion2)\n",
        "    torch.save(autoencoder.state_dict(), \"./autoencoder.pth\")\n",
        "else:\n",
        "    autoencoder = Autoencoder()\n",
        "    autoencoder = autoencoder.to(device)\n",
        "    autoencoder.load_state_dict(torch.load(\"./autoencoder.pth\"))\n",
        "    autoencoder.eval()\n",
        "# ------ END Your Code --------"
      ],
      "execution_count": null,
      "outputs": []
    },
    {
      "cell_type": "markdown",
      "metadata": {
        "id": "PnECXyitVVOf"
      },
      "source": [
        "#### Attacking the original model"
      ]
    },
    {
      "cell_type": "code",
      "metadata": {
        "id": "DD0UalSeymim"
      },
      "source": [
        "# ------ Start Your Code ------\n",
        "e = best_epsilon\n",
        "correct = 0\n",
        "total = 0\n",
        "for image, label in testloader:\n",
        "    image, label = image.to(device), label.to(device)\n",
        "    image.requires_grad = True  # is needed for gradient calculation\n",
        "\n",
        "    predicted = net(image)\n",
        "    loss = criterion(predicted, label)   # calculate loss\n",
        "    net.zero_grad()\n",
        "    loss.backward()\n",
        "    gradient = image.grad.data\n",
        "\n",
        "    # modify image with fgsm\n",
        "    modified_img = fgsm(image, e, gradient)\n",
        "\n",
        "    # predict modified image and check if prediction is correct or not\n",
        "    predicted = net(modified_img)\n",
        "    _, prediction = torch.max(predicted.data, 1)\n",
        "    total += label.size(0)\n",
        "    correct += (prediction == label).sum().item()\n",
        "\n",
        "acc_FGSM = (correct / total) * 100\n",
        "# ------ END Your Code --------"
      ],
      "execution_count": null,
      "outputs": []
    },
    {
      "cell_type": "markdown",
      "metadata": {
        "id": "0LVhR9pDVr90"
      },
      "source": [
        "#### Attacking the model defended by the autoencoder"
      ]
    },
    {
      "cell_type": "code",
      "metadata": {
        "id": "M5A0dCYQVsE0"
      },
      "source": [
        "# ------ Start Your Code ------\n",
        "correct = 0\n",
        "total = 0\n",
        "for image, label in testloader:\n",
        "    image, label = image.to(device), label.to(device)\n",
        "    image.requires_grad = True  # is needed for gradient calculation\n",
        "\n",
        "    predicted = net(image)\n",
        "    loss = criterion(predicted, label)   # calculate loss\n",
        "    net.zero_grad()\n",
        "    loss.backward()\n",
        "    gradient = image.grad.data\n",
        "\n",
        "    # modify image with fgsm\n",
        "    modified_img = fgsm(image, e, gradient)\n",
        "\n",
        "    # put image into autoencoder\n",
        "    output = autoencoder(modified_img)\n",
        "\n",
        "    # predict modified image with output of autoencoder and check if prediction is correct or not\n",
        "    predicted = net(output)\n",
        "    _, prediction = torch.max(predicted.data, 1)\n",
        "    total += label.size(0)\n",
        "    correct += (prediction == label).sum().item()\n",
        "  \n",
        "acc_FGSM_defend = (correct / total) * 100\n",
        "# ------ END Your Code --------"
      ],
      "execution_count": null,
      "outputs": []
    },
    {
      "cell_type": "markdown",
      "metadata": {
        "id": "HAvZfr-cV4B4"
      },
      "source": [
        "#### Analyze the results"
      ]
    },
    {
      "cell_type": "code",
      "metadata": {
        "id": "QH3zZLJXV4Iu",
        "colab": {
          "base_uri": "https://localhost:8080/"
        },
        "outputId": "a4625a9f-e7eb-4277-e29f-c7df9d1c1e44"
      },
      "source": [
        "print('Accuracy on adversarial samples (FGSM) %.2f'%acc_FGSM + \"%\")\n",
        "print('Accuracy on adversarial samples (FGSM) after defense %.2f'%acc_FGSM_defend + \"%\")"
      ],
      "execution_count": null,
      "outputs": [
        {
          "output_type": "stream",
          "text": [
            "Accuracy on adversarial samples (FGSM) 4.98\n",
            "Accuracy on adversarial samples (FGSM) after defense 81.76%\n"
          ],
          "name": "stdout"
        }
      ]
    },
    {
      "cell_type": "markdown",
      "metadata": {
        "id": "JLBrYParu3nT"
      },
      "source": [
        "#### Plot the results"
      ]
    },
    {
      "cell_type": "code",
      "metadata": {
        "colab": {
          "base_uri": "https://localhost:8080/",
          "height": 1000
        },
        "id": "atT5QS6bvCRf",
        "outputId": "90c48f37-e891-4ad7-d5a0-7f1b25008817"
      },
      "source": [
        "# ------ Start Your Code ------\n",
        "for e in [0.8, 1.0, 1.2]:\n",
        "    rows, cols = 11, 3\n",
        "    fig,ax = plt.subplots(nrows = rows, ncols = cols, figsize=(13, 13))\n",
        "    fig.tight_layout()\n",
        "\n",
        "    print(\"\\n\\n\\n\\033[1mEpsilon =\", str(e) + \":\")\n",
        "    ax[0][0].set_title('Original Image', color='#06ABEE')\n",
        "    ax[0][1].set_title('FGSM Images', color='#06ABEE')\n",
        "    ax[0][2].set_title('Autoencoder result', color='#06ABEE')\n",
        "    ax[0][0].axis('off')\n",
        "    ax[0][1].axis('off')\n",
        "    ax[0][2].axis('off')\n",
        "\n",
        "\n",
        "    for i in range(1, 11):\n",
        "        for image, label in testloader:\n",
        "            image, label = image.to(device), label.to(device)\n",
        "            if label[0] == i-1:\n",
        "                # plot image before the attack and its prediction\n",
        "                predicted = net(image)\n",
        "                _, prediction = torch.max(predicted.data, 1)\n",
        "                if prediction != label:\n",
        "                    continue\n",
        "                ax[i][0].set_title(\"predicted label: {}\".format(prediction.item()))\n",
        "                ax[i][0].imshow(image.detach().numpy().reshape((28, 28)))\n",
        "                ax[i][0].get_xaxis().set_visible(False)\n",
        "                ax[i][0].get_yaxis().set_visible(False)\n",
        "\n",
        "                # plot image after the attack and its prediction\n",
        "                modified_img = create_fgsm_image(image, e)\n",
        "                predicted = net(modified_img)\n",
        "                _, prediction = torch.max(predicted.data, 1)\n",
        "                ax[i][1].set_title(\"predicted label: {}\".format(prediction.item()))\n",
        "                ax[i][1].imshow(modified_img.detach().numpy().reshape((28, 28)), cmap=\"gray\")\n",
        "                ax[i][1].get_xaxis().set_visible(False)\n",
        "                ax[i][1].get_yaxis().set_visible(False)\n",
        "\n",
        "                # plot image after usage of the autoencoder and its prediction\n",
        "                autoencoder_img = autoencoder(modified_img)\n",
        "                predicted = net(autoencoder_img)\n",
        "                _, prediction = torch.max(predicted.data, 1)\n",
        "                ax[i][2].set_title(\"predicted label: {}\".format(prediction.item()))\n",
        "                ax[i][2].imshow(autoencoder_img.detach().numpy().reshape((28, 28)), cmap=\"gray\")\n",
        "                ax[i][2].get_xaxis().set_visible(False)\n",
        "                ax[i][2].get_yaxis().set_visible(False)\n",
        "                break\n",
        "    plt.show()\n",
        "# ------ END Your Code --------"
      ],
      "execution_count": null,
      "outputs": [
        {
          "output_type": "stream",
          "text": [
            "\n",
            "\n",
            "\n",
            "\u001b[1mEpsilon = 0.8:\n"
          ],
          "name": "stdout"
        },
        {
          "output_type": "display_data",
          "data": {
            "image/png": "[encoded data removed]",
            "text/plain": [
              "<Figure size 936x936 with 33 Axes>"
            ]
          },
          "metadata": {
            "tags": [],
            "needs_background": "light"
          }
        },
        {
          "output_type": "stream",
          "text": [
            "\n",
            "\n",
            "\n",
            "\u001b[1mEpsilon = 1.0:\n"
          ],
          "name": "stdout"
        },
        {
          "output_type": "display_data",
          "data": {
            "image/png": "[encoded data removed]",
            "text/plain": [
              "<Figure size 936x936 with 33 Axes>"
            ]
          },
          "metadata": {
            "tags": [],
            "needs_background": "light"
          }
        },
        {
          "output_type": "stream",
          "text": [
            "\n",
            "\n",
            "\n",
            "\u001b[1mEpsilon = 1.2:\n"
          ],
          "name": "stdout"
        },
        {
          "output_type": "display_data",
          "data": {
            "image/png": "[encoded data removed]",
            "text/plain": [
              "<Figure size 936x936 with 33 Axes>"
            ]
          },
          "metadata": {
            "tags": [],
            "needs_background": "light"
          }
        }
      ]
    },
    {
      "cell_type": "code",
      "metadata": {
        "colab": {
          "base_uri": "https://localhost:8080/",
          "height": 294
        },
        "id": "WVMOOX6m6_T5",
        "outputId": "cd2209fa-954c-41e1-c984-a8bbf8e9e506"
      },
      "source": [
        "# ------ Start Your Code ------\n",
        "precomputed_attack_accuracies = [99.24, 96.65, 72.14, 31.01, 10.74, 5.03]\n",
        "epsilon = [0.1, 0.4, 0.6, 0.8, 1, 1.2]\n",
        "accuracies_defended = []\n",
        "for e in epsilon:\n",
        "    correct = 0\n",
        "    total = 0\n",
        "    for image, label in testloader:\n",
        "        # image, label = image.to(device), label.to(device)\n",
        "        # image.requires_grad = True  # is needed for gradient calculation\n",
        "\n",
        "        # predicted = net(image)\n",
        "        # loss = criterion(predicted, label)   # calculate loss\n",
        "        # net.zero_grad()\n",
        "        # loss.backward()\n",
        "        # gradient = image.grad.data\n",
        "\n",
        "        # modify image with fgsm\n",
        "        modified_img = create_fgsm_image(image, e)\n",
        "\n",
        "        # put image into autoencoder\n",
        "        output = autoencoder(modified_img)\n",
        "\n",
        "        # predict modified image with output of autoencoder and check if prediction is correct or not\n",
        "        predicted = net(output)\n",
        "        _, prediction = torch.max(predicted.data, 1)\n",
        "        total += label.size(0)\n",
        "        correct += (prediction == label).sum().item()\n",
        "    accuracies_defended.append((correct / total) * 100)\n",
        "\n",
        "\n",
        "plt.suptitle(\"Accuracies before and after defense for different epsilon\")\n",
        "attack = plt.plot(epsilon, precomputed_attack_accuracies, label=\"Before Defense\")\n",
        "defense = plt.plot(epsilon, accuracies_defended, label =\"After Defense\")\n",
        "plt.xticks(epsilon)\n",
        "plt.yticks(np.arange(0, 101, step=10))\n",
        "plt.legend()\n",
        "plt.show()\n",
        "# ------ END Your Code --------"
      ],
      "execution_count": null,
      "outputs": [
        {
          "output_type": "display_data",
          "data": {
            "image/png": "[encoded data removed]",
            "text/plain": [
              "<Figure size 432x288 with 1 Axes>"
            ]
          },
          "metadata": {
            "tags": [],
            "needs_background": "light"
          }
        }
      ]
    },
    {
      "cell_type": "markdown",
      "metadata": {
        "id": "sIMRqecuymir"
      },
      "source": [
        "### 2.2: Conclusions (15 Points)\n",
        "**<u> What did you try to make the classifier more robust against FGSM? </u>**\n",
        "\n",
        "To make the classifier more robust against FGSM, we tried to build an autoencoder, that would then be able to get FGSM attack images as input and to reverse the attack on this image, so that our CNN can recognize the pictures again. So to protect our model with our autoencoder, we simply have to put the trained autoencoder in front of our CNN, so that the output of the autoencoder is used as the input of our CNN.\n",
        "\n",
        "**<u> Why did it work? </u>**\n",
        "\n",
        "Our defense worked, because our autoencoder is able to reverse the effects of the FGSM attack by reversing the FGSM image. To do this we have to train the model by inputting the FGSM attack image into the autoencoder and then compute the loss with the output and the original image and then update the weights accordingly. We train the autoencoder also for multiple epsilon values, so that it is not only robust against one epsilon but against a wide range of epsilons. When the autoencoder is finally trained, then it will be able to recognize the most important features of such FGSM attack images and reverse the attack by reconstructing the image with its most important features. So as we can reverse the attack on the images before putting the image into our CNN, we can migitate the effects of the attack pretty well. \n",
        "\n",
        "**<u> Is the classifier now robust against FGSM? </u>**\n",
        "\n",
        "The classifier is now pretty robust against FGSM and will achieve an accuracy much higher than without protection. For epsilons to 1, it will have an accuracy higher than 90%. For epsilons over 1, the accuracy will go down a little bit until arround 80% as then the digits get really akward (some are also not recognizable by humans anymore) and so the autoencoder might get some trouble with reversing some images and will output a not quite optimal. \n",
        "\n",
        "**<u> Characteristics of the autoencoder </u>**\n",
        "\n",
        "We first trained the autoencoder only for one specific epsilon, before we decided to train it for multiple epsilons. We found out that if we train the autoencoder for one epsilon that we have an accuracy arround 97% for that epsilon. For other epsilons the encoder has the same accuracies as without protection. But when we trained it for multiple epsilon values it worked pretty good for all epsilons that it was trained for, but with a slightly lower accuray (arround 80%). At the end we decided to choose the second autoencoder as we want to protect our model not only against one epsilon, but against all of them. We also sent you the first autoencoder that worked only for epsilon = 1.2.\n",
        "\n",
        "We also found out when learning the autoencoder for this dataset, that the learning process failed when we chose a too high learning rate. In this case the autoencoder started to produce only black pictures from the second epoch on in some cases. When we then started to lower the learning rate it started to work and we had a pretty decent autoencoder. Then we started to improve it by adjusting the parameters as the learning rate and the batch size.\n",
        "\n",
        "**<u> Expectation of the performance </u>**\n",
        "\n",
        "First we thought that our encoder would work a little bit better than it did because the most important features of the image don't really change this much in a FGSM attack. So we thought that the autoencoder might find these in most of the cases and so would be able to reverse the attack in almost every case. When we trained it for one epsilon this was the case, but as our intention was to train it for all epsilon this wasn't the case anymore then. The reason for that is that the images look different for the different epsilons and so it must learn to reverse different looking images and so the performance doesn't stay that high for every epsilon.\n",
        "\n",
        "**<u> Final Conclusion </u>**\n",
        "But at the end we can say that our autoencoder did a pretty decent job and fulfilled its purpose of defending against FGSM attacks although we couldn't quite reach the original accuracy for every epsilon."
      ]
    },
    {
      "cell_type": "code",
      "metadata": {
        "id": "scROCZjDymit"
      },
      "source": [
        ""
      ],
      "execution_count": null,
      "outputs": []
    }
  ]
}