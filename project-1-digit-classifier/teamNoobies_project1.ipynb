{
  "nbformat": 4,
  "nbformat_minor": 0,
  "metadata": {
    "colab": {
      "name": "teamNoobies_project1.ipynb",
      "provenance": [],
      "collapsed_sections": []
    },
    "kernelspec": {
      "display_name": "Python 3",
      "language": "python",
      "name": "python3"
    },
    "language_info": {
      "codemirror_mode": {
        "name": "ipython",
        "version": 3
      },
      "file_extension": ".py",
      "mimetype": "text/x-python",
      "name": "python",
      "nbconvert_exporter": "python",
      "pygments_lexer": "ipython3",
      "version": "3.8.2"
    },
    "widgets": {
      "application/vnd.jupyter.widget-state+json": {
        "c651eb29ed724d249bccb9093f20c2a5": {
          "model_module": "@jupyter-widgets/controls",
          "model_name": "HBoxModel",
          "state": {
            "_view_name": "HBoxView",
            "_dom_classes": [],
            "_model_name": "HBoxModel",
            "_view_module": "@jupyter-widgets/controls",
            "_model_module_version": "1.5.0",
            "_view_count": null,
            "_view_module_version": "1.5.0",
            "box_style": "",
            "layout": "IPY_MODEL_735df55c2e674530930b09f9d26ee49d",
            "_model_module": "@jupyter-widgets/controls",
            "children": [
              "IPY_MODEL_6e17d121448f42c593db309b47496cd3",
              "IPY_MODEL_46851e3c66ea4a07b184df1b7aa9533d"
            ]
          }
        },
        "735df55c2e674530930b09f9d26ee49d": {
          "model_module": "@jupyter-widgets/base",
          "model_name": "LayoutModel",
          "state": {
            "_view_name": "LayoutView",
            "grid_template_rows": null,
            "right": null,
            "justify_content": null,
            "_view_module": "@jupyter-widgets/base",
            "overflow": null,
            "_model_module_version": "1.2.0",
            "_view_count": null,
            "flex_flow": null,
            "width": null,
            "min_width": null,
            "border": null,
            "align_items": null,
            "bottom": null,
            "_model_module": "@jupyter-widgets/base",
            "top": null,
            "grid_column": null,
            "overflow_y": null,
            "overflow_x": null,
            "grid_auto_flow": null,
            "grid_area": null,
            "grid_template_columns": null,
            "flex": null,
            "_model_name": "LayoutModel",
            "justify_items": null,
            "grid_row": null,
            "max_height": null,
            "align_content": null,
            "visibility": null,
            "align_self": null,
            "height": null,
            "min_height": null,
            "padding": null,
            "grid_auto_rows": null,
            "grid_gap": null,
            "max_width": null,
            "order": null,
            "_view_module_version": "1.2.0",
            "grid_template_areas": null,
            "object_position": null,
            "object_fit": null,
            "grid_auto_columns": null,
            "margin": null,
            "display": null,
            "left": null
          }
        },
        "6e17d121448f42c593db309b47496cd3": {
          "model_module": "@jupyter-widgets/controls",
          "model_name": "FloatProgressModel",
          "state": {
            "_view_name": "ProgressView",
            "style": "IPY_MODEL_40e9bb0c775e4b2583edd91c9ea505de",
            "_dom_classes": [],
            "description": "",
            "_model_name": "FloatProgressModel",
            "bar_style": "success",
            "max": 1,
            "_view_module": "@jupyter-widgets/controls",
            "_model_module_version": "1.5.0",
            "value": 1,
            "_view_count": null,
            "_view_module_version": "1.5.0",
            "orientation": "horizontal",
            "min": 0,
            "description_tooltip": null,
            "_model_module": "@jupyter-widgets/controls",
            "layout": "IPY_MODEL_d0f0bf385111494e80d6420c25a697aa"
          }
        },
        "46851e3c66ea4a07b184df1b7aa9533d": {
          "model_module": "@jupyter-widgets/controls",
          "model_name": "HTMLModel",
          "state": {
            "_view_name": "HTMLView",
            "style": "IPY_MODEL_3ec72c05d0be433188d7f026fa5d531a",
            "_dom_classes": [],
            "description": "",
            "_model_name": "HTMLModel",
            "placeholder": "​",
            "_view_module": "@jupyter-widgets/controls",
            "_model_module_version": "1.5.0",
            "value": " 9920512/? [00:00&lt;00:00, 13742887.61it/s]",
            "_view_count": null,
            "_view_module_version": "1.5.0",
            "description_tooltip": null,
            "_model_module": "@jupyter-widgets/controls",
            "layout": "IPY_MODEL_ff48be0e35584e98ab0f1f01f0eb1c2c"
          }
        },
        "40e9bb0c775e4b2583edd91c9ea505de": {
          "model_module": "@jupyter-widgets/controls",
          "model_name": "ProgressStyleModel",
          "state": {
            "_view_name": "StyleView",
            "_model_name": "ProgressStyleModel",
            "description_width": "initial",
            "_view_module": "@jupyter-widgets/base",
            "_model_module_version": "1.5.0",
            "_view_count": null,
            "_view_module_version": "1.2.0",
            "bar_color": null,
            "_model_module": "@jupyter-widgets/controls"
          }
        },
        "d0f0bf385111494e80d6420c25a697aa": {
          "model_module": "@jupyter-widgets/base",
          "model_name": "LayoutModel",
          "state": {
            "_view_name": "LayoutView",
            "grid_template_rows": null,
            "right": null,
            "justify_content": null,
            "_view_module": "@jupyter-widgets/base",
            "overflow": null,
            "_model_module_version": "1.2.0",
            "_view_count": null,
            "flex_flow": null,
            "width": null,
            "min_width": null,
            "border": null,
            "align_items": null,
            "bottom": null,
            "_model_module": "@jupyter-widgets/base",
            "top": null,
            "grid_column": null,
            "overflow_y": null,
            "overflow_x": null,
            "grid_auto_flow": null,
            "grid_area": null,
            "grid_template_columns": null,
            "flex": null,
            "_model_name": "LayoutModel",
            "justify_items": null,
            "grid_row": null,
            "max_height": null,
            "align_content": null,
            "visibility": null,
            "align_self": null,
            "height": null,
            "min_height": null,
            "padding": null,
            "grid_auto_rows": null,
            "grid_gap": null,
            "max_width": null,
            "order": null,
            "_view_module_version": "1.2.0",
            "grid_template_areas": null,
            "object_position": null,
            "object_fit": null,
            "grid_auto_columns": null,
            "margin": null,
            "display": null,
            "left": null
          }
        },
        "3ec72c05d0be433188d7f026fa5d531a": {
          "model_module": "@jupyter-widgets/controls",
          "model_name": "DescriptionStyleModel",
          "state": {
            "_view_name": "StyleView",
            "_model_name": "DescriptionStyleModel",
            "description_width": "",
            "_view_module": "@jupyter-widgets/base",
            "_model_module_version": "1.5.0",
            "_view_count": null,
            "_view_module_version": "1.2.0",
            "_model_module": "@jupyter-widgets/controls"
          }
        },
        "ff48be0e35584e98ab0f1f01f0eb1c2c": {
          "model_module": "@jupyter-widgets/base",
          "model_name": "LayoutModel",
          "state": {
            "_view_name": "LayoutView",
            "grid_template_rows": null,
            "right": null,
            "justify_content": null,
            "_view_module": "@jupyter-widgets/base",
            "overflow": null,
            "_model_module_version": "1.2.0",
            "_view_count": null,
            "flex_flow": null,
            "width": null,
            "min_width": null,
            "border": null,
            "align_items": null,
            "bottom": null,
            "_model_module": "@jupyter-widgets/base",
            "top": null,
            "grid_column": null,
            "overflow_y": null,
            "overflow_x": null,
            "grid_auto_flow": null,
            "grid_area": null,
            "grid_template_columns": null,
            "flex": null,
            "_model_name": "LayoutModel",
            "justify_items": null,
            "grid_row": null,
            "max_height": null,
            "align_content": null,
            "visibility": null,
            "align_self": null,
            "height": null,
            "min_height": null,
            "padding": null,
            "grid_auto_rows": null,
            "grid_gap": null,
            "max_width": null,
            "order": null,
            "_view_module_version": "1.2.0",
            "grid_template_areas": null,
            "object_position": null,
            "object_fit": null,
            "grid_auto_columns": null,
            "margin": null,
            "display": null,
            "left": null
          }
        },
        "3da63943f2764b488fae755951d48312": {
          "model_module": "@jupyter-widgets/controls",
          "model_name": "HBoxModel",
          "state": {
            "_view_name": "HBoxView",
            "_dom_classes": [],
            "_model_name": "HBoxModel",
            "_view_module": "@jupyter-widgets/controls",
            "_model_module_version": "1.5.0",
            "_view_count": null,
            "_view_module_version": "1.5.0",
            "box_style": "",
            "layout": "IPY_MODEL_469f5612b469488c85a079f1a5534952",
            "_model_module": "@jupyter-widgets/controls",
            "children": [
              "IPY_MODEL_8f1b0d867f01442892850ab57e5ee64e",
              "IPY_MODEL_f1c34b9b922040f5b865e199b089019a"
            ]
          }
        },
        "469f5612b469488c85a079f1a5534952": {
          "model_module": "@jupyter-widgets/base",
          "model_name": "LayoutModel",
          "state": {
            "_view_name": "LayoutView",
            "grid_template_rows": null,
            "right": null,
            "justify_content": null,
            "_view_module": "@jupyter-widgets/base",
            "overflow": null,
            "_model_module_version": "1.2.0",
            "_view_count": null,
            "flex_flow": null,
            "width": null,
            "min_width": null,
            "border": null,
            "align_items": null,
            "bottom": null,
            "_model_module": "@jupyter-widgets/base",
            "top": null,
            "grid_column": null,
            "overflow_y": null,
            "overflow_x": null,
            "grid_auto_flow": null,
            "grid_area": null,
            "grid_template_columns": null,
            "flex": null,
            "_model_name": "LayoutModel",
            "justify_items": null,
            "grid_row": null,
            "max_height": null,
            "align_content": null,
            "visibility": null,
            "align_self": null,
            "height": null,
            "min_height": null,
            "padding": null,
            "grid_auto_rows": null,
            "grid_gap": null,
            "max_width": null,
            "order": null,
            "_view_module_version": "1.2.0",
            "grid_template_areas": null,
            "object_position": null,
            "object_fit": null,
            "grid_auto_columns": null,
            "margin": null,
            "display": null,
            "left": null
          }
        },
        "8f1b0d867f01442892850ab57e5ee64e": {
          "model_module": "@jupyter-widgets/controls",
          "model_name": "FloatProgressModel",
          "state": {
            "_view_name": "ProgressView",
            "style": "IPY_MODEL_54f549ab0e8a41d482b90ede049d5677",
            "_dom_classes": [],
            "description": "",
            "_model_name": "FloatProgressModel",
            "bar_style": "info",
            "max": 1,
            "_view_module": "@jupyter-widgets/controls",
            "_model_module_version": "1.5.0",
            "value": 0,
            "_view_count": null,
            "_view_module_version": "1.5.0",
            "orientation": "horizontal",
            "min": 0,
            "description_tooltip": null,
            "_model_module": "@jupyter-widgets/controls",
            "layout": "IPY_MODEL_531762592a6c4dc9bc461c0325e909a3"
          }
        },
        "f1c34b9b922040f5b865e199b089019a": {
          "model_module": "@jupyter-widgets/controls",
          "model_name": "HTMLModel",
          "state": {
            "_view_name": "HTMLView",
            "style": "IPY_MODEL_9ae2d522f66144029962a01ddfdeef57",
            "_dom_classes": [],
            "description": "",
            "_model_name": "HTMLModel",
            "placeholder": "​",
            "_view_module": "@jupyter-widgets/controls",
            "_model_module_version": "1.5.0",
            "value": " 0/? [00:00&lt;?, ?it/s]",
            "_view_count": null,
            "_view_module_version": "1.5.0",
            "description_tooltip": null,
            "_model_module": "@jupyter-widgets/controls",
            "layout": "IPY_MODEL_76f61a61457743c98f1d78c9a9780f0b"
          }
        },
        "54f549ab0e8a41d482b90ede049d5677": {
          "model_module": "@jupyter-widgets/controls",
          "model_name": "ProgressStyleModel",
          "state": {
            "_view_name": "StyleView",
            "_model_name": "ProgressStyleModel",
            "description_width": "initial",
            "_view_module": "@jupyter-widgets/base",
            "_model_module_version": "1.5.0",
            "_view_count": null,
            "_view_module_version": "1.2.0",
            "bar_color": null,
            "_model_module": "@jupyter-widgets/controls"
          }
        },
        "531762592a6c4dc9bc461c0325e909a3": {
          "model_module": "@jupyter-widgets/base",
          "model_name": "LayoutModel",
          "state": {
            "_view_name": "LayoutView",
            "grid_template_rows": null,
            "right": null,
            "justify_content": null,
            "_view_module": "@jupyter-widgets/base",
            "overflow": null,
            "_model_module_version": "1.2.0",
            "_view_count": null,
            "flex_flow": null,
            "width": null,
            "min_width": null,
            "border": null,
            "align_items": null,
            "bottom": null,
            "_model_module": "@jupyter-widgets/base",
            "top": null,
            "grid_column": null,
            "overflow_y": null,
            "overflow_x": null,
            "grid_auto_flow": null,
            "grid_area": null,
            "grid_template_columns": null,
            "flex": null,
            "_model_name": "LayoutModel",
            "justify_items": null,
            "grid_row": null,
            "max_height": null,
            "align_content": null,
            "visibility": null,
            "align_self": null,
            "height": null,
            "min_height": null,
            "padding": null,
            "grid_auto_rows": null,
            "grid_gap": null,
            "max_width": null,
            "order": null,
            "_view_module_version": "1.2.0",
            "grid_template_areas": null,
            "object_position": null,
            "object_fit": null,
            "grid_auto_columns": null,
            "margin": null,
            "display": null,
            "left": null
          }
        },
        "9ae2d522f66144029962a01ddfdeef57": {
          "model_module": "@jupyter-widgets/controls",
          "model_name": "DescriptionStyleModel",
          "state": {
            "_view_name": "StyleView",
            "_model_name": "DescriptionStyleModel",
            "description_width": "",
            "_view_module": "@jupyter-widgets/base",
            "_model_module_version": "1.5.0",
            "_view_count": null,
            "_view_module_version": "1.2.0",
            "_model_module": "@jupyter-widgets/controls"
          }
        },
        "76f61a61457743c98f1d78c9a9780f0b": {
          "model_module": "@jupyter-widgets/base",
          "model_name": "LayoutModel",
          "state": {
            "_view_name": "LayoutView",
            "grid_template_rows": null,
            "right": null,
            "justify_content": null,
            "_view_module": "@jupyter-widgets/base",
            "overflow": null,
            "_model_module_version": "1.2.0",
            "_view_count": null,
            "flex_flow": null,
            "width": null,
            "min_width": null,
            "border": null,
            "align_items": null,
            "bottom": null,
            "_model_module": "@jupyter-widgets/base",
            "top": null,
            "grid_column": null,
            "overflow_y": null,
            "overflow_x": null,
            "grid_auto_flow": null,
            "grid_area": null,
            "grid_template_columns": null,
            "flex": null,
            "_model_name": "LayoutModel",
            "justify_items": null,
            "grid_row": null,
            "max_height": null,
            "align_content": null,
            "visibility": null,
            "align_self": null,
            "height": null,
            "min_height": null,
            "padding": null,
            "grid_auto_rows": null,
            "grid_gap": null,
            "max_width": null,
            "order": null,
            "_view_module_version": "1.2.0",
            "grid_template_areas": null,
            "object_position": null,
            "object_fit": null,
            "grid_auto_columns": null,
            "margin": null,
            "display": null,
            "left": null
          }
        },
        "2048382fa6c14b0691fbbdfa5b1ac695": {
          "model_module": "@jupyter-widgets/controls",
          "model_name": "HBoxModel",
          "state": {
            "_view_name": "HBoxView",
            "_dom_classes": [],
            "_model_name": "HBoxModel",
            "_view_module": "@jupyter-widgets/controls",
            "_model_module_version": "1.5.0",
            "_view_count": null,
            "_view_module_version": "1.5.0",
            "box_style": "",
            "layout": "IPY_MODEL_298ab7356b0442b5990fd4ec2a75d9f2",
            "_model_module": "@jupyter-widgets/controls",
            "children": [
              "IPY_MODEL_e616ce7d747a45c395fe6d650c8567a6",
              "IPY_MODEL_cab9b6bed6d642fbb8499c83808f08fa"
            ]
          }
        },
        "298ab7356b0442b5990fd4ec2a75d9f2": {
          "model_module": "@jupyter-widgets/base",
          "model_name": "LayoutModel",
          "state": {
            "_view_name": "LayoutView",
            "grid_template_rows": null,
            "right": null,
            "justify_content": null,
            "_view_module": "@jupyter-widgets/base",
            "overflow": null,
            "_model_module_version": "1.2.0",
            "_view_count": null,
            "flex_flow": null,
            "width": null,
            "min_width": null,
            "border": null,
            "align_items": null,
            "bottom": null,
            "_model_module": "@jupyter-widgets/base",
            "top": null,
            "grid_column": null,
            "overflow_y": null,
            "overflow_x": null,
            "grid_auto_flow": null,
            "grid_area": null,
            "grid_template_columns": null,
            "flex": null,
            "_model_name": "LayoutModel",
            "justify_items": null,
            "grid_row": null,
            "max_height": null,
            "align_content": null,
            "visibility": null,
            "align_self": null,
            "height": null,
            "min_height": null,
            "padding": null,
            "grid_auto_rows": null,
            "grid_gap": null,
            "max_width": null,
            "order": null,
            "_view_module_version": "1.2.0",
            "grid_template_areas": null,
            "object_position": null,
            "object_fit": null,
            "grid_auto_columns": null,
            "margin": null,
            "display": null,
            "left": null
          }
        },
        "e616ce7d747a45c395fe6d650c8567a6": {
          "model_module": "@jupyter-widgets/controls",
          "model_name": "FloatProgressModel",
          "state": {
            "_view_name": "ProgressView",
            "style": "IPY_MODEL_7f30afc266f84fd9b5b1d0d4973519b6",
            "_dom_classes": [],
            "description": "  0%",
            "_model_name": "FloatProgressModel",
            "bar_style": "info",
            "max": 1,
            "_view_module": "@jupyter-widgets/controls",
            "_model_module_version": "1.5.0",
            "value": 0,
            "_view_count": null,
            "_view_module_version": "1.5.0",
            "orientation": "horizontal",
            "min": 0,
            "description_tooltip": null,
            "_model_module": "@jupyter-widgets/controls",
            "layout": "IPY_MODEL_69f3c06113e3482c9a478d414b22ad2d"
          }
        },
        "cab9b6bed6d642fbb8499c83808f08fa": {
          "model_module": "@jupyter-widgets/controls",
          "model_name": "HTMLModel",
          "state": {
            "_view_name": "HTMLView",
            "style": "IPY_MODEL_358b968d5db54dc3a0b4404df52e4bf2",
            "_dom_classes": [],
            "description": "",
            "_model_name": "HTMLModel",
            "placeholder": "​",
            "_view_module": "@jupyter-widgets/controls",
            "_model_module_version": "1.5.0",
            "value": " 0/1648877 [00:00&lt;?, ?it/s]",
            "_view_count": null,
            "_view_module_version": "1.5.0",
            "description_tooltip": null,
            "_model_module": "@jupyter-widgets/controls",
            "layout": "IPY_MODEL_267388d99aa3452881a033c1875143f9"
          }
        },
        "7f30afc266f84fd9b5b1d0d4973519b6": {
          "model_module": "@jupyter-widgets/controls",
          "model_name": "ProgressStyleModel",
          "state": {
            "_view_name": "StyleView",
            "_model_name": "ProgressStyleModel",
            "description_width": "initial",
            "_view_module": "@jupyter-widgets/base",
            "_model_module_version": "1.5.0",
            "_view_count": null,
            "_view_module_version": "1.2.0",
            "bar_color": null,
            "_model_module": "@jupyter-widgets/controls"
          }
        },
        "69f3c06113e3482c9a478d414b22ad2d": {
          "model_module": "@jupyter-widgets/base",
          "model_name": "LayoutModel",
          "state": {
            "_view_name": "LayoutView",
            "grid_template_rows": null,
            "right": null,
            "justify_content": null,
            "_view_module": "@jupyter-widgets/base",
            "overflow": null,
            "_model_module_version": "1.2.0",
            "_view_count": null,
            "flex_flow": null,
            "width": null,
            "min_width": null,
            "border": null,
            "align_items": null,
            "bottom": null,
            "_model_module": "@jupyter-widgets/base",
            "top": null,
            "grid_column": null,
            "overflow_y": null,
            "overflow_x": null,
            "grid_auto_flow": null,
            "grid_area": null,
            "grid_template_columns": null,
            "flex": null,
            "_model_name": "LayoutModel",
            "justify_items": null,
            "grid_row": null,
            "max_height": null,
            "align_content": null,
            "visibility": null,
            "align_self": null,
            "height": null,
            "min_height": null,
            "padding": null,
            "grid_auto_rows": null,
            "grid_gap": null,
            "max_width": null,
            "order": null,
            "_view_module_version": "1.2.0",
            "grid_template_areas": null,
            "object_position": null,
            "object_fit": null,
            "grid_auto_columns": null,
            "margin": null,
            "display": null,
            "left": null
          }
        },
        "358b968d5db54dc3a0b4404df52e4bf2": {
          "model_module": "@jupyter-widgets/controls",
          "model_name": "DescriptionStyleModel",
          "state": {
            "_view_name": "StyleView",
            "_model_name": "DescriptionStyleModel",
            "description_width": "",
            "_view_module": "@jupyter-widgets/base",
            "_model_module_version": "1.5.0",
            "_view_count": null,
            "_view_module_version": "1.2.0",
            "_model_module": "@jupyter-widgets/controls"
          }
        },
        "267388d99aa3452881a033c1875143f9": {
          "model_module": "@jupyter-widgets/base",
          "model_name": "LayoutModel",
          "state": {
            "_view_name": "LayoutView",
            "grid_template_rows": null,
            "right": null,
            "justify_content": null,
            "_view_module": "@jupyter-widgets/base",
            "overflow": null,
            "_model_module_version": "1.2.0",
            "_view_count": null,
            "flex_flow": null,
            "width": null,
            "min_width": null,
            "border": null,
            "align_items": null,
            "bottom": null,
            "_model_module": "@jupyter-widgets/base",
            "top": null,
            "grid_column": null,
            "overflow_y": null,
            "overflow_x": null,
            "grid_auto_flow": null,
            "grid_area": null,
            "grid_template_columns": null,
            "flex": null,
            "_model_name": "LayoutModel",
            "justify_items": null,
            "grid_row": null,
            "max_height": null,
            "align_content": null,
            "visibility": null,
            "align_self": null,
            "height": null,
            "min_height": null,
            "padding": null,
            "grid_auto_rows": null,
            "grid_gap": null,
            "max_width": null,
            "order": null,
            "_view_module_version": "1.2.0",
            "grid_template_areas": null,
            "object_position": null,
            "object_fit": null,
            "grid_auto_columns": null,
            "margin": null,
            "display": null,
            "left": null
          }
        },
        "9d1fcb604a0f4833badf74251977ecce": {
          "model_module": "@jupyter-widgets/controls",
          "model_name": "HBoxModel",
          "state": {
            "_view_name": "HBoxView",
            "_dom_classes": [],
            "_model_name": "HBoxModel",
            "_view_module": "@jupyter-widgets/controls",
            "_model_module_version": "1.5.0",
            "_view_count": null,
            "_view_module_version": "1.5.0",
            "box_style": "",
            "layout": "IPY_MODEL_c6bc2893ff0d4c50bdc4a9a116af4653",
            "_model_module": "@jupyter-widgets/controls",
            "children": [
              "IPY_MODEL_9956b6118df145d1b7ae0c4ebb0ab9f8",
              "IPY_MODEL_be5b069c8b6a4234834665d87c407e13"
            ]
          }
        },
        "c6bc2893ff0d4c50bdc4a9a116af4653": {
          "model_module": "@jupyter-widgets/base",
          "model_name": "LayoutModel",
          "state": {
            "_view_name": "LayoutView",
            "grid_template_rows": null,
            "right": null,
            "justify_content": null,
            "_view_module": "@jupyter-widgets/base",
            "overflow": null,
            "_model_module_version": "1.2.0",
            "_view_count": null,
            "flex_flow": null,
            "width": null,
            "min_width": null,
            "border": null,
            "align_items": null,
            "bottom": null,
            "_model_module": "@jupyter-widgets/base",
            "top": null,
            "grid_column": null,
            "overflow_y": null,
            "overflow_x": null,
            "grid_auto_flow": null,
            "grid_area": null,
            "grid_template_columns": null,
            "flex": null,
            "_model_name": "LayoutModel",
            "justify_items": null,
            "grid_row": null,
            "max_height": null,
            "align_content": null,
            "visibility": null,
            "align_self": null,
            "height": null,
            "min_height": null,
            "padding": null,
            "grid_auto_rows": null,
            "grid_gap": null,
            "max_width": null,
            "order": null,
            "_view_module_version": "1.2.0",
            "grid_template_areas": null,
            "object_position": null,
            "object_fit": null,
            "grid_auto_columns": null,
            "margin": null,
            "display": null,
            "left": null
          }
        },
        "9956b6118df145d1b7ae0c4ebb0ab9f8": {
          "model_module": "@jupyter-widgets/controls",
          "model_name": "FloatProgressModel",
          "state": {
            "_view_name": "ProgressView",
            "style": "IPY_MODEL_d3909ed909b44fb2ae52fe718a80fccb",
            "_dom_classes": [],
            "description": "",
            "_model_name": "FloatProgressModel",
            "bar_style": "info",
            "max": 1,
            "_view_module": "@jupyter-widgets/controls",
            "_model_module_version": "1.5.0",
            "value": 0,
            "_view_count": null,
            "_view_module_version": "1.5.0",
            "orientation": "horizontal",
            "min": 0,
            "description_tooltip": null,
            "_model_module": "@jupyter-widgets/controls",
            "layout": "IPY_MODEL_e42bad73307c4c64a2a70f42508dbbb7"
          }
        },
        "be5b069c8b6a4234834665d87c407e13": {
          "model_module": "@jupyter-widgets/controls",
          "model_name": "HTMLModel",
          "state": {
            "_view_name": "HTMLView",
            "style": "IPY_MODEL_b9e09d56e90545be83eb0a842b2a8ba7",
            "_dom_classes": [],
            "description": "",
            "_model_name": "HTMLModel",
            "placeholder": "​",
            "_view_module": "@jupyter-widgets/controls",
            "_model_module_version": "1.5.0",
            "value": " 0/? [00:00&lt;?, ?it/s]",
            "_view_count": null,
            "_view_module_version": "1.5.0",
            "description_tooltip": null,
            "_model_module": "@jupyter-widgets/controls",
            "layout": "IPY_MODEL_11f84117469e411b894fb73aae79d5fa"
          }
        },
        "d3909ed909b44fb2ae52fe718a80fccb": {
          "model_module": "@jupyter-widgets/controls",
          "model_name": "ProgressStyleModel",
          "state": {
            "_view_name": "StyleView",
            "_model_name": "ProgressStyleModel",
            "description_width": "initial",
            "_view_module": "@jupyter-widgets/base",
            "_model_module_version": "1.5.0",
            "_view_count": null,
            "_view_module_version": "1.2.0",
            "bar_color": null,
            "_model_module": "@jupyter-widgets/controls"
          }
        },
        "e42bad73307c4c64a2a70f42508dbbb7": {
          "model_module": "@jupyter-widgets/base",
          "model_name": "LayoutModel",
          "state": {
            "_view_name": "LayoutView",
            "grid_template_rows": null,
            "right": null,
            "justify_content": null,
            "_view_module": "@jupyter-widgets/base",
            "overflow": null,
            "_model_module_version": "1.2.0",
            "_view_count": null,
            "flex_flow": null,
            "width": null,
            "min_width": null,
            "border": null,
            "align_items": null,
            "bottom": null,
            "_model_module": "@jupyter-widgets/base",
            "top": null,
            "grid_column": null,
            "overflow_y": null,
            "overflow_x": null,
            "grid_auto_flow": null,
            "grid_area": null,
            "grid_template_columns": null,
            "flex": null,
            "_model_name": "LayoutModel",
            "justify_items": null,
            "grid_row": null,
            "max_height": null,
            "align_content": null,
            "visibility": null,
            "align_self": null,
            "height": null,
            "min_height": null,
            "padding": null,
            "grid_auto_rows": null,
            "grid_gap": null,
            "max_width": null,
            "order": null,
            "_view_module_version": "1.2.0",
            "grid_template_areas": null,
            "object_position": null,
            "object_fit": null,
            "grid_auto_columns": null,
            "margin": null,
            "display": null,
            "left": null
          }
        },
        "b9e09d56e90545be83eb0a842b2a8ba7": {
          "model_module": "@jupyter-widgets/controls",
          "model_name": "DescriptionStyleModel",
          "state": {
            "_view_name": "StyleView",
            "_model_name": "DescriptionStyleModel",
            "description_width": "",
            "_view_module": "@jupyter-widgets/base",
            "_model_module_version": "1.5.0",
            "_view_count": null,
            "_view_module_version": "1.2.0",
            "_model_module": "@jupyter-widgets/controls"
          }
        },
        "11f84117469e411b894fb73aae79d5fa": {
          "model_module": "@jupyter-widgets/base",
          "model_name": "LayoutModel",
          "state": {
            "_view_name": "LayoutView",
            "grid_template_rows": null,
            "right": null,
            "justify_content": null,
            "_view_module": "@jupyter-widgets/base",
            "overflow": null,
            "_model_module_version": "1.2.0",
            "_view_count": null,
            "flex_flow": null,
            "width": null,
            "min_width": null,
            "border": null,
            "align_items": null,
            "bottom": null,
            "_model_module": "@jupyter-widgets/base",
            "top": null,
            "grid_column": null,
            "overflow_y": null,
            "overflow_x": null,
            "grid_auto_flow": null,
            "grid_area": null,
            "grid_template_columns": null,
            "flex": null,
            "_model_name": "LayoutModel",
            "justify_items": null,
            "grid_row": null,
            "max_height": null,
            "align_content": null,
            "visibility": null,
            "align_self": null,
            "height": null,
            "min_height": null,
            "padding": null,
            "grid_auto_rows": null,
            "grid_gap": null,
            "max_width": null,
            "order": null,
            "_view_module_version": "1.2.0",
            "grid_template_areas": null,
            "object_position": null,
            "object_fit": null,
            "grid_auto_columns": null,
            "margin": null,
            "display": null,
            "left": null
          }
        }
      }
    }
  },
  "cells": [
    {
      "cell_type": "markdown",
      "metadata": {
        "id": "4NzyqehHjUlG"
      },
      "source": [
        "# ML in Cybersecurity: Project I\n",
        "\n",
        "## Team\n",
        "  * **Team name**:  *Noobies*\n",
        "  * **Members**:  *Mejbah Uddin Shameem (s8mesham@stud.uni-saarland.de), Norman Becker (nobe00001@stud.uni-saarland.de), Philipp Baus (s8phbaus@stud.uni-saarland.de)*\n",
        "\n",
        "## Logistics\n",
        "  * **Due date**: 29th November 2020, 23:59:59 (email the completed notebook to mlcysec_ws2021_staff@lists.cispa.saarland)\n",
        "  * Complete this in **teams of 3**\n",
        "  * Feel free to use the course [mailing list](https://lists.cispa.saarland/listinfo/mlcysec_ws2021_stud) to find group members.\n",
        "  \n",
        "## Timeline\n",
        "  * 16-Nov-2020: Project 1 hand-out\n",
        "  * **29-Nov-2020** (23:59:59): Email the completed notebook to mlcysec_ws2021_staff@lists.cispa.saarland\n",
        "  * 30-Nov-2020: Project 1 discussion and summary\n",
        "  \n",
        "  \n",
        "## About this Project\n",
        "In this project, you'll implement a digit classifier, based on the popular [MNIST](http://yann.lecun.com/exdb/mnist/) dataset. The dataset is based on a seminal [paper](http://yann.lecun.com/exdb/publis/pdf/lecun-01a.pdf), which immensely popularized (convolutional) neural networks. This is a great starting point for ML research and this dataset/model has been a stepping stone numerous other tasks such as [GANs](https://papers.nips.cc/paper/5423-generative-adversarial-nets.pdf), [Adversarial Perturbations](https://arxiv.org/abs/1412.6572) and so many more!\n",
        "\n",
        "This dataset consists of data $\\mathcal{D} = \\{x_i, y_i\\}_{i=1}^N$, where $x_i$ is a 28x28 pixel grayscale image and $y_i$ is a scalar represeting digits between 0-9. The notebook will guide you to load this data, implement classifiers $\\hat{y_i} = f_w(x_i)$  and analyze results. By doing so, you'll have a ML model that works on real data!\n",
        "\n",
        "To put things into context, have a look at Slide 21 in the [second](https://cms.cispa.saarland/mlcysec19/dl/4/2019-10-24-ml.pdf) lecture. Within this framework, the following blocks of this project are fixed:\n",
        "  * *Real-world problem*: Digit classification\n",
        "  * *Performance metric*: Mean accuracy i.e., $ \\frac{1}{N} \\sum_{i=1}^N \\mathbb{1}[\\hat{y_i} = y_i]$, where $\\mathbb{1}[\\hat{y_i} = y_i]$ is 1 if your model predicted the right digit for the $i$-th digit and 0 otherwise.\n",
        "  * *Data*: The MNIST dataset\n",
        "\n",
        "You'll make the the following design-choices:\n",
        " * *Choice of Model*: A model family (Non-parametric methods, Linear classifiers, Neural Networks, etc.)\n",
        " * *ML Model*: Specific model (e.g., SVM with a polynomial kernel)\n",
        " * *Loss/Risk*\n",
        " * *Optimization*\n",
        "\n",
        "\n",
        "## A Note on Grading\n",
        "The grading for this project will depend on:\n",
        " 1. Functional digit classifier\n",
        "   * Following a well-defined ML pipeline\n",
        "   * Developing 3 classification models (keep them diverse and ideally of increasing complexity)\n",
        "   * Obtaining reasonable accuracies (>80%) on a held-out test set\n",
        " 1. Analysis\n",
        "   * Which methods work better than the rest and why?\n",
        "   * Which hyper-parameters and design-choices were important in each of your methods?\n",
        "   * Quantifying influence of these hyper-parameters on loss and/or validation accuracies\n",
        "   * Trade-offs between methods, hyper-parameters, design-choices\n",
        "    * Anything else you find interesting (this part is open-ended)\n",
        "  \n",
        " A note on (1.): \n",
        "  * Choose your models that aids good insights. We require at least one non-Neural Network (e.g., SVM, KNN) and one Neural Network model (e.g., MLP, CNN).\n",
        "  * We definitely don't expect all three models to achieve >99% test accuracies!\n",
        "\n",
        "## Grading Details\n",
        " * 5 points for loading and visualization \n",
        " * 25x3 points for models. Per model:\n",
        "   * 4 points for written description \n",
        "   * 7 points for implementation\n",
        "   * 7 points for evaluation\n",
        "   * 7 points for summary\n",
        " * 15 points for final summary (Section 3)\n",
        " * 5 points for clean code\n",
        " \n",
        "## Filling-in the Notebook\n",
        "You'll be submitting this very notebook that is filled-in with your code and analysis. Make sure you submit one that has been previously executed in-order. (So that results/graphs are already visible upon opening it). \n",
        "\n",
        "The notebook you submit **should compile** (or should be self-contained and sufficiently commented). Check tutorial 1 on how to set up the Python3 environment.\n",
        "\n",
        "\n",
        "**The notebook is your project report. So, to make the report readable, omit code for techniques/models/things that did not work. You can use final summary to provide report about these codes.**\n",
        "\n",
        "It is extremely important that you **do not** re-order the existing sections. Apart from that, the code blocks that you need to fill-in are given by:\n",
        "```\n",
        "#\n",
        "#\n",
        "# ------- Your Code -------\n",
        "#\n",
        "#\n",
        "```\n",
        "Feel free to break this into multiple-cells. It's even better if you interleave explanations and code-blocks so that the entire notebook forms a readable \"story\".\n",
        "\n",
        "\n",
        "## Code of Honor\n",
        "We encourage discussing ideas and concepts with other students to help you learn and better understand the course content. However, the work you submit and present **must be original** and demonstrate your effort in solving the presented problems. **We will not tolerate** blatantly using existing solutions (such as from the internet), improper collaboration (e.g., sharing code or experimental data between groups) and plagiarism. If the honor code is not met, no points will be awarded.\n",
        "\n",
        " \n",
        " ## Versions\n",
        "  * v2.0: Added pytorch\n",
        "  * v1.1: Added Code of Honor\n",
        "  * v1.0: Initial notebook\n",
        "  \n",
        "  ---"
      ]
    },
    {
      "cell_type": "code",
      "metadata": {
        "id": "3ewNwfFvbFaR"
      },
      "source": [
        "import time \n",
        " \n",
        "import numpy as np \n",
        "import matplotlib.pyplot as plt \n",
        "\n",
        "import json \n",
        "import time \n",
        "import pickle \n",
        "import sys \n",
        "import csv \n",
        "import os \n",
        "import os.path as osp \n",
        "import shutil \n",
        "\n",
        "import pandas as pd\n",
        "\n",
        "from IPython.display import display, HTML\n",
        " \n",
        "%matplotlib inline \n",
        "plt.rcParams['figure.figsize'] = (10.0, 8.0) # set default size of plots \n",
        "plt.rcParams['image.interpolation'] = 'nearest' \n",
        "plt.rcParams['image.cmap'] = 'gray' \n",
        " \n",
        "# for auto-reloading external modules \n",
        "# see http://stackoverflow.com/questions/1907993/autoreload-of-modules-in-ipython \n",
        "%load_ext autoreload\n",
        "%autoreload 2"
      ],
      "execution_count": null,
      "outputs": []
    },
    {
      "cell_type": "code",
      "metadata": {
        "colab": {
          "base_uri": "https://localhost:8080/"
        },
        "id": "640GrzbOevr0",
        "outputId": "7abbefc2-7d5c-4a3d-facc-08cfff6c55a1"
      },
      "source": [
        "# Load other libraries here.\n",
        "# Keep it minimal! We should be easily able to reproduce your code.\n",
        "\n",
        "# We only support sklearn and pytorch.\n",
        "\n",
        "# Please set random seed to have reproduceable results, e.g. torch.manual_seed(123)\n",
        "from sklearn.model_selection import train_test_split\n",
        "from sklearn.neighbors import KNeighborsClassifier\n",
        "import pickle\n",
        "import torchvision.transforms as transforms\n",
        "import torch\n",
        "import torch.nn as nn\n",
        "import torch.optim as optim\n",
        "import torch.nn.functional as F\n",
        "import torchvision\n",
        "import time\n",
        "from sklearn import svm, metrics\n",
        "torch.manual_seed(123)"
      ],
      "execution_count": null,
      "outputs": [
        {
          "output_type": "execute_result",
          "data": {
            "text/plain": [
              "<torch._C.Generator at 0x7f37726f02e8>"
            ]
          },
          "metadata": {
            "tags": []
          },
          "execution_count": 2
        }
      ]
    },
    {
      "cell_type": "markdown",
      "metadata": {
        "id": "nxi-lLD0mKHD"
      },
      "source": [
        "Helpers\n",
        "\n",
        "In case you choose to have some methods you plan to reuse during the notebook, define them here. This will avoid clutter and keep rest of the notebook succinct."
      ]
    },
    {
      "cell_type": "code",
      "metadata": {
        "id": "VBbigqdEmKd8"
      },
      "source": [
        "def identity_func(foo):\n",
        "    return foo\n",
        "\n",
        "# ------ Start Your Code ------\n",
        "\n",
        "def show_wrong_numbers(y_eval,predictions):\n",
        "  wrong_number = []\n",
        "  # append wrong digit predictions to the array\n",
        "  for counter_elem in range(0,len(predictions)):\n",
        "          if y_eval[counter_elem] != predictions[counter_elem]:\n",
        "              wrong_number.append(y_eval[counter_elem])\n",
        "  fig, ax = plt.subplots()\n",
        "  fig.suptitle(\"Distribution of the Wrong predicted numbers\") # set the title of the figure\n",
        "  count = [0, 0, 0, 0, 0, 0, 0, 0, 0, 0]\n",
        "  # count how often each digit got misspredicted (count how often they occur in the array)\n",
        "  for label in wrong_number:\n",
        "      count[label] += 1\n",
        "  # plot the number of misspredictions per digit with a bar chart\n",
        "  ax.bar(np.arange(10), count, align=\"center\")\n",
        "  ax.set_xlabel(\"Digit\")\n",
        "  ax.set_ylabel(\"Number of occurences \")\n",
        "  ax.set_xticks(np.arange(10))\n",
        "  plt.show()\n",
        "\n",
        "# ------ END Your Code --------\n",
        "\n",
        "# You can use this function to flatten 2D inputs\n",
        "def flatten_input_pixels(x_input):\n",
        "    result = []\n",
        "    for i in range(len(x_input)):\n",
        "        result.append(x_input[i].flatten())\n",
        "    return np.array(result, np.uint8)  # [n_samples, n_features]\n",
        "\n",
        "\n",
        "# You can use this function to plot the accuracy of the models with different parametes\n",
        "def plot_scores(x, y, title = \"Title\", x_label = \"X\", y_label = \"Y\"):\n",
        "    fig, ax = plt.subplots(nrows=1,ncols=1)\n",
        "\n",
        "    ax.plot(x, y)\n",
        "    ax.set_xticks(x)\n",
        "    ax.set_title(title)\n",
        "    ax.set_xlabel(x_label)\n",
        "    ax.set_ylabel(y_label)\n",
        "    ax.set_ylim(0.6, 1.0)\n",
        "\n",
        "# You can use this function to visualize input images and the predictions of your models\n",
        "# \"y_pred\" is output of your model \n",
        "# \"n_val\" is number of instances in test or validation sets\n",
        "def vis_predictions(x_eval, y_pred, n_val):\n",
        "    rows, cols = 4, 3\n",
        "\n",
        "    fig,ax = plt.subplots(nrows = rows, ncols = cols)\n",
        "\n",
        "    ids = np.random.randint(0,n_val,rows*cols)\n",
        "    for i in range(cols):   \n",
        "        for j in range(rows):\n",
        "            ax[j][i].set_title('predicted label: {0}'. format(y_pred[ids[(i*rows)+j]]))\n",
        "            two_d = (np.reshape(x_eval[ids[(i*rows)+j]], (28, 28))).astype(np.uint8)\n",
        "            ax[j][i].imshow(two_d)\n",
        "            ax[j][i].axes.get_xaxis().set_visible(False)\n",
        "            ax[j][i].axes.get_yaxis().set_visible(False)\n",
        "\n",
        "\n",
        "    plt.tight_layout()  "
      ],
      "execution_count": null,
      "outputs": []
    },
    {
      "cell_type": "markdown",
      "metadata": {
        "id": "n1pcmKkyjT7y"
      },
      "source": [
        "# 1. Loading and Visualizing data (5 points)\n",
        "\n",
        "In this section, you'll need to prepare the MNIST data for the experiments you'll be conducting for the remainder of the notebook."
      ]
    },
    {
      "cell_type": "markdown",
      "metadata": {
        "id": "AIU9Q762fmoT"
      },
      "source": [
        "## 1.1. Load Data\n",
        "\n",
        "Here you'll load the MNIST data into memory. The end-goal is to two have the following variables:\n",
        "  * `x_trainval`, `x_test`: of shape $N \\times d_1 \\times d_2 \\dots$ (e.g., $N \\times 784$. 784 since you could flatten each 28x28 pixel image into a single vector)\n",
        "  * `y_trainval`, `y_test`: of shape $N \\times K$ (K = 1 or 10 depending on how you plan to represent the ground-truth digit annotation)\n",
        "\n",
        "You can either do this by:\n",
        "  1. Downloading the MNIST dataset, unpacking and preparing it yourself to have fine-grained control\n",
        "  1. Using high-level existing functions, such as the one provided by  [`torchvision.datasets`](https://pytorch.org/docs/stable/torchvision/datasets.html#mnist).\n",
        "  \n",
        "  \n",
        "  In either case, it is important that you have disjoint trainval and test splits!"
      ]
    },
    {
      "cell_type": "code",
      "metadata": {
        "colab": {
          "base_uri": "https://localhost:8080/",
          "height": 417,
          "referenced_widgets": [
            "c651eb29ed724d249bccb9093f20c2a5",
            "735df55c2e674530930b09f9d26ee49d",
            "6e17d121448f42c593db309b47496cd3",
            "46851e3c66ea4a07b184df1b7aa9533d",
            "40e9bb0c775e4b2583edd91c9ea505de",
            "d0f0bf385111494e80d6420c25a697aa",
            "3ec72c05d0be433188d7f026fa5d531a",
            "ff48be0e35584e98ab0f1f01f0eb1c2c",
            "3da63943f2764b488fae755951d48312",
            "469f5612b469488c85a079f1a5534952",
            "8f1b0d867f01442892850ab57e5ee64e",
            "f1c34b9b922040f5b865e199b089019a",
            "54f549ab0e8a41d482b90ede049d5677",
            "531762592a6c4dc9bc461c0325e909a3",
            "9ae2d522f66144029962a01ddfdeef57",
            "76f61a61457743c98f1d78c9a9780f0b",
            "2048382fa6c14b0691fbbdfa5b1ac695",
            "298ab7356b0442b5990fd4ec2a75d9f2",
            "e616ce7d747a45c395fe6d650c8567a6",
            "cab9b6bed6d642fbb8499c83808f08fa",
            "7f30afc266f84fd9b5b1d0d4973519b6",
            "69f3c06113e3482c9a478d414b22ad2d",
            "358b968d5db54dc3a0b4404df52e4bf2",
            "267388d99aa3452881a033c1875143f9",
            "9d1fcb604a0f4833badf74251977ecce",
            "c6bc2893ff0d4c50bdc4a9a116af4653",
            "9956b6118df145d1b7ae0c4ebb0ab9f8",
            "be5b069c8b6a4234834665d87c407e13",
            "d3909ed909b44fb2ae52fe718a80fccb",
            "e42bad73307c4c64a2a70f42508dbbb7",
            "b9e09d56e90545be83eb0a842b2a8ba7",
            "11f84117469e411b894fb73aae79d5fa"
          ]
        },
        "id": "7kYacpo_jvao",
        "outputId": "c2de2617-427f-419d-aba2-4c504e0cf893"
      },
      "source": [
        "# ------ Start Your Code ------\n",
        "\n",
        "# download the dataset with torchvision\n",
        "data_trainval = torchvision.datasets.MNIST(root=\"./dataset\", train=True, download=True, transform=None, \n",
        "                                      target_transform=None)\n",
        "data_test = torchvision.datasets.MNIST(\"./dataset\", train=False, download=True, transform=None, \n",
        "                                     target_transform=None)\n",
        "\n",
        "#Inititialize Emtpy Data Sets\n",
        "x_trainval = []\n",
        "y_trainval = []\n",
        "x_test = []\n",
        "y_test = []\n",
        "\n",
        "#Get the Data from data_training and move them to (y|x)_trivial\n",
        "for elem in data_trainval:\n",
        "    x_trainval.append(np.array(elem[0]).flatten()) #Flatten data from 2D to 1D and append to list\n",
        "    y_trainval.append(elem[1])\n",
        "#Formate data list to np.array\n",
        "x_trainval = np.array(x_trainval)\n",
        "y_trainval = np.array(y_trainval)\n",
        "\n",
        "#Get the Data from data_training and move them to (y|x)_test\n",
        "for elem in data_test:\n",
        "    x_test.append(np.array(elem[0]).flatten()) #Flatten data from 2D to 1D and append to list\n",
        "    y_test.append(elem[1])\n",
        "#Formate data list to np.array\n",
        "x_test = np.array(x_test)\n",
        "y_test = np.array(y_test)\n",
        "\n",
        "# ------ END Your Code --------\n",
        "print('x_trainval.shape = {},  y_trainval.shape = {}'.format(x_trainval.shape, y_trainval.shape))\n",
        "print('x_test.shape = {},  y_test.shape = {}'.format(x_test.shape, y_test.shape))\n",
        "\n",
        "# Feel free to have multiple variables in case your models are designed for different formats\n",
        "# For instance, in case your model requires Nx28x28 inputs, declare x_trainval_3d, etc.\n",
        "\n",
        "# Tip: Set this to a tiny number (such 0.05) to aid debugging\n",
        "# After all, you do not want to train/evaluate on the entire dataset to find bugs\n",
        "DEBUG_FRAC = 1.0\n",
        "x_trainval = x_trainval[:int(len(x_trainval)*DEBUG_FRAC)]\n",
        "y_trainval = y_trainval[:int(len(y_trainval)*DEBUG_FRAC)]"
      ],
      "execution_count": null,
      "outputs": [
        {
          "output_type": "stream",
          "text": [
            "Downloading http://yann.lecun.com/exdb/mnist/train-images-idx3-ubyte.gz to ./dataset/MNIST/raw/train-images-idx3-ubyte.gz\n"
          ],
          "name": "stdout"
        },
        {
          "output_type": "display_data",
          "data": {
            "application/vnd.jupyter.widget-view+json": {
              "model_id": "c651eb29ed724d249bccb9093f20c2a5",
              "version_minor": 0,
              "version_major": 2
            },
            "text/plain": [
              "HBox(children=(FloatProgress(value=1.0, bar_style='info', max=1.0), HTML(value='')))"
            ]
          },
          "metadata": {
            "tags": []
          }
        },
        {
          "output_type": "stream",
          "text": [
            "Extracting ./dataset/MNIST/raw/train-images-idx3-ubyte.gz to ./dataset/MNIST/raw\n",
            "Downloading http://yann.lecun.com/exdb/mnist/train-labels-idx1-ubyte.gz to ./dataset/MNIST/raw/train-labels-idx1-ubyte.gz\n",
            "\n"
          ],
          "name": "stdout"
        },
        {
          "output_type": "display_data",
          "data": {
            "application/vnd.jupyter.widget-view+json": {
              "model_id": "3da63943f2764b488fae755951d48312",
              "version_minor": 0,
              "version_major": 2
            },
            "text/plain": [
              "HBox(children=(FloatProgress(value=1.0, bar_style='info', max=1.0), HTML(value='')))"
            ]
          },
          "metadata": {
            "tags": []
          }
        },
        {
          "output_type": "stream",
          "text": [
            "Extracting ./dataset/MNIST/raw/train-labels-idx1-ubyte.gz to ./dataset/MNIST/raw\n",
            "Downloading http://yann.lecun.com/exdb/mnist/t10k-images-idx3-ubyte.gz to ./dataset/MNIST/raw/t10k-images-idx3-ubyte.gz\n"
          ],
          "name": "stdout"
        },
        {
          "output_type": "display_data",
          "data": {
            "application/vnd.jupyter.widget-view+json": {
              "model_id": "2048382fa6c14b0691fbbdfa5b1ac695",
              "version_minor": 0,
              "version_major": 2
            },
            "text/plain": [
              "HBox(children=(FloatProgress(value=1.0, bar_style='info', max=1.0), HTML(value='')))"
            ]
          },
          "metadata": {
            "tags": []
          }
        },
        {
          "output_type": "stream",
          "text": [
            "Extracting ./dataset/MNIST/raw/t10k-images-idx3-ubyte.gz to ./dataset/MNIST/raw\n",
            "Downloading http://yann.lecun.com/exdb/mnist/t10k-labels-idx1-ubyte.gz to ./dataset/MNIST/raw/t10k-labels-idx1-ubyte.gz\n"
          ],
          "name": "stdout"
        },
        {
          "output_type": "display_data",
          "data": {
            "application/vnd.jupyter.widget-view+json": {
              "model_id": "9d1fcb604a0f4833badf74251977ecce",
              "version_minor": 0,
              "version_major": 2
            },
            "text/plain": [
              "HBox(children=(FloatProgress(value=1.0, bar_style='info', max=1.0), HTML(value='')))"
            ]
          },
          "metadata": {
            "tags": []
          }
        },
        {
          "output_type": "stream",
          "text": [
            "Extracting ./dataset/MNIST/raw/t10k-labels-idx1-ubyte.gz to ./dataset/MNIST/raw\n",
            "Processing...\n"
          ],
          "name": "stdout"
        },
        {
          "output_type": "stream",
          "text": [
            "/usr/local/lib/python3.6/dist-packages/torchvision/datasets/mnist.py:480: UserWarning: The given NumPy array is not writeable, and PyTorch does not support non-writeable tensors. This means you can write to the underlying (supposedly non-writeable) NumPy array using the tensor. You may want to copy the array to protect its data or make it writeable before converting it to a tensor. This type of warning will be suppressed for the rest of this program. (Triggered internally at  /pytorch/torch/csrc/utils/tensor_numpy.cpp:141.)\n",
            "  return torch.from_numpy(parsed.astype(m[2], copy=False)).view(*s)\n"
          ],
          "name": "stderr"
        },
        {
          "output_type": "stream",
          "text": [
            "Done!\n",
            "x_trainval.shape = (60000, 784),  y_trainval.shape = (60000,)\n",
            "x_test.shape = (10000, 784),  y_test.shape = (10000,)\n"
          ],
          "name": "stdout"
        }
      ]
    },
    {
      "cell_type": "markdown",
      "metadata": {
        "id": "eA6_cejNjzYw"
      },
      "source": [
        "#### 1.2. Visualize Data\n",
        "\n",
        "To get the hang of your data you'll be training a digit classifier on, visualize it.\n",
        "\n",
        "Examples of ways to visualize it:\n",
        "  * Given a digit, display few randomly sampled images for this digit (the bare minimum)\n",
        "  * Visualize as a grid (e.g., Slide 4, [Lecture 2](https://cms.cispa.saarland/mlcysec19/dl/4/2019-10-24-ml.pdf)) using a combination of `plt.imshow` and `plt.subplots`\n",
        "  \n",
        "It's up to you to decide how you want to do this. The end-goal is for you to potentially give a trailer of the dataset to someone who hasn't seen it before."
      ]
    },
    {
      "cell_type": "code",
      "metadata": {
        "colab": {
          "base_uri": "https://localhost:8080/",
          "height": 572
        },
        "id": "dISIbt4plyoD",
        "outputId": "6ce0f75d-bc21-4b0b-cb5c-b13ff91082fe"
      },
      "source": [
        "# Visualize 10 examples of 10 classes. You can extend the following code:\n",
        "rows, cols = 10, 10\n",
        "fig, ax = plt.subplots(nrows = rows, ncols = cols)\n",
        "\n",
        "# ------ Start Your Code ------\n",
        "fig.suptitle(\"Example Images from training set:\")\n",
        "for i in range(0, 10):\n",
        "    ax[0, i].set_title(str(i))  # set the digit number as the title of the column\n",
        "    counter = 0\n",
        "    found = 0\n",
        "    # search for 10 examples of a specific digit and show the image at the corresponding position\n",
        "    while found < 10:\n",
        "        if y_trainval[counter] == i:\n",
        "            ax[found ,i].get_xaxis().set_visible(False) # set the x axis inivisible, so that it looks nicer\n",
        "            ax[found ,i].get_yaxis().set_visible(False) # set the y axis inivisible, so that it looks nicer\n",
        "            ax[found, i].imshow(x_trainval[counter].reshape((28, 28)), cmap=\"gray_r\") # draw the image\n",
        "            found += 1\n",
        "        counter += 1\n",
        "# save the figure\n",
        "plt.savefig('fig1.pdf') \n",
        "\n",
        "\n",
        "# plot how often each digit occurs in the dataset\n",
        "fig, ax = plt.subplots()\n",
        "fig.suptitle(\"Distribution of the numbers in the training set:\")\n",
        "count = [0, 0, 0, 0, 0, 0, 0, 0, 0, 0]\n",
        "\n",
        "# count how often each digit occurs in the dataset\n",
        "for label in y_trainval:\n",
        "    count[label] += 1\n",
        "\n",
        "# plot it with a bar chart\n",
        "ax.bar(np.arange(10), count, align=\"center\")\n",
        "ax.set_xlabel(\"Digit\")\n",
        "ax.set_ylabel(\"Number of occurences in the training set\")\n",
        "ax.set_xticks(np.arange(10))\n",
        "\n",
        "# ------ END Your Code --------\n",
        "\n",
        "plt.savefig('fig2.pdf')   # Save the figures\n",
        "plt.show()   # These should be some visualization of data at the end of this section\n",
        "\n",
        "# You can see an output example in the follow:"
      ],
      "execution_count": null,
      "outputs": [
        {
          "output_type": "display_data",
          "data": {
            "image/png": "[encoded data removed]",
            "text/plain": [
              "<Figure size 432x288 with 100 Axes>"
            ]
          },
          "metadata": {
            "tags": [],
            "needs_background": "light"
          }
        },
        {
          "output_type": "display_data",
          "data": {
            "image/png": "[encoded data removed]",
            "text/plain": [
              "<Figure size 432x288 with 1 Axes>"
            ]
          },
          "metadata": {
            "tags": [],
            "needs_background": "light"
          }
        }
      ]
    },
    {
      "cell_type": "markdown",
      "metadata": {
        "id": "b8sAT53jmJ8_"
      },
      "source": [
        "# 2. Digit classifiers\n",
        "\n",
        "In this section, you'll begin developing models to perform digit classification.\n",
        "\n",
        "Each model needs to be structured like so:\n",
        "  1. Give a brief reason which model you are going to train and why you choose it\n",
        "  1. Define hyper-parameters for model and optimization procedure\n",
        "  1. Define your model\n",
        "  1. Define optimization method and fit model to data\n",
        "  1. Summarize your findings\n",
        "\n",
        "\n",
        "\n",
        "\n",
        "\n"
      ]
    },
    {
      "cell_type": "markdown",
      "metadata": {
        "id": "xkF-7eFnpWoe"
      },
      "source": [
        "## 2.1: Model [M1]: K-Nearest-Neighbors (25 points)\n",
        "\n",
        "**Short description**: *The K-Nearest Neighbor Classifier is a supervised learning Model, that tries to classify a data point by his k nearest neighbors. The label of a new data point is decided by the majority labels of the neighbors, a so-called majority vote.*\n",
        "\n",
        "**Simple example**: *We want to split the numbers from 0 to 100 into 2 Groups(less equal 50 and bigger than 50) with the 1-N-N. We already trained the model with two data points:*\n",
        "- *3  -> less equal 50*\n",
        "- *52 -> bigger than 50*\n",
        "\n",
        "*If we want to classify the number 10, then we would look at the nearest beighbor, which is 3. In reason of that 10 will be classified as less equal 50.*\n",
        "\n",
        "**Why it should work well**: *The reason why we think a KNN model could perform quite well on this dataset is the following:\n",
        "When we have pictures of two same digits, we can see that there are a lot of pixels that are the same in both pictures, so the data should lie closely together in a high dimensional space. So they will also have a small distance to each other what means that the KNN will probably recognize them as the same digit.*\n"
      ]
    },
    {
      "cell_type": "markdown",
      "metadata": {
        "id": "lVyT9Oddp3GB"
      },
      "source": [
        "### 2.1.1: Hyper-parameters\n",
        "\n",
        "Define hyper-parameters for your model here"
      ]
    },
    {
      "cell_type": "code",
      "metadata": {
        "id": "yuHt4T7Vp5NC"
      },
      "source": [
        "# ------ Start Your Code ------\n",
        "\n",
        "k_array = [1,2,3,4,7,9,13]\n",
        "final_k = 1  # performed best on validation data\n",
        "\n",
        "test_set = 'test'  #  or 'val'\n",
        "\n",
        "# ------ END Your Code --------\n",
        "\n",
        "# Decide all your hyperparameters based on validation performance\n",
        "# Then, switch to 'test' for final evaluation\n",
        "if test_set == 'val':\n",
        "    x_train, x_eval, y_train, y_eval = train_test_split(x_trainval, y_trainval, test_size=0.3, random_state=4)\n",
        "else:\n",
        "    x_train, y_train = x_trainval, y_trainval\n",
        "    x_eval, y_eval = x_test, y_test\n",
        "\n"
      ],
      "execution_count": null,
      "outputs": []
    },
    {
      "cell_type": "markdown",
      "metadata": {
        "id": "x0zkQfoRCrUl"
      },
      "source": [
        "### 2.1.2: Data Preprocessing\n"
      ]
    },
    {
      "cell_type": "code",
      "metadata": {
        "id": "7H2JfwzhCrUl"
      },
      "source": [
        "# ------ Start Your Code ------\n",
        "# We dont need Data Preprocessing in this Model, because we already did this in our data load section.\n",
        "# ------ END Your Code --------\n",
        "# e.g. normalize, flatten input data."
      ],
      "execution_count": null,
      "outputs": []
    },
    {
      "cell_type": "markdown",
      "metadata": {
        "id": "pkuCgPatp59X"
      },
      "source": [
        "### 2.1.3: Model\n",
        "\n",
        "Define your model here"
      ]
    },
    {
      "cell_type": "code",
      "metadata": {
        "id": "3qV3SuPAp6XF"
      },
      "source": [
        "# ------ Start Your Code ------\n",
        "# Model with best Score on Val data\n",
        "final_knn = KNeighborsClassifier(n_neighbors=final_k)\n",
        "\n",
        "# Init Models with different Hyper-parameters\n",
        "if test_set == 'val':\n",
        "    models = []\n",
        "    for k in k_array:\n",
        "        models.append(KNeighborsClassifier(n_neighbors=k))\n",
        "# ------ END Your Code --------"
      ],
      "execution_count": null,
      "outputs": []
    },
    {
      "cell_type": "markdown",
      "metadata": {
        "id": "SxE6d6OXp6sU"
      },
      "source": [
        "### 2.1.4: Fit Model\n",
        "\n",
        "Define optimization procedure and fit your model to the data"
      ]
    },
    {
      "cell_type": "code",
      "metadata": {
        "id": "08tLwuchp68-"
      },
      "source": [
        "# ------- Your Code -------\n",
        "\n",
        "# Train best Model\n",
        "start = time.time()\n",
        "final_knn.fit(x_train, y_train)\n",
        "end = time.time()\n",
        "print(\"Time used to train KNN:\", end-start)\n",
        "\n",
        "# Train Models with different Hyper-parameters\n",
        "if test_set == 'val':\n",
        "    for model in models:\n",
        "        model.fit(x_train, y_train)\n",
        "# ------ END Your Code --------\n",
        "\n",
        "#  Please save the trained model\n",
        "pickle.dump(final_knn, open('KNN.model', 'wb'))"
      ],
      "execution_count": null,
      "outputs": []
    },
    {
      "cell_type": "markdown",
      "metadata": {
        "id": "QaJv_d_Dp7OM"
      },
      "source": [
        "### 2.1.5: Evaluation\n",
        "\n",
        "Evaluate your model.\n",
        "  * Evaluate models with different parameters \n",
        "  * Plot the score (accuracy) for each model using \"plot_scores\" function\n",
        "  * Report score for the best model\n",
        "  * Use \"vis_predictions\" function to visualize few examples of test/validation set with the corresponding predictions\n"
      ]
    },
    {
      "cell_type": "code",
      "metadata": {
        "id": "kZtLgPZrp7h5"
      },
      "source": [
        "# ------ Start Your Code ------\n",
        "# Evaluate best Model on Test Data\n",
        "start = time.time()\n",
        "predictions = final_knn.predict(x_eval)\n",
        "end = time.time()\n",
        "print(\"Time used to predict data with KNN:\", end-start)\n",
        "\n",
        "# Evaluate Models with different Hyper-parameters on Val Data\n",
        "if test_set == 'val':\n",
        "    scores = []\n",
        "    for model in models:\n",
        "        scores.append(model.score(x_eval, y_eval))\n",
        "    print(scores)\n",
        "else:\n",
        "    scores = [0.97275, 0.9670833333333333, 0.9715833333333334, 0.9696666666666667, 0.9699166666666666, 0.9676666666666667, 0.9666666666666667] # Scores with different Hyper-parameters on Val\n",
        "    # print(scores)\n",
        "#\n",
        "# Example: y_pred = model.predict(x)\n",
        "# ------ END Your Code --------"
      ],
      "execution_count": null,
      "outputs": []
    },
    {
      "cell_type": "code",
      "metadata": {
        "id": "RoH-IYneCrUl",
        "colab": {
          "base_uri": "https://localhost:8080/",
          "height": 295
        },
        "outputId": "6614fc2c-cf65-4f99-efe7-bc61c063c04d"
      },
      "source": [
        "# Here plot score (accuracy) for each model. You can use \"plot_scores\" function.\n",
        "\n",
        "# Example: plot_scores(parameters, scores, \"title\", \"x_label\", \"y_label\"), \n",
        "\n",
        "# You can see an example in the follow.\n",
        "# Note that the visualizations/plots provided are just simple examples/illustrations. \n",
        "# We encourage more informative and alternate methods to present results.\n",
        "plot_scores(k_array, scores, title=\"Accuracy of different k\", x_label=\"k\", y_label=\"Accuracy\")"
      ],
      "execution_count": null,
      "outputs": [
        {
          "output_type": "display_data",
          "data": {
            "image/png": "[encoded data removed]",
            "text/plain": [
              "<Figure size 432x288 with 1 Axes>"
            ]
          },
          "metadata": {
            "tags": [],
            "needs_background": "light"
          }
        }
      ]
    },
    {
      "cell_type": "code",
      "metadata": {
        "id": "laYsHWA0CrUl",
        "colab": {
          "base_uri": "https://localhost:8080/"
        },
        "outputId": "d905b3fc-7aa3-4a77-81d6-749e040ffb4b"
      },
      "source": [
        "# Here report the score for the best model\n",
        "\n",
        "# ------ Start Your Code ------\n",
        "print(\"Score of the best model:\", final_knn.score(x_eval, y_eval)) #0.9691\n",
        "# ------ END Your Code --------"
      ],
      "execution_count": null,
      "outputs": [
        {
          "output_type": "stream",
          "text": [
            "Score of the best model: 0.9691\n"
          ],
          "name": "stdout"
        }
      ]
    },
    {
      "cell_type": "code",
      "metadata": {
        "id": "ErefyvPECrUl",
        "colab": {
          "base_uri": "https://localhost:8080/",
          "height": 297
        },
        "outputId": "de736164-9646-4e1f-a461-a5e37c93c800"
      },
      "source": [
        "# Visualize the predictions\n",
        "# Example: vis_predictions(x_eval, y_pred, size_of_data)\n",
        "#\n",
        "#\n",
        "# ------- Your Code -------\n",
        "#\n",
        "vis_predictions(x_eval, predictions, len(predictions))"
      ],
      "execution_count": null,
      "outputs": [
        {
          "output_type": "display_data",
          "data": {
            "image/png": "[encoded data removed]",
            "text/plain": [
              "<Figure size 432x288 with 12 Axes>"
            ]
          },
          "metadata": {
            "tags": [],
            "needs_background": "light"
          }
        }
      ]
    },
    {
      "cell_type": "code",
      "metadata": {
        "id": "EICSrz2ACrUl"
      },
      "source": [
        "### Let's see wich ones are predicted wrong"
      ],
      "execution_count": null,
      "outputs": []
    },
    {
      "cell_type": "code",
      "metadata": {
        "tags": [],
        "id": "NZ4lNl9TCrUl",
        "colab": {
          "base_uri": "https://localhost:8080/",
          "height": 213
        },
        "outputId": "fdc63f41-f11b-4cc5-e139-20ab65fa37a2"
      },
      "source": [
        "\n",
        "show_wrong_numbers(y_eval,predictions)"
      ],
      "execution_count": null,
      "outputs": [
        {
          "output_type": "error",
          "ename": "NameError",
          "evalue": "ignored",
          "traceback": [
            "\u001b[0;31m---------------------------------------------------------------------------\u001b[0m",
            "\u001b[0;31mNameError\u001b[0m                                 Traceback (most recent call last)",
            "\u001b[0;32m<ipython-input-1-13a2d9256d31>\u001b[0m in \u001b[0;36m<module>\u001b[0;34m()\u001b[0m\n\u001b[1;32m     15\u001b[0m   \u001b[0mplt\u001b[0m\u001b[0;34m.\u001b[0m\u001b[0mshow\u001b[0m\u001b[0;34m(\u001b[0m\u001b[0;34m)\u001b[0m\u001b[0;34m\u001b[0m\u001b[0;34m\u001b[0m\u001b[0m\n\u001b[1;32m     16\u001b[0m \u001b[0;34m\u001b[0m\u001b[0m\n\u001b[0;32m---> 17\u001b[0;31m \u001b[0mshow_wrong_numbers\u001b[0m\u001b[0;34m(\u001b[0m\u001b[0my_eval\u001b[0m\u001b[0;34m,\u001b[0m\u001b[0mpredictions\u001b[0m\u001b[0;34m)\u001b[0m\u001b[0;34m\u001b[0m\u001b[0;34m\u001b[0m\u001b[0m\n\u001b[0m",
            "\u001b[0;31mNameError\u001b[0m: name 'y_eval' is not defined"
          ]
        }
      ]
    },
    {
      "cell_type": "markdown",
      "metadata": {
        "id": "DEQrdyLHsUIu"
      },
      "source": [
        "### 2.1.6: Summary\n",
        "\n",
        "#### <u>General</u> \n",
        "*As we see with K-Nearest-Neighbors we have a score of 96%.*\n",
        " \n",
        "#### <u>Which hyper-parameters were important and how did they influence your results?</u>\n",
        "*In the KNN implemention from sklearn we have the following hyper-parameters:*\n",
        "- *n_neighbors:int -> default=5*\n",
        "- *weights:{‘uniform’, ‘distance’} -> default= 'uniform'*\n",
        "- *algorithm:{‘auto’, ‘ball_tree’, ‘kd_tree’, ‘brute’} -> default=’auto’*\n",
        "\n",
        "...\n",
        "and a few more. As you can see in the [User Guide](https://scikit-learn.org/stable/modules/generated/sklearn.neighbors.KNeighborsClassifier.html).\n",
        " \n",
        "Because we think in KNN the number of the nearest Neighbors is much more important than the others, we decided only to change the K parameter.\n",
        "\n",
        "In our case test different k between 1 to 13. We found, that with higher k's we get worse prediction. We get the best score by just looking at one neighbor.\n",
        "\n",
        "#### <u>What were other design choices you faced?</u>\n",
        "Because KNN is a simpler Model, there are not other design choices for it.\n",
        "\n",
        "#### <u>Any other interesting insights </u>\n",
        "*We decide, that it could be interesting to look at wrong predicted numbers, so we wrote a simple function, which plot us the distribution of them.\n",
        "The number 8 is mostly predicted wrong.\n",
        "A possible reason for this is that every number is overlapping with 8. If you have the number 8 you can create every other number by removing parts of the 8. Example:*\n",
        "- *8 -> 9 remove below-left.*\n",
        "\n",
        "In reason of that 8 can look like other numbers, especially when it is written by human."
      ]
    },
    {
      "cell_type": "markdown",
      "metadata": {
        "id": "Fcq52WUUs2Mm"
      },
      "source": [
        "# 2.2: Model [M2]: *Support Vector Machine (SVM)* (25 points)\n",
        "\n",
        "**Short description:** *Support Vector machines are a machine learning model, belonging to the group of supervised learning algorithms. To classify the data, the SVM creates a set of hyperplanes that splits the data (in a high dimensional space) by their labels. The predictions are then done by checking in which split of the space they are and then returning the label, that belongs to this split.*\n",
        "\n",
        "**Why we choose this model:** *We choose this model for the same reason we also chose the knn. When we have two same digits, they have a lot of pixels in common, so when representing them in high dimensional space, they should lie close together and so the SVM model should perform very well on predicting the handwritten digits as it should be able to seperate them easily by a hyperplane then.*\n",
        "\n",
        "\n"
      ]
    },
    {
      "cell_type": "markdown",
      "metadata": {
        "id": "UdTO8FUaCrUm"
      },
      "source": [
        "### 2.2.1: Hyper-parameters\n",
        "\n",
        "Define hyper-parameters for your method here"
      ]
    },
    {
      "cell_type": "code",
      "metadata": {
        "id": "qrmxp8rECrUm"
      },
      "source": [
        "# ------- Your Code -------\n",
        "#Kernel Parameters\n",
        "kernel_array = [['linear'],['poly',1],['poly',3],['poly',5],['rbf'],['sigmoid']] #possible kernel Parameters\n",
        "final_kernel = 'rbf'  # performed best on validation data\n",
        "kernel_array_print = ['linear','poly_1','poly_3','poly_5','rbf','sigmoid'] # like kernel_array just for printing\n",
        "\n",
        "#rbf Parameters (C and Gamma)\n",
        "C_array = [0.1,1,3.0,5.0,7.0] # possible C parameters\n",
        "final_c = 3.0 #performed best on validation data\n",
        "\n",
        "gamma_array = [['scale'],['auto']] # possible Gamma parameters  \n",
        "final_gamma = 'scale' #performed best on validation data\n",
        "\n",
        "c_gamma_array_print=['scale_0.1','scale_1','scale_3.0','scale_5.0','scale_7.0',\n",
        "                   'auto_0.1','auto_1','auto_3.0','auto_5.0','auto_7.0'] # possible combination of Gamma and C just for printing \n",
        "\n",
        "test_set = 'test'  #  or 'val'\n",
        "\n",
        "# ------ END Your Code --------\n",
        "\n",
        "# Decide all your hyperparameters based on validation performance\n",
        "# Then, switch to 'test' for final evaluation\n",
        "if test_set == 'val':\n",
        "    x_train, x_eval, y_train, y_eval = train_test_split(x_trainval, y_trainval, test_size=0.3, random_state=4)\n",
        "else:\n",
        "    x_train, y_train = x_trainval, y_trainval\n",
        "    x_eval, y_eval = x_test, y_test\n"
      ],
      "execution_count": null,
      "outputs": []
    },
    {
      "cell_type": "markdown",
      "metadata": {
        "id": "zzE7DoPDCrUm"
      },
      "source": [
        "### 2.2.2: Data Preprocessing\n"
      ]
    },
    {
      "cell_type": "code",
      "metadata": {
        "id": "4HuAUarZCrUm"
      },
      "source": [
        "# ------ Start Your Code ------\n",
        "# We dont need Data Preprocessing in this Model, because we already did this in our data load section.\n",
        "# ------ END Your Code --------\n",
        "# e.g. normalize, flatten input data."
      ],
      "execution_count": null,
      "outputs": []
    },
    {
      "cell_type": "markdown",
      "metadata": {
        "id": "9PTA2nn5CrUm"
      },
      "source": [
        "### 2.2.3: Model\n",
        "\n",
        "Define your model here (all hyper-parameters in 2.1.1)"
      ]
    },
    {
      "cell_type": "code",
      "metadata": {
        "id": "raf-p8poCrUm"
      },
      "source": [
        "# ------ Start Your Code ------\n",
        "#Best Parameters on Val\n",
        "final_svm = svm.SVC(kernel='rbf',gamma=final_gamma,C=final_c)"
      ],
      "execution_count": null,
      "outputs": []
    },
    {
      "cell_type": "code",
      "metadata": {
        "id": "mCPyKBLSOKmm"
      },
      "source": [
        "#find best kernel on Val Data\n",
        "if test_set == 'val':\n",
        "    models_kernel = []\n",
        "    for elem in kernel_array:\n",
        "        if len(elem) == 1:\n",
        "            models_kernel.append(svm.SVC(kernel=elem[0]))\n",
        "        else:\n",
        "            models_kernel.append(svm.SVC(kernel=elem[0],degree=elem[1]))"
      ],
      "execution_count": null,
      "outputs": []
    },
    {
      "cell_type": "code",
      "metadata": {
        "id": "_rHMTvfQOaGn"
      },
      "source": [
        "#find best C and Gammar on Val\n",
        "if test_set == 'val':\n",
        "    models_cgamma = []\n",
        "    for Gamma in gamma_array:\n",
        "        for c in C_array:\n",
        "            models_cgamma.append(svm.SVC(kernel='rbf',gamma= Gamma[0],C=c))\n",
        "# ------ END Your Code --------"
      ],
      "execution_count": null,
      "outputs": []
    },
    {
      "cell_type": "markdown",
      "metadata": {
        "id": "JcfGaofNCrUm"
      },
      "source": [
        "### 2.2.4: Fit Model\n"
      ]
    },
    {
      "cell_type": "code",
      "metadata": {
        "id": "8931khnCPOpW"
      },
      "source": [
        "# ------ Start Your Code ------\n",
        "#Train on best Parameters\n",
        "start = time.time() \n",
        "final_svm.fit(x_train, y_train)\n",
        "end = time.time()\n",
        "print(\"Time used to train SVM:\", end-start)"
      ],
      "execution_count": null,
      "outputs": []
    },
    {
      "cell_type": "code",
      "metadata": {
        "id": "580trSGJCrUm"
      },
      "source": [
        "#Train different Kernels\n",
        "if test_set == 'val':\n",
        "    for model in models_kernel:\n",
        "        model.fit(x_train, y_train)"
      ],
      "execution_count": null,
      "outputs": []
    },
    {
      "cell_type": "code",
      "metadata": {
        "id": "HJMMkwczS7vR"
      },
      "source": [
        "#Train different  C and gamma Parameters\n",
        "if test_set == 'val':\n",
        "    for model in models_cgamma:\n",
        "        model.fit(x_train, y_train)\n",
        "# ------ END Your Code --------"
      ],
      "execution_count": null,
      "outputs": []
    },
    {
      "cell_type": "code",
      "metadata": {
        "id": "5JrAOPXYS_SH"
      },
      "source": [
        "#  Please save the trained model\n",
        "pickle.dump(final_svm, open('svm.model', 'wb'))"
      ],
      "execution_count": null,
      "outputs": []
    },
    {
      "cell_type": "markdown",
      "metadata": {
        "id": "6MvXd4ugCrUm"
      },
      "source": [
        "### 2.2.5: Evaluation\n",
        "\n",
        "Evaluate your model.\n",
        "  * Evaluate models with different parameters \n",
        "  * Plot score (accuracy) for each model using \"plot_scores\" function\n",
        "  * Report the score for the best model\n",
        "  * Use \"vis_predictions\" function to visualize few examples of test/validation set with the corresponding predictions\n"
      ]
    },
    {
      "cell_type": "code",
      "metadata": {
        "id": "ew0naPPVCrUm",
        "colab": {
          "base_uri": "https://localhost:8080/"
        },
        "outputId": "7ac01004-88d8-40ef-e28d-cb26bba2dd34"
      },
      "source": [
        "# ------ Start Your Code ------\n",
        "# Evaluate best Model on Test Data\n",
        "start = time.time()\n",
        "predictions = final_svm.predict(x_eval)\n",
        "end = time.time()\n",
        "print(\"Time used to predict data with SVM:\", end-start)"
      ],
      "execution_count": null,
      "outputs": [
        {
          "output_type": "stream",
          "text": [
            "[0.9158333333333334, 0.9275, 0.9366666666666666, 0.8620833333333333, 0.95625, 0.8641666666666666]\n"
          ],
          "name": "stdout"
        }
      ]
    },
    {
      "cell_type": "code",
      "metadata": {
        "id": "nP3zuKnfBNI-"
      },
      "source": [
        "# Evaluate Kernel Models on Val Data\n",
        "if test_set == 'val':\n",
        "    scores_kernel = []\n",
        "    for model in models_kernel:\n",
        "        scores_kernel.append(model.score(x_eval, y_eval))\n",
        "    print(scores_kernel)\n",
        "else:\n",
        "    scores_kernel = [0.9138333333333334, 0.9325, 0.9624166666666667, 0.9216666666666666, 0.9700833333333333, 0.7945]\n",
        "    print(scores_kernel)\n",
        "\n",
        "# Example: y_pred = model.predict(x)"
      ],
      "execution_count": null,
      "outputs": []
    },
    {
      "cell_type": "code",
      "metadata": {
        "id": "A2ETWybnTXGS",
        "colab": {
          "base_uri": "https://localhost:8080/"
        },
        "outputId": "4569d9ae-9e14-45c5-9aa1-f28d9076e503"
      },
      "source": [
        "# Evaluate C and Gamma Models on Val Data\n",
        "if test_set == 'val':\n",
        "    scores_cgamma = []\n",
        "    for model in models_cgamma:\n",
        "        scores_cgamma.append(model.score(x_eval, y_eval))\n",
        "    print(scores_cgamma)\n",
        "else:\n",
        "    scores_cgamma = [0.93975, 0.9700833333333333, 0.9760833333333333, 0.9765, 0.9764166666666667, 0.11408333333333333, 0.11408333333333333, 0.11408333333333333, 0.11408333333333333, 0.11408333333333333]\n",
        "    print(scores_cgamma)\n",
        "\n",
        "# ------ END Your Code --------"
      ],
      "execution_count": null,
      "outputs": [
        {
          "output_type": "stream",
          "text": [
            "[0.9158333333333334, 0.9275, 0.9366666666666666, 0.8620833333333333, 0.95625, 0.8641666666666666]\n"
          ],
          "name": "stdout"
        }
      ]
    },
    {
      "cell_type": "code",
      "metadata": {
        "id": "vmNOZePCCrUm",
        "colab": {
          "base_uri": "https://localhost:8080/",
          "height": 296
        },
        "outputId": "a8b6ec20-dd26-497d-a8f3-37a8deb50f9f"
      },
      "source": [
        "# Here plot score (accuracy) for each model. You can use \"plot_scores\" function.\n",
        "\n",
        "# Example: plot_scores(parameters, scores, \"title\", \"x_label\", \"y_label\"), \n",
        "\n",
        "# You can see an example in the follow.\n",
        "# Note that the visualizations/plots provided are just simple examples/illustrations. \n",
        "# We encourage more informative and alternate methods to present results.\n",
        "plot_scores(kernel_array_print, scores_kernel, title=\"Accuracy of different kernels\", x_label=\"Kernel\", y_label=\"Accuracy\")"
      ],
      "execution_count": null,
      "outputs": [
        {
          "output_type": "display_data",
          "data": {
            "image/png": "[encoded data removed]",
            "text/plain": [
              "<Figure size 432x288 with 1 Axes>"
            ]
          },
          "metadata": {
            "tags": [],
            "needs_background": "light"
          }
        }
      ]
    },
    {
      "cell_type": "code",
      "metadata": {
        "id": "bS-dQr-2UWhn",
        "colab": {
          "base_uri": "https://localhost:8080/",
          "height": 163
        },
        "outputId": "df2020a0-3423-4a13-d242-d3420d6b8336"
      },
      "source": [
        "plot_scores(c_gamma_array_print, scores_cgamma, title=\"Accuracy of different c and gamma values\", x_label=\"Kernel\", y_label=\"Accuracy\")"
      ],
      "execution_count": null,
      "outputs": [
        {
          "output_type": "error",
          "ename": "NameError",
          "evalue": "ignored",
          "traceback": [
            "\u001b[0;31m---------------------------------------------------------------------------\u001b[0m",
            "\u001b[0;31mNameError\u001b[0m                                 Traceback (most recent call last)",
            "\u001b[0;32m<ipython-input-28-ab4ca84dc6a9>\u001b[0m in \u001b[0;36m<module>\u001b[0;34m()\u001b[0m\n\u001b[0;32m----> 1\u001b[0;31m \u001b[0mplot_scores\u001b[0m\u001b[0;34m(\u001b[0m\u001b[0mcgamma_array_print\u001b[0m\u001b[0;34m,\u001b[0m \u001b[0mscores_cgamma\u001b[0m\u001b[0;34m,\u001b[0m \u001b[0mtitle\u001b[0m\u001b[0;34m=\u001b[0m\u001b[0;34m\"Accuracy of different kernels\"\u001b[0m\u001b[0;34m,\u001b[0m \u001b[0mx_label\u001b[0m\u001b[0;34m=\u001b[0m\u001b[0;34m\"Kernel\"\u001b[0m\u001b[0;34m,\u001b[0m \u001b[0my_label\u001b[0m\u001b[0;34m=\u001b[0m\u001b[0;34m\"Accuracy\"\u001b[0m\u001b[0;34m)\u001b[0m\u001b[0;34m\u001b[0m\u001b[0;34m\u001b[0m\u001b[0m\n\u001b[0m",
            "\u001b[0;31mNameError\u001b[0m: name 'cgamma_array_print' is not defined"
          ]
        }
      ]
    },
    {
      "cell_type": "code",
      "metadata": {
        "id": "XTXfWAHLCrUm",
        "colab": {
          "base_uri": "https://localhost:8080/"
        },
        "outputId": "b0953d0b-9555-4b59-e848-03566da77dc0"
      },
      "source": [
        "# Here report the score for the best model\n",
        "# ------ Start Your Code ------\n",
        "print(\"Score of the best model:\", final_svm.score(x_eval, y_eval)) # 0.9834"
      ],
      "execution_count": null,
      "outputs": [
        {
          "output_type": "stream",
          "text": [
            "Score of the best model: 0.9834\n"
          ],
          "name": "stdout"
        }
      ]
    },
    {
      "cell_type": "code",
      "metadata": {
        "id": "aJTUehIXCrUm",
        "colab": {
          "base_uri": "https://localhost:8080/",
          "height": 297
        },
        "outputId": "a00e238e-1a09-481a-e600-640db887fd50"
      },
      "source": [
        "# Visualize the predictions\n",
        "# Example: vis_predictions(x_eval, y_pred, size_of_data)\n",
        "# ------ Start Your Code ------\n",
        "vis_predictions(x_eval, predictions, len(predictions))\n",
        "# ------ END Your Code --------"
      ],
      "execution_count": null,
      "outputs": [
        {
          "output_type": "display_data",
          "data": {
            "image/png": "[encoded data removed]",
            "text/plain": [
              "<Figure size 432x288 with 12 Axes>"
            ]
          },
          "metadata": {
            "tags": [],
            "needs_background": "light"
          }
        }
      ]
    },
    {
      "cell_type": "code",
      "metadata": {
        "id": "i57IKHoSCrUm",
        "colab": {
          "base_uri": "https://localhost:8080/",
          "height": 308
        },
        "outputId": "4ee52c7a-ed93-4ed1-ab06-3012bb7a115f"
      },
      "source": [
        "# ------ Start Your Code ------\n",
        "# Show destribution of wrong prediceted numbers\n",
        "show_wrong_numbers(y_eval,predictions)\n",
        "# ------ END Your Code --------"
      ],
      "execution_count": null,
      "outputs": [
        {
          "output_type": "display_data",
          "data": {
            "image/png": "[encoded data removed]",
            "text/plain": [
              "<Figure size 432x288 with 1 Axes>"
            ]
          },
          "metadata": {
            "tags": [],
            "needs_background": "light"
          }
        }
      ]
    },
    {
      "cell_type": "markdown",
      "metadata": {
        "id": "yzwBjvEYCrUn"
      },
      "source": [
        "### 2.2.6: Summary\n",
        "\n",
        "#### <u>General</u> \n",
        "As we see with SVM we have a score of 98%.\n",
        "\n",
        "#### <u>Which hyper-parameters were important and how did they influence your results?</u>\n",
        "*In the SVM implemention from sklearn we have the following hyper-parameters:*\n",
        "- *C:float -> default=1.0*\n",
        "- *kernel:{‘linear’, ‘poly’, ‘rbf’, ‘sigmoid’, ‘precomputed’} -> default=’rbf’*\n",
        "- *gamma:{‘scale’, ‘auto’} or float ->default=’scale’*\n",
        "- *degree:int -> default=3*\n",
        "...\n",
        "and a few more. As you can see in the [User Guide](https://scikit-learn.org/stable/modules/generated/sklearn.svm.SVC.html).\n",
        "\n",
        "The most important choice to make for an SVM is the choice of the kernel.\n",
        "\n",
        "#### Kernel\n",
        "*Possible Funktions for Kernel are:*\n",
        "- linear $<x,x'>$\n",
        "- polynomial $(\\gamma \\langle x, x'\\rangle + r)^d$ where $d$ is specified by parameter degree, by coef0.\n",
        "- rbf $\\exp(-\\gamma \\|x-x'\\|^2)$ where is $\\gamma$ specified by parameter gamma, must be greater than 0.\n",
        "- sigomoid of $\\tanh(\\gamma \\langle x,x'\\rangle + r)$where $r$ is specified by coef0.\n",
        "\n",
        "*After training our SVM with these kernels, we found out that the usage of the \"rbf\" kernel is the best for this classification task. It has the highest score (accuracy) on validation data. The \"linear\" kernel and \"polynomial\" kernel with degree 1 and 3 also performed pretty good, but couldn't reach the score of the \"rbf\" kernel. The \"polynomial\" kernel for degree 5 and the \"sigmoid\" kernel were by far the worst ones. The reason for this might be that the model overfits if they are used.*\n",
        "\n",
        "#### C and Gamma\n",
        "*When using the rbf kernel, C and Gamma get important. C influences the size of the margin. A higher C means that a smaller margin is accepted. In Our Case C=3 was performing best. Gamma regualrizes the influence of a single support vector and can be set to scale or auto. Auto was performing really bad and scale very good, so its easy to choose Auto for the parameter Gamma.*\n",
        "\n",
        "#### <u>What were other design choices you faced?</u>\n",
        "*SVM needs more time to compute than other classifiers. In reason of that we had to split the choice of the best model into different parts. First we evaluate the best Kernel and after this we evaluated the best parameters for this specific kernel function. It was not possible to try all permutations of all Parameters and kernel functions, because of the long computation time.*  \n",
        "\n",
        "#### <u>Any other interesting insights </u>\n",
        "*When we plotted how often each digit got mispredicted, we could also figure out that \"8\" and \"9\" were the digits that were mispredicted most often. The reason for that might be that these two digits look similar and so in handwriting it sometimes can be pretty difficult (also for a human being) to figure out which digit it is. So the SVM also might have problems to distinguish between these two digits.*"
      ]
    },
    {
      "cell_type": "markdown",
      "metadata": {
        "id": "IP7G22DvCrUn"
      },
      "source": [
        "# 2.3: Model [M3] (Neural Networks): *CNN* (25 points)\n",
        "\n",
        "**Short description**: *For classifying digits, as the third model we choose to use CNN as our preferred network. In the MNIST dataset each image is of size 28*28 while having grayscale value. Two 2D convolutional layers are used with rectified linear unit activation (ReLU) is used each time. Two 2d MaxPool layers with filter size (2x2) are used for choosing the best features. 2 fully connected (Linear) layers are used afterwards. As the loss criteria cross entropy loss is used with SGD being the optimizer*\n",
        "\n",
        "**Why should it work well**: Convolution neural network is now widely used for image classfication tasks due to its usefulness. CNN is a good choice because it reduces the number of parameters without losing the quality of the model. Images have high dimensions so CNN based model is automatic a good choice for feature extraction as it will reduce the featues without losing important information through filtration and max pooling. The reduced featues/dimensions after convolution operation are then fit into fully connected layers to get the output\n",
        "\n"
      ]
    },
    {
      "cell_type": "markdown",
      "metadata": {
        "id": "XqsxeQzTCrUn"
      },
      "source": [
        "### 2.3.1: Hyper-parameters\n",
        "\n",
        "Define hyper-parameters for your method here"
      ]
    },
    {
      "cell_type": "code",
      "metadata": {
        "id": "rvbMpabTCrUn"
      },
      "source": [
        "#\n",
        "#\n",
        "# ------- Your Code -------\n",
        "#\n",
        "#\n",
        "batch_size_train = 64 # Fill in\n",
        "batch_size_test = 64 # Fill in\n",
        "n_epochs = 5 # Fill in\n",
        "lr=0.01\n",
        "momentum=0.9\n",
        "PATH = './cnn_mnist.pth'\n",
        "mode = 'debug' # set to 'eval' if you want to load the saved model after first run\n",
        "# please keep the mode  'debug' to bypass any error while running the model for the first time\n",
        "\n",
        "# other parameters ...\n",
        "\n",
        "\n",
        "# You don't need the following code, if you can use data from 2.1.1.\n",
        "# You can also use torch built-in functions (torch.utils.data)\n",
        "\n",
        "\n",
        "# If GPU is available select GPU instead of CPU for doing tensor operations\n",
        "device = 'cuda' if torch.cuda.is_available() else 'cpu'"
      ],
      "execution_count": null,
      "outputs": []
    },
    {
      "cell_type": "markdown",
      "metadata": {
        "id": "VUjbKXFMCrUn"
      },
      "source": [
        "### 2.3.2: Data Preprocessing\n"
      ]
    },
    {
      "cell_type": "code",
      "metadata": {
        "id": "sbB9Dtd7CrUn"
      },
      "source": [
        "#\n",
        "#\n",
        "# ------- Your Code -------\n",
        "#\n",
        "# e.g. normalize, flatten input data.\n",
        "# Normalize MNIST and convert dataset to tensor\n",
        "transform = transforms.Compose([transforms.ToTensor(),\n",
        "                                torchvision.transforms.Normalize((0.1307,), (0.3081,))])\n",
        "\n",
        "data_trainval.transform = transform\n",
        "data_test.transform = transform\n",
        "\n",
        "trainloader = torch.utils.data.DataLoader(data_trainval, batch_size_train,\n",
        "                                              shuffle=True, num_workers=0)\n",
        "testloader = torch.utils.data.DataLoader(data_test, batch_size_test,\n",
        "                                              shuffle=True, num_workers=0)\n"
      ],
      "execution_count": null,
      "outputs": []
    },
    {
      "cell_type": "markdown",
      "metadata": {
        "id": "i7tbtIC8CrUn"
      },
      "source": [
        "### 2.3.3: Model\n",
        "\n",
        "Define your model here"
      ]
    },
    {
      "cell_type": "code",
      "metadata": {
        "id": "pb8L4ey6CrUn"
      },
      "source": [
        "class Net(nn.Module):\n",
        "    def __init__(self):\n",
        "        super(Net, self).__init__()\n",
        "        self.conv1 = nn.Conv2d(1, 6, 5)\n",
        "        self.conv2 = nn.Conv2d(6, 16,5)\n",
        "        self.fc1   = nn.Linear(256, 128)\n",
        "        self.fc2   = nn.Linear(128, 10)\n",
        "        \n",
        "\n",
        "    def forward(self, x):\n",
        "        x = F.relu(self.conv1(x))\n",
        "        x = F.max_pool2d(x, 2, 2)\n",
        "        x = F.relu(self.conv2(x))\n",
        "        x = F.max_pool2d(x, 2, 2)\n",
        "        x = x.view(x.size(0), -1)\n",
        "        x = F.relu(self.fc1(x))\n",
        "        x = self.fc2(x)\n",
        "        return x  "
      ],
      "execution_count": null,
      "outputs": []
    },
    {
      "cell_type": "markdown",
      "metadata": {
        "id": "3zBtjMggCrUn"
      },
      "source": [
        "### 2.2.4: Fit Model\n"
      ]
    },
    {
      "cell_type": "code",
      "metadata": {
        "id": "HCrpwBhQCrUn"
      },
      "source": [
        "#\n",
        "#\n",
        "# ------- Your Code -------\n",
        "#\n",
        "# Example: net = Net(), ....\n",
        "\n",
        "net = Net()\n",
        "net = net.to(device)\n",
        "criterion = nn.CrossEntropyLoss()\n",
        "optimizer = optim.SGD(net.parameters(), lr, momentum)"
      ],
      "execution_count": null,
      "outputs": []
    },
    {
      "cell_type": "code",
      "metadata": {
        "id": "oCXdoZ2BCrUn"
      },
      "source": [
        "def test(net):\n",
        "    correct = 0\n",
        "    total = 0\n",
        "    with torch.no_grad():\n",
        "        for data in testloader:\n",
        "            #get the smaples from the test data\n",
        "            images, labels = data\n",
        "            images, labels = images.to(device), labels.to(device)\n",
        "            # get the prediction in outputs\n",
        "            outputs = net(images)\n",
        "            _, predicted = torch.max(outputs.data, 1)\n",
        "            total += labels.size(0)\n",
        "            # measure of correct predictions\n",
        "            correct += (predicted == labels).sum().item()\n",
        "        accuracy = 100 * correct / total \n",
        "    return accuracy"
      ],
      "execution_count": null,
      "outputs": []
    },
    {
      "cell_type": "code",
      "metadata": {
        "id": "P-EYXNigCrUn"
      },
      "source": [
        "# recording values in list for plotting\n",
        "list_loss = [] \n",
        "iteration = [] \n",
        "accuracy = []\n",
        "def train():\n",
        "    print('Training MNIST...')\n",
        "    count = 0\n",
        "    for epoch in range(n_epochs):  # loop over the dataset multiple times\n",
        "        running_loss = 0.0\n",
        "        for i, data in enumerate(trainloader, 0):\n",
        "            # get the inputs; data is a list of [inputs, labels]\n",
        "            inputs, labels = data\n",
        "            inputs, labels = inputs.to(device), labels.to(device)\n",
        "            # zero the parameter gradients\n",
        "            optimizer.zero_grad()\n",
        "    \n",
        "            # forward + backward + optimize\n",
        "            outputs = net(inputs)\n",
        "            loss = criterion(outputs, labels)\n",
        "            loss.backward()\n",
        "            optimizer.step()\n",
        "            count += 1 \n",
        "            # print statistics\n",
        "            running_loss += loss.item()\n",
        "            if i % 300 == 299:    # print every 2000 mini-batches\n",
        "                print('[Epoch %d, Batch %3d] Running loss: %.3f' %\n",
        "                      (epoch + 1, i + 1, running_loss / 300))\n",
        "                list_loss.append(running_loss / 300) #loss data\n",
        "                iteration.append(count)\n",
        "                running_loss = 0.0\n",
        "                accuracy.append(test(net))\n",
        "        # run test after each epoch\n",
        "        print('Accuracy of the test set after %d epoch: %d %%' % (epoch+1,test(net))) \n",
        "    # Save the trained model\n",
        "    torch.save(net.state_dict(), PATH)\n",
        "    print('Finished Training the Model')\n",
        "\n",
        "                \n",
        "torch.save(net.state_dict(), PATH)"
      ],
      "execution_count": null,
      "outputs": []
    },
    {
      "cell_type": "code",
      "metadata": {
        "id": "WWWVC9IxCrUn",
        "colab": {
          "base_uri": "https://localhost:8080/"
        },
        "outputId": "0163f15a-149e-4eae-b914-6a333c97ea61"
      },
      "source": [
        "#\n",
        "#\n",
        "# ------- Your Code -------\n",
        "# Example:\n",
        "# net = Net()\n",
        "# net.load_state_dict(torch.load(\"PATH\"))\n",
        "# Load the saved model to skip training the already trained model\n",
        "\n",
        "if mode == 'debug':\n",
        "    start = time.time()\n",
        "    train()\n",
        "    end = time.time()\n",
        "    print(\"Time used to train CNN:\", end-start)\n",
        "else:\n",
        "    net.load_state_dict(torch.load(PATH))\n",
        "    net.eval()"
      ],
      "execution_count": null,
      "outputs": [
        {
          "output_type": "stream",
          "text": [
            "Training MNIST...\n",
            "[Epoch 1, Batch 300] Running loss: 0.569\n",
            "[Epoch 1, Batch 600] Running loss: 0.122\n",
            "[Epoch 1, Batch 900] Running loss: 0.087\n",
            "Accuracy of the test set after 1 epoch: 98 %\n",
            "[Epoch 2, Batch 300] Running loss: 0.065\n",
            "[Epoch 2, Batch 600] Running loss: 0.054\n",
            "[Epoch 2, Batch 900] Running loss: 0.060\n",
            "Accuracy of the test set after 2 epoch: 98 %\n",
            "[Epoch 3, Batch 300] Running loss: 0.045\n",
            "[Epoch 3, Batch 600] Running loss: 0.043\n",
            "[Epoch 3, Batch 900] Running loss: 0.042\n",
            "Accuracy of the test set after 3 epoch: 98 %\n",
            "[Epoch 4, Batch 300] Running loss: 0.034\n",
            "[Epoch 4, Batch 600] Running loss: 0.033\n",
            "[Epoch 4, Batch 900] Running loss: 0.032\n",
            "Accuracy of the test set after 4 epoch: 98 %\n",
            "[Epoch 5, Batch 300] Running loss: 0.025\n",
            "[Epoch 5, Batch 600] Running loss: 0.027\n",
            "[Epoch 5, Batch 900] Running loss: 0.029\n",
            "Accuracy of the test set after 5 epoch: 98 %\n",
            "Finished Training the Model\n"
          ],
          "name": "stdout"
        }
      ]
    },
    {
      "cell_type": "markdown",
      "metadata": {
        "id": "AtXBJw16CrUn"
      },
      "source": [
        "### 2.2.5: Evaluation\n",
        "\n",
        "Evaluate your model.\n",
        "\n",
        "  * Loss curves: Plot epoch (# passes over training data) and loss\n",
        "  * Accuracy curves: Plot epoch and accuracy over val/test set\n",
        "  * Final numbers: Report final accuracy numbers for your model"
      ]
    },
    {
      "cell_type": "code",
      "metadata": {
        "id": "efBRGeHNCrUn",
        "colab": {
          "base_uri": "https://localhost:8080/",
          "height": 295
        },
        "outputId": "8c869200-282f-404c-eb37-5d6a4bb81c95"
      },
      "source": [
        "# Here plot epoch (# passes over training data) and loss\n",
        "#\n",
        "# ------- Your Code -------\n",
        "#\n",
        "# This graph will be generated in debug mode only\n",
        "if mode == 'debug':\n",
        "    plt.plot(iteration,list_loss)\n",
        "    plt.xlabel(\"Number of iteration\")\n",
        "    plt.ylabel(\"Loss\")\n",
        "    plt.title(\"MNIST: Loss vs Number of iteration\")\n",
        "    plt.show()"
      ],
      "execution_count": null,
      "outputs": [
        {
          "output_type": "display_data",
          "data": {
            "image/png": "[encoded data removed]",
            "text/plain": [
              "<Figure size 432x288 with 1 Axes>"
            ]
          },
          "metadata": {
            "tags": [],
            "needs_background": "light"
          }
        }
      ]
    },
    {
      "cell_type": "code",
      "metadata": {
        "id": "BTXmuC14CrUn",
        "colab": {
          "base_uri": "https://localhost:8080/",
          "height": 295
        },
        "outputId": "75911254-98f1-474b-ffb1-93ac671651a6"
      },
      "source": [
        "# Here plot epoch and accuracy over val/test set\n",
        "#\n",
        "# ------- Your Code -------\n",
        "#\n",
        "# This graph will be generated in debug mode only. As by only loading the model previous list of losses and iterations list \n",
        "# is not getable.\n",
        "\n",
        "if mode == 'debug':\n",
        "    plt.plot(iteration, accuracy)\n",
        "    plt.xlabel(\"Number of iteration\")\n",
        "    plt.ylabel(\"Accuracy\")\n",
        "    plt.title(\"MNIST: Test Accuracy vs Number of iteration\")\n",
        "    plt.show()"
      ],
      "execution_count": null,
      "outputs": [
        {
          "output_type": "display_data",
          "data": {
            "image/png": "[encoded data removed]",
            "text/plain": [
              "<Figure size 432x288 with 1 Axes>"
            ]
          },
          "metadata": {
            "tags": [],
            "needs_background": "light"
          }
        }
      ]
    },
    {
      "cell_type": "code",
      "metadata": {
        "id": "rGUybHsTCrUn",
        "colab": {
          "base_uri": "https://localhost:8080/"
        },
        "outputId": "6c85b50d-2857-42c7-8d19-1e2fc8372a3f"
      },
      "source": [
        "# Here report the score for the best model\n",
        "#\n",
        "# ------- Your Code -------\n",
        "#\n",
        "if mode == 'debug': \n",
        "    print('Accuracy of the prediction of image classification in test data : %d %%' % (accuracy[-1]))\n",
        "else: \n",
        "    start = time.time()\n",
        "    print('Accuracy of the prediction of image classification in test data : %d %%' % (test(net)))\n",
        "    end = time.time()\n",
        "    print(\"Time used to predict data with CNN:\", end-start)"
      ],
      "execution_count": null,
      "outputs": [
        {
          "output_type": "stream",
          "text": [
            "Accuracy of the prediction of image classification in test data : 98 %\n"
          ],
          "name": "stdout"
        }
      ]
    },
    {
      "cell_type": "code",
      "metadata": {
        "id": "vjMmXjaMCrUn",
        "colab": {
          "base_uri": "https://localhost:8080/",
          "height": 207
        },
        "outputId": "3361119d-8c46-4df3-b64f-39cea0c11965"
      },
      "source": [
        "# Visualize the predictions\n",
        "# Example: vis_predictions(x_eval, y_pred, size_of_data)\n",
        "#\n",
        "#\n",
        "# ------- Your Code -------\n",
        "#\n",
        "# Visualize some of the samples from the test data and compare the data with the model's prediction\n",
        "\n",
        "samples = enumerate(testloader)\n",
        "idx, (sample_data, sample_targets) = next(samples)\n",
        "\n",
        "with torch.no_grad():\n",
        "    sample_data = sample_data.to(device)\n",
        "    sample_targets = sample_targets.to(device)\n",
        "    output = net(sample_data)\n",
        "\n",
        "fig = plt.figure()\n",
        "for i in range(6):\n",
        "    plt.subplot(3,3,i+1)\n",
        "    plt.tight_layout()\n",
        "    sample_data = sample_data.cpu()\n",
        "    plt.imshow(sample_data[i][0], cmap='gray', interpolation='none')\n",
        "    plt.title(\"Prediction: {}\".format(\n",
        "    output.data.max(1, keepdim=True)[1][i].item()))\n",
        "    plt.xticks([])\n",
        "    plt.yticks([])"
      ],
      "execution_count": null,
      "outputs": [
        {
          "output_type": "display_data",
          "data": {
            "image/png": "[encoded data removed]",
            "text/plain": [
              "<Figure size 432x288 with 6 Axes>"
            ]
          },
          "metadata": {
            "tags": []
          }
        }
      ]
    },
    {
      "cell_type": "code",
      "metadata": {
        "id": "ON0fSIfLRK9A"
      },
      "source": [
        "# ------ Start Your Code ------\n",
        "# Show destribution of wrong prediceted numbers\n",
        "show_wrong_numbers(y_eval,predictions)\n",
        "# ------ END Your Code --------"
      ],
      "execution_count": null,
      "outputs": []
    },
    {
      "cell_type": "markdown",
      "metadata": {
        "id": "BDrbb--XCrUn"
      },
      "source": [
        "### 2.3.6: Summary\n",
        "\n",
        "\n",
        "The accuracy achieved in the test set after 5 epochs using the CNN model is typically >= 98%. Sometimes it's even 99%! The interesting fact is typically dataset normalization helps to make CNN perform better. However, in the case of MNIST dataset normalization does not have that much influence as with/without normalization around 97% test accuracy is achieved. In addition, batch size has a crucial impact in the training process of MNIST using CNN. Initailly(by a mistake), we used batch size of 4 and got very slow training process with around 80% test accuracy which is less compared to the accuracy of around 97% after 1 epoch of our final batch size of 64. With batch size 4, the model behaved very uncertainly while dropping the accuracy less than 10% and the loss increases dramatically after 3 epochs and after debugging, we changed the batch size 4 to a very promising and reasonable one to 64. Learning rate of .01 and .001 were tried and from the past experience and observing model behavoir, the learning rate of .01 was chosen finally. "
      ]
    },
    {
      "cell_type": "markdown",
      "metadata": {
        "id": "Ex3qQp3JolD1"
      },
      "source": [
        "# 3. Summary (20 points)\n",
        "Now after we finished all three Models KNN (M1), SVM (M2) and the Neural Network (M3) we can compare them to each other by looking at accuracy, speed and complexity. Furthermore we will also have a look\n",
        "\n",
        "### Type of Learning\n",
        "First when starting a new Machine Learn Projekt we have to think about, which Learning Type we use. There is supervised learning, semi-supervised learning and unsupervised learning. In our case we got labeled data. Because of that we choose to use supervised learning models. In general they should perform better then semi-/un- supervised Learning in this particular scenario.\n",
        "\n",
        "### Test Set Accuracy\n",
        "All three models performed very well. But still we can make a ranking out of it,based on the performance on the test data:\n",
        "\n",
        "| Rank | Model | Test Accuracy |\n",
        "|------|-------|---------------| \n",
        "|   1  |  SVM  |     98.34%    |  \n",
        "|   2  |  CNN  |     98%       |  \n",
        "|   3  |  KNN  |     96.91%    |  \n",
        "\n",
        "\n",
        "Just by performance the winner would be the SVM, although the CNN is not far behind. The KNN is 2% behind the other models, but with an accuracy of 96.91% it performs pretty well too despite it is the worst of the three when looking at the models score on test data.\n",
        "\n",
        "### Speed\n",
        "Speed is also an import aspect. The best model is usless if it needs to long long to compute. When we measured the speed of the models on our system we got the following results:\n",
        "\n",
        "| Rank | Model | Traing time | Prediction time |  Total Time  |\n",
        "|------|-------|-------------|-----------------|--------------|\n",
        "|   1  |  CNN  |  108.97 s   |       1.62 s    |   110,59 s   |\n",
        "|   2  |  SVM  |  415.81 s   |     128.78 s    |   544,59 s   |\n",
        "|   3  |  KNN  |   18.85 s   |     817.61 s    |   836,46 s   |\n",
        "\n",
        "So as you can see the CNN is by far the fastest of our three models. The KNN and SVM are both pretty slow although the SVM is still much faster than the KNN. The KNN needs for predicting more time than any of our other models for both, training and predicting. We can also see that training is slower than predicting data for the SVM and the CNN, while for the KNN it is different. The KNN needs much more time to predict data than to train the model. \n",
        "\n",
        "### Implementation effort\n",
        "The Implementation effort for KNN and SVM is with sklearn very easy. We need the 3 core functions init, fit ,predict and most of our work is done. Now we just neet to execute this functions with different parameter. In addition, it did not take much time to implement CNN based model for classifying MNIST. However, it took some time to figure out the reason when model performance was decreasing due to a poor choice of the batch size(4). The task was pretty straightforward using pytorch. We configured the appropiate network & layers with CNN, chose the loss criteria and selected an appropiate optimizer. From the past experience of the domain we could easily choose the other hyperparameters e.g. learning rate, momentum. The model converages right from the beginning with a very decent rate, so 5 epochs were enough to get >= 98% test accuracy and that too within 2-3 minutes. Indeed, it was a good choice to select CNN for digit classification task for the dataset like MNIST.   \n",
        "\n",
        "### Model Complexity\n",
        "We can divide our models in easy and complex models. KNN and SVM belong to the easy models, they use a simple concept to train data and then furthermore to predict other data. Our CNN instead is a deep learning model and so pretty complex. It chains a lot of easy computations to build a quite complex model.\n",
        "\n",
        "But when we were looking at the computation times we encountered that the CNN needed the least time of all models by far when debug_frac was set to 1 although it is the most complex model. The othertwo easy models (KNN and SVM) were pretty slow and used a lot of computation time.\n",
        "\n",
        "### Get even better\n",
        "We have choosen this 3 models because we think they will work the best on this Task. To get even greater results we could try to get more data for training. We simply can shift ever picture one Pixel to the right, left, top or bottom. With this Method we can simply get a 4x bigger Data set. But also would it be possible to rotate the pictures to get more data to train on. These steps could help us to achieve a better Performance.\n",
        "\n",
        "### And the Winner is ...\n",
        "In conclusion we dont have one Winner, we have two: SVM (best accuracy) and NN (fastest but still pretty good accuracy). The KNN is the worst of our models as it takes the most time and also has the worst accuracy."
      ]
    }
  ]
}